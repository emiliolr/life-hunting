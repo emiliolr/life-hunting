{
 "cells": [
  {
   "cell_type": "code",
   "execution_count": 1,
   "id": "718fd2de-8189-4b58-bcd3-9fa9e4d92fc2",
   "metadata": {},
   "outputs": [],
   "source": [
    "import sys\n",
    "sys.path.append('..')\n",
    "\n",
    "import open_clip\n",
    "import torch\n",
    "\n",
    "from utils import get_species_names, format_species_name_CLIP, get_species_embeddings"
   ]
  },
  {
   "cell_type": "markdown",
   "id": "c5e734c5-d48e-4c70-a380-6f576a3b5bf0",
   "metadata": {},
   "source": [
    "# Trying out BioCLIP and thinking about integration\n",
    "- Relevant pages for `pytaxize` (to get taxonomic and common names)\n",
    "   - [classifier class - get hierarchy from ID](https://sckott.github.io/pytaxize/modules/classification.html)\n",
    "   - [taxonomic identifier class - get taxonomic ID from scientific name](https://sckott.github.io/pytaxize/modules/ids.html)\n",
    "   - [`taxize` package documentation in R - original package](https://docs.ropensci.org/taxize/articles/taxize.html)\n",
    "- Relevant pages for BioCLIP\n",
    "   - [`open_clip` package documentation - base package](https://pypi.org/project/open-clip-torch/)\n",
    "   - [BioCLIP model page on HuggingFace](https://huggingface.co/imageomics/bioclip) "
   ]
  },
  {
   "cell_type": "code",
   "execution_count": 2,
   "id": "515f1db4-9a79-478a-8a19-4f3314987928",
   "metadata": {},
   "outputs": [],
   "source": [
    "# Testing out on a toy dataset of scientific names\n",
    "sci_names = ['Loxodonta africana', 'Odocoileus virginianus', 'Pandinus imperator']\n",
    "\n",
    "# Reading in the pre-trained BioCLIP model\n",
    "model, _, preprocess_val = open_clip.create_model_and_transforms('hf-hub:imageomics/bioclip')\n",
    "tokenizer = open_clip.get_tokenizer('hf-hub:imageomics/bioclip')\n",
    "\n",
    "# Extracting the relevant info from ITIS\n",
    "full_names = []\n",
    "for name in sci_names:\n",
    "    full_names.append(get_species_names(name))"
   ]
  },
  {
   "cell_type": "code",
   "execution_count": 12,
   "id": "faf73f08-fbe4-4d6a-9746-6048423de683",
   "metadata": {},
   "outputs": [],
   "source": [
    "# Processing with BioCLIP\n",
    "species_embeddings = get_species_embeddings(full_names, model, tokenizer, full_hierarchy = True, common_name = False)"
   ]
  },
  {
   "cell_type": "code",
   "execution_count": 13,
   "id": "24c84f98-70e1-4526-8475-b634a7a480a0",
   "metadata": {},
   "outputs": [
    {
     "name": "stdout",
     "output_type": "stream",
     "text": [
      "Species Loxodonta africana has embedding of shape (512,)\n",
      "['a photo of Animalia Chordata Mammalia Proboscidea Elephantidae Loxodonta africana']\n",
      "\n",
      "Species Odocoileus virginianus has embedding of shape (512,)\n",
      "['a photo of Animalia Chordata Mammalia Artiodactyla Cervidae Odocoileus virginianus']\n",
      "\n",
      "Species Pandinus imperator has embedding of shape (512,)\n",
      "['a photo of Animalia Arthropoda Euchelicerata Scorpiones Scorpionidae Pandinus imperator']\n",
      "\n"
     ]
    }
   ],
   "source": [
    "# Checking out the embeddings and the name strings that were processed\n",
    "for k, v in species_embeddings.items():\n",
    "    print(f'Species {k} has embedding of shape {v['embedding'].shape}')\n",
    "    print(v['names_used'])\n",
    "    print()"
   ]
  },
  {
   "cell_type": "code",
   "execution_count": 14,
   "id": "2cd0b6ee-2bcd-4676-abdb-9528d0eb1beb",
   "metadata": {},
   "outputs": [
    {
     "name": "stdout",
     "output_type": "stream",
     "text": [
      "0.64558005\n",
      "0.4450716\n"
     ]
    }
   ],
   "source": [
    "# Seeing if elephants are more similar to deer than to scorpions as a basic sanity check\n",
    "print(species_embeddings['Loxodonta africana']['embedding'].dot(species_embeddings['Odocoileus virginianus']['embedding']))\n",
    "print(species_embeddings['Loxodonta africana']['embedding'].dot(species_embeddings['Pandinus imperator']['embedding']))"
   ]
  },
  {
   "cell_type": "code",
   "execution_count": null,
   "id": "3295f766-f844-4fc8-8904-51be1ce48945",
   "metadata": {},
   "outputs": [],
   "source": []
  }
 ],
 "metadata": {
  "kernelspec": {
   "display_name": "Python 3 (ipykernel)",
   "language": "python",
   "name": "python3"
  },
  "language_info": {
   "codemirror_mode": {
    "name": "ipython",
    "version": 3
   },
   "file_extension": ".py",
   "mimetype": "text/x-python",
   "name": "python",
   "nbconvert_exporter": "python",
   "pygments_lexer": "ipython3",
   "version": "3.12.2"
  }
 },
 "nbformat": 4,
 "nbformat_minor": 5
}
