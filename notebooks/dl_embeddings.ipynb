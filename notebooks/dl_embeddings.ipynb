{
 "cells": [
  {
   "cell_type": "code",
   "execution_count": 1,
   "id": "718fd2de-8189-4b58-bcd3-9fa9e4d92fc2",
   "metadata": {},
   "outputs": [],
   "source": [
    "import open_clip\n",
    "import torch\n",
    "\n",
    "from pytaxize import Ids\n",
    "from pytaxize import itis"
   ]
  },
  {
   "cell_type": "markdown",
   "id": "c5e734c5-d48e-4c70-a380-6f576a3b5bf0",
   "metadata": {},
   "source": [
    "# Trying out BioCLIP and thinking about integration\n",
    "- Relevant pages for `pytaxize` (to get taxonomic and common names)\n",
    "   - [classifier class - get hierarchy from ID](https://sckott.github.io/pytaxize/modules/classification.html)\n",
    "   - [taxonomic identifier class - get taxonomic ID from scientific name](https://sckott.github.io/pytaxize/modules/ids.html)\n",
    "   - [`taxize` package documentation in R - original package](https://docs.ropensci.org/taxize/articles/taxize.html)\n",
    "- Relevant pages for BioCLIP\n",
    "   - [`open_clip` package documentation - base package](https://pypi.org/project/open-clip-torch/)\n",
    "   - [BioCLIP model page on HuggingFace](https://huggingface.co/imageomics/bioclip) "
   ]
  },
  {
   "cell_type": "code",
   "execution_count": 2,
   "id": "b43be6c4-71b6-43bc-843f-0eccbcad90b2",
   "metadata": {},
   "outputs": [],
   "source": [
    "# Reading in the pre-trained BioCLIP model\n",
    "model, _, preprocess_val = open_clip.create_model_and_transforms('hf-hub:imageomics/bioclip')\n",
    "tokenizer = open_clip.get_tokenizer('hf-hub:imageomics/bioclip')"
   ]
  },
  {
   "cell_type": "code",
   "execution_count": 5,
   "id": "b2daad5e-5f41-434b-8c30-f2e5c4e81b6e",
   "metadata": {},
   "outputs": [
    {
     "data": {
      "text/plain": [
       "torch.Size([3, 512])"
      ]
     },
     "execution_count": 5,
     "metadata": {},
     "output_type": "execute_result"
    }
   ],
   "source": [
    "# Trying out embedding multiple different species by scientific name only\n",
    "sci_names = ['Loxodonta africana', 'Odocoileus virginianus', 'Pandinus imperator']\n",
    "sci_names_clip = ['a photo of ' + n for n in sci_names]\n",
    "text = tokenizer(sci_names_clip)\n",
    "\n",
    "with torch.no_grad():\n",
    "    text_features = model.encode_text(text)\n",
    "    text_features /= text_features.norm(dim = -1, keepdim = True)\n",
    "\n",
    "text_features.shape"
   ]
  },
  {
   "cell_type": "code",
   "execution_count": 108,
   "id": "cc113938-5c42-4258-b64e-66190088a9dc",
   "metadata": {},
   "outputs": [],
   "source": [
    "def get_species_name_CLIP(scientific_name, full_hierarchy = True, common_name = False):\n",
    "\n",
    "    \"\"\"\n",
    "    A helper function to format species names in the several supported formats for BioCLIP.\n",
    "\n",
    "    Paramaters\n",
    "    ----------\n",
    "\n",
    "    Returns\n",
    "    -------\n",
    "    \n",
    "    \"\"\"\n",
    "    \n",
    "    name_str = 'a photo of'\n",
    "    ranks_to_include = ['Kingdom', 'Phylum', 'Class', 'Order', 'Family', 'Species']\n",
    "\n",
    "    if full_hierarchy or common_name:\n",
    "        tax_id = Ids(scientific_name)\n",
    "        tax_id.itis(type = 'scientific')\n",
    "        \n",
    "        ids = tax_id.extract_ids()\n",
    "        sel_id = int(ids[scientific_name][0]) # it seems like subspecies entries generally come after plain species...\n",
    "        \n",
    "        if full_hierarchy:\n",
    "            tax_hier = itis.hierarchy_full(sel_id, as_dataframe = True)\n",
    "            hier_str = ' '.join(tax_hier[tax_hier['rankName'].isin(ranks_to_include)]['taxonName'].values)\n",
    "    \n",
    "            name_str += ' ' + hier_str\n",
    "            \n",
    "        if common_name:\n",
    "            common = itis.common_names(sel_id)\n",
    "            assert len(common) > 0, f'{scientific_names} has no common names recorded in ITIS'\n",
    "            \n",
    "            com_names = [d['commonName'].lower() for d in common if d['language'] == 'English']\n",
    "            com_names = list(set(com_names))\n",
    "\n",
    "            if not full_hierarchy:\n",
    "                name_strs = [name_str + ' ' + scientific_name + ' with common name ' + name for name in com_names]\n",
    "            else:\n",
    "                name_strs = [name_str + ' with common name ' + name for name in com_names]\n",
    "\n",
    "            return name_strs\n",
    "\n",
    "        return name_str\n",
    "        \n",
    "    return name_str + ' ' + scientific_name"
   ]
  },
  {
   "cell_type": "code",
   "execution_count": 109,
   "id": "515f1db4-9a79-478a-8a19-4f3314987928",
   "metadata": {},
   "outputs": [
    {
     "data": {
      "text/plain": [
       "'a photo of Animalia Chordata Mammalia Proboscidea Elephantidae Loxodonta africana'"
      ]
     },
     "execution_count": 109,
     "metadata": {},
     "output_type": "execute_result"
    }
   ],
   "source": [
    "get_species_name_CLIP(sci_names[0], full_hierarchy = True, common_name = False)"
   ]
  },
  {
   "cell_type": "code",
   "execution_count": null,
   "id": "23f50b77-dd1e-4504-b991-c8e4a405db81",
   "metadata": {},
   "outputs": [],
   "source": []
  }
 ],
 "metadata": {
  "kernelspec": {
   "display_name": "Python 3 (ipykernel)",
   "language": "python",
   "name": "python3"
  },
  "language_info": {
   "codemirror_mode": {
    "name": "ipython",
    "version": 3
   },
   "file_extension": ".py",
   "mimetype": "text/x-python",
   "name": "python",
   "nbconvert_exporter": "python",
   "pygments_lexer": "ipython3",
   "version": "3.12.2"
  }
 },
 "nbformat": 4,
 "nbformat_minor": 5
}
