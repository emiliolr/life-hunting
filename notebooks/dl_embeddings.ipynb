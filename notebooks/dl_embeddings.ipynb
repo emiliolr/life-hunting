{
 "cells": [
  {
   "cell_type": "markdown",
   "id": "cbae6f3f-b885-4d1a-ae95-aa426ed6a9fe",
   "metadata": {},
   "source": [
    "# Setup"
   ]
  },
  {
   "cell_type": "code",
   "execution_count": 1,
   "id": "718fd2de-8189-4b58-bcd3-9fa9e4d92fc2",
   "metadata": {},
   "outputs": [],
   "source": [
    "import os\n",
    "import json\n",
    "import sys\n",
    "sys.path.append('..')\n",
    "\n",
    "import numpy as np\n",
    "\n",
    "import open_clip\n",
    "import torch\n",
    "\n",
    "sys.path.append('../satclip')\n",
    "sys.path.append('../satclip/satclip')\n",
    "import satclip\n",
    "from satclip.load import get_satclip\n",
    "from huggingface_hub import hf_hub_download\n",
    "\n",
    "from utils import get_species_names, format_species_name_CLIP, get_species_embeddings, read_csv_non_utf, count_parameters"
   ]
  },
  {
   "cell_type": "code",
   "execution_count": 2,
   "id": "64e58280-038d-4b5b-860a-53657c88c055",
   "metadata": {},
   "outputs": [],
   "source": [
    "# Loading in general configuration\n",
    "with open('../config.json', 'r') as f:\n",
    "    config = json.load(f)\n",
    "\n",
    "# Getting filepaths\n",
    "gdrive_fp = config['gdrive_path']\n",
    "LIFE_fp = config['LIFE_folder']\n",
    "dataset_fp = config['datasets_path']\n",
    "\n",
    "# Grabbing Benitez-Lopez\n",
    "benitez_lopez2019 = config['indiv_data_paths']['benitez_lopez2019']\n",
    "ben_lop_path = os.path.join(gdrive_fp, LIFE_fp, dataset_fp, benitez_lopez2019)\n",
    "ben_lop2019 = read_csv_non_utf(ben_lop_path)"
   ]
  },
  {
   "cell_type": "markdown",
   "id": "c5e734c5-d48e-4c70-a380-6f576a3b5bf0",
   "metadata": {},
   "source": [
    "# Trying out BioCLIP and thinking about integration\n",
    "- Relevant pages for `pytaxize` (to get taxonomic and common names)\n",
    "   - [classifier class - get hierarchy from ID](https://sckott.github.io/pytaxize/modules/classification.html)\n",
    "   - [taxonomic identifier class - get taxonomic ID from scientific name](https://sckott.github.io/pytaxize/modules/ids.html)\n",
    "   - [`taxize` package documentation in R - original package](https://docs.ropensci.org/taxize/articles/taxize.html)\n",
    "- Relevant pages for BioCLIP\n",
    "   - [`open_clip` package documentation - base package](https://pypi.org/project/open-clip-torch/)\n",
    "   - [BioCLIP model page on HuggingFace](https://huggingface.co/imageomics/bioclip) "
   ]
  },
  {
   "cell_type": "code",
   "execution_count": 3,
   "id": "515f1db4-9a79-478a-8a19-4f3314987928",
   "metadata": {},
   "outputs": [],
   "source": [
    "# Testing out on a toy dataset of scientific names\n",
    "sci_names = ['Loxodonta africana', 'Odocoileus virginianus', 'Pandinus imperator']\n",
    "\n",
    "# Reading in the pre-trained BioCLIP model\n",
    "model, _, preprocess_val = open_clip.create_model_and_transforms('hf-hub:imageomics/bioclip')\n",
    "tokenizer = open_clip.get_tokenizer('hf-hub:imageomics/bioclip')\n",
    "\n",
    "# Extracting the relevant info from ITIS\n",
    "full_names = []\n",
    "for name in sci_names:\n",
    "    full_names.append(get_species_names(name))"
   ]
  },
  {
   "cell_type": "code",
   "execution_count": 4,
   "id": "faf73f08-fbe4-4d6a-9746-6048423de683",
   "metadata": {},
   "outputs": [],
   "source": [
    "# Processing with BioCLIP\n",
    "species_embeddings = get_species_embeddings(full_names, model, tokenizer, full_hierarchy = True, common_name = False)"
   ]
  },
  {
   "cell_type": "code",
   "execution_count": 5,
   "id": "24c84f98-70e1-4526-8475-b634a7a480a0",
   "metadata": {},
   "outputs": [
    {
     "name": "stdout",
     "output_type": "stream",
     "text": [
      "Species Loxodonta africana has embedding of shape (512,)\n",
      "['a photo of Animalia Chordata Mammalia Proboscidea Elephantidae Loxodonta africana']\n",
      "\n",
      "Species Odocoileus virginianus has embedding of shape (512,)\n",
      "['a photo of Animalia Chordata Mammalia Artiodactyla Cervidae Odocoileus virginianus']\n",
      "\n",
      "Species Pandinus imperator has embedding of shape (512,)\n",
      "['a photo of Animalia Arthropoda Euchelicerata Scorpiones Scorpionidae Pandinus imperator']\n",
      "\n"
     ]
    }
   ],
   "source": [
    "# Checking out the embeddings and the name strings that were processed\n",
    "for k, v in species_embeddings.items():\n",
    "    print(f'Species {k} has embedding of shape {v['embedding'].shape}')\n",
    "    print(v['names_used'])\n",
    "    print()"
   ]
  },
  {
   "cell_type": "code",
   "execution_count": 6,
   "id": "2cd0b6ee-2bcd-4676-abdb-9528d0eb1beb",
   "metadata": {},
   "outputs": [
    {
     "name": "stdout",
     "output_type": "stream",
     "text": [
      "0.64558005\n",
      "0.4450716\n"
     ]
    }
   ],
   "source": [
    "# Seeing if elephants are more similar to deer than to scorpions as a basic sanity check\n",
    "print(species_embeddings['Loxodonta africana']['embedding'].dot(species_embeddings['Odocoileus virginianus']['embedding']))\n",
    "print(species_embeddings['Loxodonta africana']['embedding'].dot(species_embeddings['Pandinus imperator']['embedding']))"
   ]
  },
  {
   "cell_type": "markdown",
   "id": "b967a4af-0879-45a1-a5af-938b3f28b07f",
   "metadata": {},
   "source": [
    "## Using `Pytaxize` to resolve taxonomic names"
   ]
  },
  {
   "cell_type": "code",
   "execution_count": 7,
   "id": "79034af8-b15f-4b46-b87a-0220b5a84927",
   "metadata": {},
   "outputs": [],
   "source": [
    "from itertools import chain\n",
    "\n",
    "from pytaxize import gn, Ids, itis"
   ]
  },
  {
   "cell_type": "code",
   "execution_count": 8,
   "id": "28caf0d4-03e7-4dc3-860e-8a850f271233",
   "metadata": {
    "scrolled": true
   },
   "outputs": [],
   "source": [
    "def multi_species_extraction(species_names):\n",
    "    if ', ' in species_names:\n",
    "        species_names = species_names.split(',')\n",
    "        species_names = [s.split('and ') for s in species_names]\n",
    "        species_names = list(chain(*species_names))\n",
    "    elif 'and ' in species_names:   \n",
    "        species_names = species_names.split('and ')\n",
    "    elif 'or ' in species_names:\n",
    "        species_names = species_names.split('or ')\n",
    "    else:\n",
    "        return [species_names.replace('spp', '*').replace('.', '')]\n",
    "\n",
    "    # Removing whitespace and empty strings\n",
    "    species_names = [s.strip() for s in species_names]\n",
    "    species_names = [s for s in species_names if s != '']\n",
    "\n",
    "    # Special cases for fixing the binomials\n",
    "    if species_names[0] == 'Sciurus spadiceus':\n",
    "        species_names = ['Sciurus spadiceus', 'Sciurus sanborni']\n",
    "    elif species_names[0] == 'Saguinus mystax':\n",
    "        species_names = ['Saguinus mystax', 'Saguinus imperator']\n",
    "    elif species_names[0] == 'Potos flavus':\n",
    "        species_names = ['Potos flavus', 'Bassaricyon *']\n",
    "    \n",
    "    # General case\n",
    "    else:\n",
    "        for i in range(1, len(species_names)):\n",
    "            if (species_names[i][0] == species_names[0][0]) and (species_names[i][1] == '.'):\n",
    "                new_name = species_names[i].split(' ')[1]\n",
    "                new_name = species_names[0].split(' ')[0] + ' ' + new_name\n",
    "    \n",
    "                species_names[i] = new_name\n",
    "\n",
    "    # Removing any unnecessary periods\n",
    "    species_names = [s.replace('.', '') for s in species_names]\n",
    "    \n",
    "    return species_names\n",
    "\n",
    "# Grabbing all unique species\n",
    "ben_lop2019_species = ben_lop2019['Species'].apply(multi_species_extraction)\n",
    "ben_lop2019_species = set(chain(*list(ben_lop2019_species)))\n",
    "\n",
    "# Resolving scientific names\n",
    "full_species = [s for s in ben_lop2019_species if '*' not in s]\n",
    "only_genus = [s for s in ben_lop2019_species if '*' in s]\n",
    "\n",
    "species_resolved = gn.resolve(full_species, best_match_only = True, source = [3])"
   ]
  },
  {
   "cell_type": "code",
   "execution_count": 18,
   "id": "6f32a2bb-e9ec-44b9-bc93-7e76dfe79025",
   "metadata": {},
   "outputs": [
    {
     "data": {
      "text/plain": [
       "['Oryzomys *', 'Aotus *', 'Proechimys *', 'Genetta *', 'Sciurus * (small)']"
      ]
     },
     "execution_count": 18,
     "metadata": {},
     "output_type": "execute_result"
    }
   ],
   "source": [
    "only_genus[ : 5]"
   ]
  },
  {
   "cell_type": "code",
   "execution_count": 19,
   "id": "7790172d-1a0b-4ea7-a129-d0d0f20963aa",
   "metadata": {},
   "outputs": [],
   "source": [
    "ex_genus = only_genus[0].split(' ')[0]\n",
    "tax_id = Ids(ex_genus)\n",
    "tax_id.itis(type = 'scientific')\n",
    "ids = tax_id.extract_ids()\n",
    "sel_id = int(ids[ex_genus][0])"
   ]
  },
  {
   "cell_type": "code",
   "execution_count": 27,
   "id": "23b0db03-fd82-422b-97cf-d653ccca3fc3",
   "metadata": {},
   "outputs": [
    {
     "data": {
      "text/plain": [
       "{'Kingdom': 'Animalia',\n",
       " 'Phylum': 'Chordata',\n",
       " 'Class': 'Mammalia',\n",
       " 'Order': 'Rodentia',\n",
       " 'Family': 'Cricetidae',\n",
       " 'Genus': 'Oryzomys',\n",
       " 'scientific_name': 'Oryzomys spp',\n",
       " 'Species': 'spp',\n",
       " 'common_names': []}"
      ]
     },
     "execution_count": 27,
     "metadata": {},
     "output_type": "execute_result"
    }
   ],
   "source": [
    "genus_names = get_species_names(itis_id = sel_id)\n",
    "genus_names['scientific_name'] = ex_genus + ' spp'\n",
    "genus_names['Species'] = 'spp'\n",
    "genus_names['common_names'] = []\n",
    "genus_names"
   ]
  },
  {
   "cell_type": "code",
   "execution_count": 9,
   "id": "f3e57702-764d-4445-a92f-5fff3426f92f",
   "metadata": {
    "scrolled": true
   },
   "outputs": [],
   "source": [
    "# Getting the species ID for ITIS\n",
    "species_itis = {}\n",
    "for s, s_dict in zip(full_species, species_resolved):\n",
    "    if s == 'Smutsia gigantea':\n",
    "        tax_id = Ids('Manis gigantea') # this is the correct entry for the giant pangolin\n",
    "        tax_id.itis(type = 'scientific')\n",
    "        ids = tax_id.extract_ids()\n",
    "        sel_id = int(ids['Manis gigantea'][0])\n",
    "\n",
    "        species_itis[s] = sel_id\n",
    "    else:\n",
    "        s_dict = s_dict[0]\n",
    "        species_itis[s] = int(s_dict['current_taxon_id']) if 'current_taxon_id' in s_dict.keys() else int(s_dict['taxon_id'])"
   ]
  },
  {
   "cell_type": "code",
   "execution_count": 15,
   "id": "6d288022-2df0-4c06-b67e-70936525571c",
   "metadata": {},
   "outputs": [
    {
     "name": "stdout",
     "output_type": "stream",
     "text": [
      "Alouatta belzebul\n",
      "Chaetophractus vellerosus\n",
      "Procolobus verus\n",
      "Pan troglodytes\n",
      "Sciurus ignitus\n",
      "Galagoides demidovii\n",
      "Tamandua tetradactyla\n",
      "Conepatus semistriatus\n",
      "Cephalophus dorsalis\n",
      "Cercocebus atys\n",
      "Phacochoerus africanus\n",
      "Mazama gouazoubira\n"
     ]
    }
   ],
   "source": [
    "# A proof-of-concept for querying ITIS for full taxonomic hierachy using our existing function\n",
    "full_names = []\n",
    "i = 0\n",
    "for species, itis_id in species_itis.items():\n",
    "    \n",
    "    if i > 10:\n",
    "        break\n",
    "        \n",
    "    full_names.append(get_species_names(species, itis_id))\n",
    "    i += 1"
   ]
  },
  {
   "cell_type": "code",
   "execution_count": 14,
   "id": "07de847c-55b3-4ace-9e93-17ca59ea4815",
   "metadata": {},
   "outputs": [
    {
     "data": {
      "text/plain": [
       "[{'scientific_name': 'Alouatta belzebul',\n",
       "  'Kingdom': 'Animalia',\n",
       "  'Phylum': 'Chordata',\n",
       "  'Class': 'Mammalia',\n",
       "  'Order': 'Primates',\n",
       "  'Family': 'Atelidae',\n",
       "  'Genus': 'Alouatta',\n",
       "  'Species': 'belzebul',\n",
       "  'common_names': ['red-handed howler']},\n",
       " {'scientific_name': 'Chaetophractus vellerosus',\n",
       "  'Kingdom': 'Animalia',\n",
       "  'Phylum': 'Chordata',\n",
       "  'Class': 'Mammalia',\n",
       "  'Order': 'Cingulata',\n",
       "  'Family': 'Chlamyphoridae',\n",
       "  'Genus': 'Chaetophractus',\n",
       "  'Species': 'vellerosus',\n",
       "  'common_names': ['screaming hairy armadillo']},\n",
       " {'scientific_name': 'Procolobus verus',\n",
       "  'Kingdom': 'Animalia',\n",
       "  'Phylum': 'Chordata',\n",
       "  'Class': 'Mammalia',\n",
       "  'Order': 'Primates',\n",
       "  'Family': 'Cercopithecidae',\n",
       "  'Genus': 'Procolobus',\n",
       "  'Species': 'verus',\n",
       "  'common_names': ['olive colobus']},\n",
       " {'scientific_name': 'Pan troglodytes',\n",
       "  'Kingdom': 'Animalia',\n",
       "  'Phylum': 'Chordata',\n",
       "  'Class': 'Mammalia',\n",
       "  'Order': 'Primates',\n",
       "  'Family': 'Hominidae',\n",
       "  'Genus': 'Pan',\n",
       "  'Species': 'troglodytes',\n",
       "  'common_names': ['chimpanzee', 'common chimpanzee']},\n",
       " {'scientific_name': 'Sciurus ignitus',\n",
       "  'Kingdom': 'Animalia',\n",
       "  'Phylum': 'Chordata',\n",
       "  'Class': 'Mammalia',\n",
       "  'Order': 'Rodentia',\n",
       "  'Family': 'Sciuridae',\n",
       "  'Genus': 'Sciurus',\n",
       "  'Species': 'ignitus',\n",
       "  'common_names': ['bolivian squirrel']},\n",
       " {'scientific_name': 'Galagoides demidovii',\n",
       "  'Kingdom': 'Animalia',\n",
       "  'Phylum': 'Chordata',\n",
       "  'Class': 'Mammalia',\n",
       "  'Order': 'Primates',\n",
       "  'Family': 'Galagidae',\n",
       "  'Genus': 'Galagoides',\n",
       "  'Species': 'demidoff',\n",
       "  'common_names': [\"demidoff's dwarf galago\", \"prince demidoff's bushbaby\"]},\n",
       " {'scientific_name': 'Tamandua tetradactyla',\n",
       "  'Kingdom': 'Animalia',\n",
       "  'Phylum': 'Chordata',\n",
       "  'Class': 'Mammalia',\n",
       "  'Order': 'Pilosa',\n",
       "  'Family': 'Myrmecophagidae',\n",
       "  'Genus': 'Tamandua',\n",
       "  'Species': 'tetradactyla',\n",
       "  'common_names': ['southern tamandua',\n",
       "   'yellow tamandua',\n",
       "   'collared anteater',\n",
       "   'lesser anteater']},\n",
       " {'scientific_name': 'Conepatus semistriatus',\n",
       "  'Kingdom': 'Animalia',\n",
       "  'Phylum': 'Chordata',\n",
       "  'Class': 'Mammalia',\n",
       "  'Order': 'Carnivora',\n",
       "  'Family': 'Mephitidae',\n",
       "  'Genus': 'Conepatus',\n",
       "  'Species': 'semistriatus',\n",
       "  'common_names': ['striped hog-nosed skunk']},\n",
       " {'scientific_name': 'Cephalophus dorsalis',\n",
       "  'Kingdom': 'Animalia',\n",
       "  'Phylum': 'Chordata',\n",
       "  'Class': 'Mammalia',\n",
       "  'Order': 'Artiodactyla',\n",
       "  'Family': 'Bovidae',\n",
       "  'Genus': 'Cephalophus',\n",
       "  'Species': 'dorsalis',\n",
       "  'common_names': ['bay duiker']},\n",
       " {'scientific_name': 'Cercocebus atys',\n",
       "  'Kingdom': 'Animalia',\n",
       "  'Phylum': 'Chordata',\n",
       "  'Class': 'Mammalia',\n",
       "  'Order': 'Primates',\n",
       "  'Family': 'Cercopithecidae',\n",
       "  'Genus': 'Cercocebus',\n",
       "  'Species': 'atys',\n",
       "  'common_names': ['sooty mangabey']},\n",
       " {'scientific_name': 'Phacochoerus africanus',\n",
       "  'Kingdom': 'Animalia',\n",
       "  'Phylum': 'Chordata',\n",
       "  'Class': 'Mammalia',\n",
       "  'Order': 'Artiodactyla',\n",
       "  'Family': 'Suidae',\n",
       "  'Genus': 'Phacochoerus',\n",
       "  'Species': 'africanus',\n",
       "  'common_names': ['common wart-hog', 'warthog']}]"
      ]
     },
     "execution_count": 14,
     "metadata": {},
     "output_type": "execute_result"
    }
   ],
   "source": [
    "full_names"
   ]
  },
  {
   "cell_type": "markdown",
   "id": "38cb7134-83ea-4df1-a330-a8884f48c58e",
   "metadata": {},
   "source": [
    "# Trying out SatCLIP for location embeddings\n",
    "\n",
    "It's a little unclear if we want to use the model with $L=50$ or $L=10$; as mentioned in the paper, the latter is better for large-scale patterns and spatial generalization, while the former is better at capturing fine-grained patterns."
   ]
  },
  {
   "cell_type": "code",
   "execution_count": 6,
   "id": "0d6d7f51-e065-41a2-a9a9-60cf031df582",
   "metadata": {
    "scrolled": true
   },
   "outputs": [
    {
     "name": "stdout",
     "output_type": "stream",
     "text": [
      "using pretrained moco resnet50\n"
     ]
    }
   ],
   "source": [
    "# Loading a pre-trained SatCLIP model\n",
    "device = \"cuda\" if torch.cuda.is_available() else \"cpu\"\n",
    "\n",
    "#  this only loads location encoder by default\n",
    "model = get_satclip(\n",
    "    hf_hub_download(\"microsoft/SatCLIP-ResNet50-L40\", \"satclip-resnet50-l40.ckpt\"),\n",
    "    device = device,\n",
    ")\n",
    "model.eval();"
   ]
  },
  {
   "cell_type": "code",
   "execution_count": 7,
   "id": "bc52db6a-e656-4e59-938d-6759e84d9b11",
   "metadata": {},
   "outputs": [
    {
     "data": {
      "text/plain": [
       "1213696"
      ]
     },
     "execution_count": 7,
     "metadata": {},
     "output_type": "execute_result"
    }
   ],
   "source": [
    "# Checking out the size of the model - seems relatively small!\n",
    "count_parameters(model)"
   ]
  },
  {
   "cell_type": "code",
   "execution_count": 8,
   "id": "70394230-3540-46ac-8c3a-53740ccf2f7f",
   "metadata": {},
   "outputs": [
    {
     "data": {
      "text/plain": [
       "torch.Size([3281, 2])"
      ]
     },
     "execution_count": 8,
     "metadata": {},
     "output_type": "execute_result"
    }
   ],
   "source": [
    "# Loading Benitez-Lopez and extracting coordinates - inputs are (longitude, latitude)\n",
    "coords = torch.from_numpy(ben_lop2019[['X', 'Y']].values).to(device)\n",
    "coords.shape"
   ]
  },
  {
   "cell_type": "code",
   "execution_count": 9,
   "id": "71e404e5-32b9-4840-8c47-eab4f05fa50e",
   "metadata": {},
   "outputs": [
    {
     "data": {
      "text/plain": [
       "torch.Size([3281, 256])"
      ]
     },
     "execution_count": 9,
     "metadata": {},
     "output_type": "execute_result"
    }
   ],
   "source": [
    "# Processing using the pre-trained location embedder from SatCLIP\n",
    "with torch.no_grad():\n",
    "    coord_emb = model(coords).detach().cpu() # these don't seem to be normalized\n",
    "\n",
    "coord_emb.shape # embedding shape is 256"
   ]
  },
  {
   "cell_type": "code",
   "execution_count": null,
   "id": "3d5bfa2c-d464-4d2c-bd8d-77266ae53f2f",
   "metadata": {},
   "outputs": [],
   "source": []
  }
 ],
 "metadata": {
  "kernelspec": {
   "display_name": "Python 3 (ipykernel)",
   "language": "python",
   "name": "python3"
  },
  "language_info": {
   "codemirror_mode": {
    "name": "ipython",
    "version": 3
   },
   "file_extension": ".py",
   "mimetype": "text/x-python",
   "name": "python",
   "nbconvert_exporter": "python",
   "pygments_lexer": "ipython3",
   "version": "3.12.2"
  }
 },
 "nbformat": 4,
 "nbformat_minor": 5
}
