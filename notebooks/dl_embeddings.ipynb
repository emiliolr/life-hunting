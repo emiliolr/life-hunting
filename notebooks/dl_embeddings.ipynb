{
 "cells": [
  {
   "cell_type": "markdown",
   "id": "cbae6f3f-b885-4d1a-ae95-aa426ed6a9fe",
   "metadata": {},
   "source": [
    "# Setup"
   ]
  },
  {
   "cell_type": "code",
   "execution_count": 96,
   "id": "718fd2de-8189-4b58-bcd3-9fa9e4d92fc2",
   "metadata": {},
   "outputs": [],
   "source": [
    "import os\n",
    "import json\n",
    "import sys\n",
    "sys.path.append('..')\n",
    "\n",
    "import numpy as np\n",
    "import pandas as pd\n",
    "import matplotlib.pyplot as plt\n",
    "\n",
    "import open_clip\n",
    "import torch\n",
    "\n",
    "sys.path.append('../satclip')\n",
    "sys.path.append('../satclip/satclip')\n",
    "import satclip\n",
    "from satclip.load import get_satclip\n",
    "from huggingface_hub import hf_hub_download\n",
    "\n",
    "from sklearn.decomposition import PCA\n",
    "from sklearn.preprocessing import StandardScaler\n",
    "\n",
    "from utils import get_species_names, format_species_name_CLIP, get_species_embeddings, read_csv_non_utf, \\\n",
    "                  count_parameters, get_train_test_split, preprocess_data, get_zero_nonzero_datasets\n",
    "from species_embeddings import multi_species_extraction"
   ]
  },
  {
   "cell_type": "code",
   "execution_count": 3,
   "id": "64e58280-038d-4b5b-860a-53657c88c055",
   "metadata": {},
   "outputs": [],
   "source": [
    "# Loading in general configuration\n",
    "with open('../config.json', 'r') as f:\n",
    "    config = json.load(f)\n",
    "\n",
    "# Getting filepaths\n",
    "gdrive_fp = config['gdrive_path']\n",
    "LIFE_fp = config['LIFE_folder']\n",
    "dataset_fp = config['datasets_path']\n",
    "\n",
    "# Grabbing Benitez-Lopez\n",
    "benitez_lopez2019 = config['indiv_data_paths']['benitez_lopez2019']\n",
    "ben_lop_path = os.path.join(gdrive_fp, LIFE_fp, dataset_fp, benitez_lopez2019)\n",
    "ben_lop2019 = read_csv_non_utf(ben_lop_path)"
   ]
  },
  {
   "cell_type": "markdown",
   "id": "c5e734c5-d48e-4c70-a380-6f576a3b5bf0",
   "metadata": {},
   "source": [
    "# Trying out BioCLIP and thinking about integration\n",
    "- Relevant pages for BioCLIP\n",
    "   - [`open_clip` package documentation - base package](https://pypi.org/project/open-clip-torch/)\n",
    "   - [BioCLIP model page on HuggingFace](https://huggingface.co/imageomics/bioclip) "
   ]
  },
  {
   "cell_type": "code",
   "execution_count": 3,
   "id": "515f1db4-9a79-478a-8a19-4f3314987928",
   "metadata": {},
   "outputs": [],
   "source": [
    "# Testing out on a toy dataset of scientific names\n",
    "sci_names = ['Loxodonta africana', 'Odocoileus virginianus', 'Pandinus imperator']\n",
    "\n",
    "# Reading in the pre-trained BioCLIP model\n",
    "model, _, preprocess_val = open_clip.create_model_and_transforms('hf-hub:imageomics/bioclip')\n",
    "tokenizer = open_clip.get_tokenizer('hf-hub:imageomics/bioclip')\n",
    "\n",
    "# Extracting the relevant info from ITIS\n",
    "full_names = []\n",
    "for name in sci_names:\n",
    "    full_names.append(get_species_names(name))"
   ]
  },
  {
   "cell_type": "code",
   "execution_count": 4,
   "id": "faf73f08-fbe4-4d6a-9746-6048423de683",
   "metadata": {},
   "outputs": [],
   "source": [
    "# Processing with BioCLIP\n",
    "species_embeddings = get_species_embeddings(full_names, model, tokenizer, full_hierarchy = True, common_name = False)"
   ]
  },
  {
   "cell_type": "code",
   "execution_count": 5,
   "id": "24c84f98-70e1-4526-8475-b634a7a480a0",
   "metadata": {},
   "outputs": [
    {
     "name": "stdout",
     "output_type": "stream",
     "text": [
      "Species Loxodonta africana has embedding of shape (512,)\n",
      "['a photo of Animalia Chordata Mammalia Proboscidea Elephantidae Loxodonta africana']\n",
      "\n",
      "Species Odocoileus virginianus has embedding of shape (512,)\n",
      "['a photo of Animalia Chordata Mammalia Artiodactyla Cervidae Odocoileus virginianus']\n",
      "\n",
      "Species Pandinus imperator has embedding of shape (512,)\n",
      "['a photo of Animalia Arthropoda Euchelicerata Scorpiones Scorpionidae Pandinus imperator']\n",
      "\n"
     ]
    }
   ],
   "source": [
    "# Checking out the embeddings and the name strings that were processed\n",
    "for k, v in species_embeddings.items():\n",
    "    print(f'Species {k} has embedding of shape {v['embedding'].shape}')\n",
    "    print(v['names_used'])\n",
    "    print()"
   ]
  },
  {
   "cell_type": "code",
   "execution_count": 6,
   "id": "2cd0b6ee-2bcd-4676-abdb-9528d0eb1beb",
   "metadata": {},
   "outputs": [
    {
     "name": "stdout",
     "output_type": "stream",
     "text": [
      "0.64558005\n",
      "0.4450716\n"
     ]
    }
   ],
   "source": [
    "# Seeing if elephants are more similar to deer than to scorpions as a basic sanity check\n",
    "print(species_embeddings['Loxodonta africana']['embedding'].dot(species_embeddings['Odocoileus virginianus']['embedding']))\n",
    "print(species_embeddings['Loxodonta africana']['embedding'].dot(species_embeddings['Pandinus imperator']['embedding']))"
   ]
  },
  {
   "cell_type": "markdown",
   "id": "66474bf5-338e-4ab9-b9d0-e81c99dbf00c",
   "metadata": {},
   "source": [
    "## Quality control on pre-computed species embeddings"
   ]
  },
  {
   "cell_type": "code",
   "execution_count": 64,
   "id": "76086fd8-02b1-4bc9-a4ca-6a7a0b9e916a",
   "metadata": {},
   "outputs": [],
   "source": [
    "# Reading in the saved embeddings\n",
    "with open('../embeddings/bioclip_embeddings.json', 'r') as f:\n",
    "    emb = json.load(f)"
   ]
  },
  {
   "cell_type": "code",
   "execution_count": 65,
   "id": "2e5ebb2e-7d8e-42a7-9ca6-6757480e2a3d",
   "metadata": {
    "scrolled": true
   },
   "outputs": [],
   "source": [
    "# Checking that all records are mammals\n",
    "for name, dic in emb.items():\n",
    "    for full_name in dic['names_used']:\n",
    "        if 'Mammalia' not in full_name:\n",
    "            print(name, full_name)"
   ]
  },
  {
   "cell_type": "code",
   "execution_count": 173,
   "id": "0a877af0-aa7b-4005-b21e-4e960395398b",
   "metadata": {},
   "outputs": [
    {
     "name": "stdout",
     "output_type": "stream",
     "text": [
      "84\n"
     ]
    },
    {
     "data": {
      "image/png": "[encoded data removed]",
      "text/plain": [
       "<Figure size 640x480 with 1 Axes>"
      ]
     },
     "metadata": {},
     "output_type": "display_data"
    }
   ],
   "source": [
    "# BioCLIP: performing PCA on a toy train set\n",
    "idxs = get_train_test_split(len(ben_lop2019))\n",
    "train_data = mean_embs[idxs['train'], : ]\n",
    "test_data = mean_embs[idxs['test'], : ]\n",
    "\n",
    "scaler = StandardScaler()\n",
    "train_data = scaler.fit_transform(train_data)\n",
    "test_data = scaler.transform(test_data)\n",
    "\n",
    "pca = PCA()\n",
    "train_pca = pca.fit_transform(train_data)\n",
    "test_pcs = pca.transform(test_data)\n",
    "\n",
    "# Plotting explained variance\n",
    "var_cutoff = 0.9\n",
    "exp_var = pca.explained_variance_ratio_.cumsum()\n",
    "idx_cutoff = np.argmax(exp_var > var_cutoff)\n",
    "print(idx_cutoff)\n",
    "\n",
    "plt.plot(exp_var, zorder = 0)\n",
    "plt.scatter(idx_cutoff, var_cutoff, color = 'red', edgecolor = 'black', zorder = 100);"
   ]
  },
  {
   "cell_type": "markdown",
   "id": "61799086-6566-414b-bcc4-2d539720f010",
   "metadata": {
    "jp-MarkdownHeadingCollapsed": true
   },
   "source": [
    "# Misc. Testing"
   ]
  },
  {
   "cell_type": "code",
   "execution_count": 184,
   "id": "dc874cf2-4681-4777-8ea4-487d459afb89",
   "metadata": {},
   "outputs": [
    {
     "data": {
      "text/plain": [
       "0"
      ]
     },
     "execution_count": 184,
     "metadata": {},
     "output_type": "execute_result"
    }
   ],
   "source": [
    "# Checking out of context if the reordeing method post-PCA works as intended in \"get_all_embeddings\"\n",
    "np.random.seed(1693)\n",
    "\n",
    "a = pd.DataFrame(np.random.randn(len(ben_lop2019), 10))\n",
    "train = a.iloc[idxs['train']].values\n",
    "test = a.iloc[idxs['test']].values\n",
    "\n",
    "a_prime = np.vstack((train[ : , : 3], test[ : , : 3]))\n",
    "\n",
    "cols = [f'TESTING_{i}' for i in range(a_prime.shape[1])]\n",
    "a_pd = pd.DataFrame(a_prime, columns = cols)\n",
    "\n",
    "a_pd.index = list(idxs['train']) + list(idxs['test'])\n",
    "a_pd = a_pd.sort_index()\n",
    "\n",
    "(a_pd.values != a.iloc[ : ,  : 3]).sum(axis = 0).sum()"
   ]
  },
  {
   "cell_type": "code",
   "execution_count": null,
   "id": "36d19c77-b829-40a5-a597-27a5cc7565ce",
   "metadata": {},
   "outputs": [],
   "source": []
  }
 ],
 "metadata": {
  "kernelspec": {
   "display_name": "Python 3 (ipykernel)",
   "language": "python",
   "name": "python3"
  },
  "language_info": {
   "codemirror_mode": {
    "name": "ipython",
    "version": 3
   },
   "file_extension": ".py",
   "mimetype": "text/x-python",
   "name": "python",
   "nbconvert_exporter": "python",
   "pygments_lexer": "ipython3",
   "version": "3.12.2"
  }
 },
 "nbformat": 4,
 "nbformat_minor": 5
}
