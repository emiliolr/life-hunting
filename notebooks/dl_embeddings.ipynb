{
 "cells": [
  {
   "cell_type": "code",
   "execution_count": 8,
   "id": "718fd2de-8189-4b58-bcd3-9fa9e4d92fc2",
   "metadata": {},
   "outputs": [],
   "source": [
    "import open_clip\n",
    "import torch\n",
    "\n",
    "import pytaxize"
   ]
  },
  {
   "cell_type": "code",
   "execution_count": 9,
   "id": "947d5afc-fa28-4b32-88d6-ff96783ac00a",
   "metadata": {},
   "outputs": [
    {
     "data": {
      "text/plain": [
       "'0.7.0'"
      ]
     },
     "execution_count": 9,
     "metadata": {},
     "output_type": "execute_result"
    }
   ],
   "source": [
    "pytaxize.__version__"
   ]
  },
  {
   "cell_type": "code",
   "execution_count": 11,
   "id": "7b97aa40-618f-4c5b-9f70-a699dee19bf7",
   "metadata": {},
   "outputs": [
    {
     "ename": "AttributeError",
     "evalue": "module 'pytaxize' has no attribute 'Classification'",
     "output_type": "error",
     "traceback": [
      "\u001b[0;31m---------------------------------------------------------------------------\u001b[0m",
      "\u001b[0;31mAttributeError\u001b[0m                            Traceback (most recent call last)",
      "Cell \u001b[0;32mIn[11], line 1\u001b[0m\n\u001b[0;32m----> 1\u001b[0m \u001b[43mpytaxize\u001b[49m\u001b[38;5;241;43m.\u001b[39;49m\u001b[43mClassification\u001b[49m\n",
      "\u001b[0;31mAttributeError\u001b[0m: module 'pytaxize' has no attribute 'Classification'"
     ]
    }
   ],
   "source": [
    "pytaxize.Classification"
   ]
  },
  {
   "cell_type": "markdown",
   "id": "c5e734c5-d48e-4c70-a380-6f576a3b5bf0",
   "metadata": {},
   "source": [
    "# Trying out BioCLIP and thinking about integration\n",
    "- Relevant pages for `pytaxize` (to get taxonomic and common names)\n",
    "   - [classifier class - get hierarchy from ID](https://sckott.github.io/pytaxize/modules/classification.html)\n",
    "   - [taxonomic identifier class - get taxonomic ID from scientific name](https://sckott.github.io/pytaxize/modules/ids.html)\n",
    "   - [`taxize` package documentation in R - original package](https://docs.ropensci.org/taxize/articles/taxize.html)\n",
    "- Relevant pages for BioCLIP\n",
    "   - [`open_clip` package documentation - base package](https://pypi.org/project/open-clip-torch/)\n",
    "   - [BioCLIP model page on HuggingFace](https://huggingface.co/imageomics/bioclip) "
   ]
  },
  {
   "cell_type": "code",
   "execution_count": 3,
   "id": "b43be6c4-71b6-43bc-843f-0eccbcad90b2",
   "metadata": {},
   "outputs": [],
   "source": [
    "# Reading in the pre-trained BioCLIP model\n",
    "model, _, preprocess_val = open_clip.create_model_and_transforms('hf-hub:imageomics/bioclip')\n",
    "tokenizer = open_clip.get_tokenizer('hf-hub:imageomics/bioclip')"
   ]
  },
  {
   "cell_type": "code",
   "execution_count": 4,
   "id": "b2daad5e-5f41-434b-8c30-f2e5c4e81b6e",
   "metadata": {},
   "outputs": [
    {
     "data": {
      "text/plain": [
       "torch.Size([3, 512])"
      ]
     },
     "execution_count": 4,
     "metadata": {},
     "output_type": "execute_result"
    }
   ],
   "source": [
    "# Trying out embedding multiple different species by scientific name only\n",
    "sci_names = ['Loxodonta africana', 'Odocoileus virginianus', 'Pandinus imperator']\n",
    "sci_names = ['a photo of ' + n for n in sci_names]\n",
    "text = tokenizer(sci_names)\n",
    "\n",
    "with torch.no_grad():\n",
    "    text_features = model.encode_text(text)\n",
    "    text_features /= text_features.norm(dim = -1, keepdim = True)\n",
    "\n",
    "text_features.shape"
   ]
  },
  {
   "cell_type": "code",
   "execution_count": null,
   "id": "11825730-b2a8-47a9-979f-7f60e7c09ea7",
   "metadata": {},
   "outputs": [],
   "source": [
    "# Trying out pytaxize for grabbing full taxonomic name, common names, etc. from scientific name (Genus species)\n"
   ]
  }
 ],
 "metadata": {
  "kernelspec": {
   "display_name": "Python 3 (ipykernel)",
   "language": "python",
   "name": "python3"
  },
  "language_info": {
   "codemirror_mode": {
    "name": "ipython",
    "version": 3
   },
   "file_extension": ".py",
   "mimetype": "text/x-python",
   "name": "python",
   "nbconvert_exporter": "python",
   "pygments_lexer": "ipython3",
   "version": "3.12.2"
  }
 },
 "nbformat": 4,
 "nbformat_minor": 5
}
