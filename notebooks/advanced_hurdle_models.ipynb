{
 "cells": [
  {
   "cell_type": "markdown",
   "id": "215f3d15-d2b9-47bf-8f24-6b591a1232a1",
   "metadata": {},
   "source": [
    "# Setup"
   ]
  },
  {
   "cell_type": "code",
   "execution_count": 1,
   "id": "0b6cc585-4147-42bb-9a22-e6deaa6d8d3d",
   "metadata": {},
   "outputs": [],
   "source": [
    "import json\n",
    "import os\n",
    "import sys\n",
    "import pickle\n",
    "import warnings\n",
    "\n",
    "sys.path.append('..')\n",
    "\n",
    "import pandas as pd\n",
    "import numpy as np\n",
    "import matplotlib.pyplot as plt\n",
    "\n",
    "from sklearn.linear_model import ElasticNet, ElasticNetCV, LogisticRegression, LogisticRegressionCV\n",
    "from sklearn.metrics import classification_report, roc_auc_score, balanced_accuracy_score\n",
    "from sklearn.metrics import mean_absolute_error, root_mean_squared_error, mean_absolute_percentage_error, median_absolute_error\n",
    "\n",
    "from utils import read_csv_non_utf, preprocess_data, get_zero_nonzero_datasets, test_thresholds, ratios_to_DI_cats, \\\n",
    "                  get_train_test_split\n",
    "from model_utils import HurdleModelEstimator\n",
    "from plotting_utils import plot_ratio_confusion_matrix, plot_model_coefficients"
   ]
  },
  {
   "cell_type": "code",
   "execution_count": 2,
   "id": "ddd77a82-2430-4493-8311-b396be70ad92",
   "metadata": {},
   "outputs": [],
   "source": [
    "# Loading in general configuration\n",
    "with open('../config.json', 'r') as f:\n",
    "    config = json.load(f)\n",
    "\n",
    "# Getting filepaths\n",
    "gdrive_fp = config['gdrive_path']\n",
    "LIFE_fp = config['LIFE_folder']\n",
    "dataset_fp = config['datasets_path']\n",
    "benitez_lopez2019 = config['indiv_data_paths']['benitez_lopez2019']\n",
    "\n",
    "data_path = os.path.join(gdrive_fp, LIFE_fp, dataset_fp, benitez_lopez2019)"
   ]
  },
  {
   "cell_type": "code",
   "execution_count": 3,
   "id": "e1b74415-c05a-4d94-b0ab-bf72cb9ebd4e",
   "metadata": {},
   "outputs": [],
   "source": [
    "# Reading in data as a pandas dataframe\n",
    "ben_lop2019 = read_csv_non_utf(data_path)"
   ]
  },
  {
   "cell_type": "markdown",
   "id": "d9a5f9f5-86eb-4e02-836e-0e9b91828e46",
   "metadata": {},
   "source": [
    "# Fixed effects linear hurdle model\n",
    "\n",
    "I believe this will more accurately capture generalisation behavior, since we will not be able to make use of the random effects in the original mixed effects models--new species and countries will represent unseen levels on those categorical variables. See [this stackoverflow post](https://stackoverflow.com/questions/29259750/prediction-with-lme4-on-new-levels) for an explanation of `lme4`'s behavior with new levels.\n",
    "\n",
    "Also, let's use all variables provided and either do our own feature selection or just depend on model regularization to do feature selection for us."
   ]
  },
  {
   "cell_type": "code",
   "execution_count": 25,
   "id": "c9c1ac30-dda1-494c-b587-7d270c0ab2fe",
   "metadata": {},
   "outputs": [],
   "source": [
    "# Modeling parameters\n",
    "save_model = False\n",
    "from_save = False\n",
    "model_save_folder = '../model_saves/hurdle_models'\n",
    "model_save_fp = 'TEST'\n",
    "\n",
    "train_size = 0.7\n",
    "\n",
    "extirp_pos = False\n",
    "verbose = True\n",
    "\n",
    "cv = 5 # either int or None... if None, we'll just skip cross-validation\n",
    "logistic_penalty = 'l1'\n",
    "\n",
    "#  columns to use for each model \n",
    "#   - if None, will use defaults (i.e., Ana's vars)\n",
    "#   - if an empty list, will not use any vars (really only for indicator cols)\n",
    "indicator_columns = ['Diet']\n",
    "nonzero_columns = ['BM', 'DistKm', 'PopDens', 'Stunting', 'TravTime', 'LivestockBio', 'Literacy']\n",
    "zero_columns = nonzero_columns\n",
    "\n",
    "polynomial_features = 0\n",
    "\n",
    "#  hyperparameters for grid search\n",
    "l1_ratio = [0.1, 0.5, 0.7, 0.9, 0.95, 0.99, 1]\n",
    "Cs = 20\n",
    "\n",
    "# Putting all relevant params into a dictionary for saving purposes\n",
    "param_dict = {'model_save_fp' : model_save_fp,\n",
    "              'extirp_pos' : extirp_pos,\n",
    "              'logistic_penalty' : logistic_penalty,\n",
    "              'indicator_columns' : indicator_columns,\n",
    "              'nonzero_columns' : nonzero_columns,\n",
    "              'zero_columns' : zero_columns,\n",
    "              'l1_ratio' : l1_ratio,\n",
    "              'Cs' : Cs,\n",
    "              'polynomial_features' : polynomial_features}"
   ]
  },
  {
   "cell_type": "code",
   "execution_count": 26,
   "id": "d958a484-9c72-48ff-bc30-876ce02d9843",
   "metadata": {},
   "outputs": [
    {
     "name": "stdout",
     "output_type": "stream",
     "text": [
      "Using cross-validation\n",
      "Fitting the nonzero model...\n",
      "Fitting the zero model...\n",
      "Best threshold was found to be 0.0 with a TSS of 0.0\n"
     ]
    }
   ],
   "source": [
    "# Getting the shared basic train/test split\n",
    "idxs = get_train_test_split(len(ben_lop2019), train_size = train_size)\n",
    "\n",
    "# Pre-processing data\n",
    "pp_data = preprocess_data(ben_lop2019, include_indicators = True, standardize = True, log_trans_cont = False,\n",
    "                          polynomial_features = polynomial_features, train_test_idxs = idxs)\n",
    "\n",
    "#  splitting the actual dataset into train/test sets\n",
    "train_data, test_data = pp_data.loc[idxs['train']], pp_data.loc[idxs['test']]\n",
    "\n",
    "# Defining sub-models for hurdle model or read in saved model\n",
    "if not from_save:\n",
    "    data_args = {'indicator_columns' : indicator_columns,\n",
    "                 'nonzero_columns' : nonzero_columns,\n",
    "                 'zero_columns' : zero_columns}\n",
    "    \n",
    "    if cv is not None:\n",
    "        print('Using cross-validation')\n",
    "        nonzero_model = ElasticNetCV(cv = cv, l1_ratio = l1_ratio, max_iter = 5000)\n",
    "        zero_model = LogisticRegressionCV(cv = cv, Cs = Cs, penalty = logistic_penalty, solver = 'saga', max_iter = 500)\n",
    "    else:\n",
    "        print('Using single models')\n",
    "        nonzero_model = ElasticNet(alpha = 0.003, l1_ratio = 0.1, max_iter = 5000)\n",
    "        zero_model = LogisticRegression(C = 0.616, penalty = 'l1', solver = 'saga', max_iter = 500)\n",
    "    \n",
    "    hurdle_model = HurdleModelEstimator(zero_model, nonzero_model, extirp_pos = extirp_pos, verbose = verbose,\n",
    "                                        data_args = data_args)\n",
    "\n",
    "    # Fitting on the training data\n",
    "    with warnings.catch_warnings(action = 'ignore'):\n",
    "        hurdle_model.fit(train_data)\n",
    "\n",
    "    # Tuning the probability threshold for the classification model\n",
    "    X_zero, y_zero, _, _ = get_zero_nonzero_datasets(train_data, extirp_pos = False, pred = False, **data_args)\n",
    "    \n",
    "    y_pred_zero = hurdle_model.zero_model.predict_proba(X_zero)\n",
    "    y_pred_zero = y_pred_zero[ : , 1]\n",
    "    y_true_zero = y_zero\n",
    "    \n",
    "    opt_thresh, metrics = test_thresholds(y_pred_zero, y_true_zero)\n",
    "    print(f'Best threshold was found to be {round(opt_thresh, 3)} with a TSS of {round(np.max(metrics[\"TSS\"]), 3)}')\n",
    "    \n",
    "    # Setting the threshold to the optimal in the hurdle model\n",
    "    hurdle_model.prob_thresh = round(opt_thresh, 3)\n",
    "\n",
    "    # Optionally saving the model and hyperparameters\n",
    "    if save_model:\n",
    "        print('Saving model...')\n",
    "        with open(os.path.join(model_save_folder, model_save_fp + '.pkl'), 'wb') as f:\n",
    "            pickle.dump(hurdle_model, f)\n",
    "            \n",
    "        with open(os.path.join(model_save_folder, model_save_fp + '.json'), 'w') as f:\n",
    "            json.dump(param_dict, f, sort_keys = True, indent = 4)\n",
    "else:\n",
    "    print(f'Loading saved model from {model_save_fp}')\n",
    "    with open(os.path.join(model_save_folder, model_save_fp + '.pkl'), 'rb') as f:\n",
    "        hurdle_model = pickle.load(f)\n",
    "\n",
    "# Predicting on the test set\n",
    "pred_ratios = hurdle_model.predict(test_data)\n",
    "test_ratios = test_data['ratio']\n",
    "\n",
    "#  back-transforming to recover actual abundance ratios predicted by the hurdle model\n",
    "pred_ratios[pred_ratios != 0] = np.exp(pred_ratios[pred_ratios != 0])\n",
    "pred_DI_cats = ratios_to_DI_cats(pred_ratios)\n",
    "true_DI_cats = ratios_to_DI_cats(test_ratios)"
   ]
  },
  {
   "cell_type": "markdown",
   "id": "19257879-89fb-4e4b-bbba-3e396f4dfae9",
   "metadata": {},
   "source": [
    "## Inspecting learned patterns"
   ]
  },
  {
   "cell_type": "markdown",
   "id": "538c3324-6163-40e8-9fbd-eb8614275235",
   "metadata": {
    "jp-MarkdownHeadingCollapsed": true
   },
   "source": [
    "### Logistic regression"
   ]
  },
  {
   "cell_type": "code",
   "execution_count": 169,
   "id": "d5a2001c-e24c-47a0-af4c-28cd7c1ef62f",
   "metadata": {},
   "outputs": [
    {
     "name": "stdout",
     "output_type": "stream",
     "text": [
      "Logistic regression: best L1 regularization strength (C, lower is higher strength) 0.616\n"
     ]
    }
   ],
   "source": [
    "# Seeing the tuned hyperparam value\n",
    "best_C = round(hurdle_model.zero_model.C_[0], 3)\n",
    "print('Logistic regression: best L1 regularization strength (C, lower is higher strength)', best_C)"
   ]
  },
  {
   "cell_type": "code",
   "execution_count": 170,
   "id": "e14da692-352f-4551-ac1e-0c705a355716",
   "metadata": {},
   "outputs": [
    {
     "data": {
      "image/png": "[encoded data removed]",
      "text/plain": [
       "<Figure size 640x480 with 1 Axes>"
      ]
     },
     "metadata": {},
     "output_type": "display_data"
    }
   ],
   "source": [
    "# Taking a look at the coefficient estimates for the spatial predictors\n",
    "#  - remember: the positive class is locally EXTANT, so a positive coef means there \n",
    "#    is a higher chance of avoiding local extirpation\n",
    "spatial_predictors = hurdle_model.zero_model.feature_names_in_[ : 5]\n",
    "spatial_coefs = hurdle_model.zero_model.coef_[0, : 5]\n",
    "\n",
    "fig, ax = plot_model_coefficients(spatial_predictors, spatial_coefs)"
   ]
  },
  {
   "cell_type": "code",
   "execution_count": 201,
   "id": "dedfac60-0138-4953-abc1-1494b92efc9f",
   "metadata": {
    "scrolled": true
   },
   "outputs": [
    {
     "name": "stdout",
     "output_type": "stream",
     "text": [
      "In total, 95 features were retained\n",
      "\n",
      "Country_Bolivia: -0.019\n",
      "Country_Brazil: -0.052\n",
      "Country_Cameroon: -0.247\n",
      "Country_Central African Republic: 0.537\n",
      "Country_French Guiana: -0.534\n",
      "Country_Honduras: -0.481\n",
      "Country_Indonesia: 0.549\n",
      "Country_Madagascar: 0.053\n",
      "Country_Mexico: -0.23\n",
      "Country_Nicaragua: 0.201\n",
      "Country_Paraguay: 0.706\n",
      "Country_South Africa: -0.489\n",
      "Country_Tanzania: -0.229\n",
      "Country_Thailand: -1.762\n",
      "\n",
      "Species_Alouatta seniculus: -0.625\n",
      "Species_Ateles geoffroyi: -0.38\n",
      "Species_Ateles spp: -0.954\n",
      "Species_Bos gaurus: -0.481\n",
      "Species_Cebus olivaceus: -0.816\n",
      "Species_Cercocebus torquatus: -0.646\n",
      "Species_Cercopithecus erythrotis: 0.217\n",
      "Species_Cercopithecus nictitans: 0.656\n",
      "Species_Cercopithecus pogonias: 0.329\n",
      "Species_Chlorocebus aethiops: -0.088\n",
      "Species_Colobus satanas: -0.228\n",
      "Species_Cuniculus paca: -0.044\n",
      "Species_Elephas maximus: -0.823\n",
      "Species_Euphractus sexcinctus: -0.135\n",
      "Species_Gorilla gorilla: -0.363\n",
      "Species_Mandrillus leucophaeus: -0.633\n",
      "Species_Mazama americana and Odocoileus virginianus: -0.054\n",
      "Species_Muntiacus muntjak: 0.434\n",
      "Species_Nasua narica: 0.649\n",
      "Species_Panthera onca: -0.249\n",
      "Species_Pecari tajacu: 1.435\n",
      "Species_Philantomba monticola: 0.889\n",
      "Species_Procyon cancrivorus: -1.334\n",
      "Species_Puma concolor: -0.31\n",
      "Species_Saguinus midas: 0.045\n",
      "Species_Sapajus apella: 0.28\n",
      "Species_Speothos venaticus: -1.877\n",
      "Species_Syncerus caffer: -0.547\n",
      "Species_Tapirus terrestris: -0.282\n",
      "Species_Tayassu pecari: -0.654\n",
      "Species_Tragelaphus scriptus: 0.375\n",
      "\n",
      "Study_6: -0.452\n",
      "Study_9: 1.449\n",
      "Study_14: 0.293\n",
      "Study_18: -1.341\n",
      "Study_25: -0.431\n",
      "Study_35: -0.378\n",
      "Study_40: -0.462\n",
      "Study_42: -1.158\n",
      "Study_48: 0.806\n",
      "Study_67: -1.457\n",
      "Study_73: -0.61\n",
      "Study_84: 1.236\n",
      "Study_88: -1.35\n",
      "Study_95: 0.074\n",
      "Study_117: -0.19\n",
      "Study_125: -0.323\n",
      "Study_131: -0.208\n",
      "Study_133: 0.363\n",
      "Study_134: -0.174\n",
      "Study_136: -0.052\n",
      "Study_138: -1.692\n",
      "Study_139: -0.054\n",
      "Study_144: -0.075\n",
      "Study_145: -0.316\n",
      "Study_152: -0.396\n",
      "Study_161: -0.687\n",
      "Study_170: -0.414\n",
      "Study_172: -0.37\n",
      "Study_182: 0.201\n",
      "Study_188: 0.41\n",
      "Study_190: 0.466\n",
      "Study_191: -0.976\n",
      "\n",
      "Family_Atelidae: -0.29\n",
      "Family_Callitrichidae: 0.111\n",
      "Family_Canidae: -0.183\n",
      "Family_Cercopithecidae: 0.201\n",
      "Family_Cervidae: 0.562\n",
      "Family_Cuniculidae: -0.044\n",
      "Family_Dasypodidae: -0.078\n",
      "Family_Dasyproctidae: 0.774\n",
      "Family_Felidae: -0.303\n",
      "Family_Herpestidae: -0.153\n",
      "Family_Mephitidae: -1.239\n",
      "Family_Myrmecophagidae: -0.672\n",
      "Family_Pitheciidae: 0.638\n",
      "Family_Procyonidae: 0.202\n",
      "Family_Sciuridae: 0.285\n",
      "Family_Suidae: 0.923\n",
      "Family_Tapiridae: -0.035\n",
      "Family_Tayassuidae: -0.372\n"
     ]
    }
   ],
   "source": [
    "# For the indicator-only model: inspecting the weights\n",
    "feats = hurdle_model.zero_model.feature_names_in_\n",
    "coefs = hurdle_model.zero_model.coef_[0]\n",
    "\n",
    "print(f'In total, {(coefs != 0).sum()} features were retained')\n",
    "print()\n",
    "\n",
    "for i in range(len(feats)):\n",
    "    if coefs[i] != 0:\n",
    "        print(f'{feats[i]}: {round(coefs[i], 3)}')\n",
    "    if i != len(feats) - 1:\n",
    "        if (feats[i].split('_')[0] != feats[i + 1].split('_')[0]):\n",
    "            print()"
   ]
  },
  {
   "cell_type": "markdown",
   "id": "4cb795a3-10fc-4599-8c91-c4fd4f496bc8",
   "metadata": {
    "jp-MarkdownHeadingCollapsed": true
   },
   "source": [
    "### ElasticNet"
   ]
  },
  {
   "cell_type": "code",
   "execution_count": 171,
   "id": "5008cbd0-ab5d-4049-b538-36213e23ecf2",
   "metadata": {},
   "outputs": [
    {
     "name": "stdout",
     "output_type": "stream",
     "text": [
      "ElasticNet: best L1/L2 regularization strength (alpha, higher is higher strength) 0.003\n",
      "ElasticNet: best L1 ratio (0 = ridge, 1 = LASSO) 0.1\n"
     ]
    }
   ],
   "source": [
    "# Seeing the tuned hyperparam values\n",
    "best_alpha = round(hurdle_model.nonzero_model.alpha_, 3)\n",
    "best_l1_ratio = hurdle_model.nonzero_model.l1_ratio_\n",
    "print('ElasticNet: best L1/L2 regularization strength (alpha, higher is higher strength)', best_alpha)\n",
    "print('ElasticNet: best L1 ratio (0 = ridge, 1 = LASSO)', best_l1_ratio)"
   ]
  },
  {
   "cell_type": "code",
   "execution_count": 172,
   "id": "b2d06fd6-8f48-4bf5-a870-e363740818ad",
   "metadata": {},
   "outputs": [
    {
     "data": {
      "image/png": "[encoded data removed]",
      "text/plain": [
       "<Figure size 640x480 with 1 Axes>"
      ]
     },
     "metadata": {},
     "output_type": "display_data"
    }
   ],
   "source": [
    "# Taking a look at the coefficient estimates for the spatial predictors\n",
    "spatial_predictors = hurdle_model.nonzero_model.feature_names_in_[ : 3]\n",
    "spatial_coefs = hurdle_model.nonzero_model.coef_[ : 3]\n",
    "\n",
    "fig, ax = plot_model_coefficients(spatial_predictors, spatial_coefs)"
   ]
  },
  {
   "cell_type": "code",
   "execution_count": 200,
   "id": "db17aafd-a75f-4666-b177-50723f72dc9b",
   "metadata": {
    "scrolled": true
   },
   "outputs": [
    {
     "name": "stdout",
     "output_type": "stream",
     "text": [
      "In total, 340 features were retained\n",
      "\n",
      "Country_Belize: 0.314\n",
      "Country_Bolivia: 0.011\n",
      "Country_Brazil: 0.146\n",
      "Country_Burkina Faso: 0.253\n",
      "Country_Cameroon: -0.237\n",
      "Country_Central African Republic: 0.291\n",
      "Country_Colombia: 0.017\n",
      "Country_Congo: -0.055\n",
      "Country_Costa Rica: -0.155\n",
      "Country_Ecuador: 0.152\n",
      "Country_Equatorial Guinea: 0.047\n",
      "Country_Ethiopia: -0.044\n",
      "Country_French Guiana: -0.03\n",
      "Country_Gabon: -0.024\n",
      "Country_Ghana: -0.093\n",
      "Country_Guatemala: 0.193\n",
      "Country_Guyana: -0.084\n",
      "Country_India: -0.035\n",
      "Country_Indonesia: 0.136\n",
      "Country_Madagascar: -0.089\n",
      "Country_Mexico: -0.017\n",
      "Country_Nicaragua: 0.16\n",
      "Country_Nigeria: -0.111\n",
      "Country_Panama: -0.452\n",
      "Country_Tanzania: 0.011\n",
      "Country_Thailand: -0.442\n",
      "Country_Uganda: 0.053\n",
      "\n",
      "Species_Alcelaphus lichtensteinii: 0.082\n",
      "Species_Alouatta belzebul: -0.095\n",
      "Species_Alouatta guariba: 0.234\n",
      "Species_Alouatta palliata: 0.13\n",
      "Species_Alouatta pigra: 0.044\n",
      "Species_Alouatta sara: 0.067\n",
      "Species_Alouatta seniculus: -0.151\n",
      "Species_Alouatta spp: 0.245\n",
      "Species_Aotus spp: 0.016\n",
      "Species_Ateles chamek: -0.082\n",
      "Species_Ateles geoffroyi: -0.135\n",
      "Species_Ateles paniscus: -0.26\n",
      "Species_Ateles spp: 0.025\n",
      "Species_Atherurus africanus: 0.051\n",
      "Species_Atilax paludinosus: 0.085\n",
      "Species_Avahi occidentalis: 0.034\n",
      "Species_Axis axis: -0.073\n",
      "Species_Bdeogale crassicauda: -0.02\n",
      "Species_Bos gaurus: -0.047\n",
      "Species_Brachyteles arachnoides: 0.204\n",
      "Species_Bradypus variegatus: 0.062\n",
      "Species_Callicebus brunneus: -0.135\n",
      "Species_Callicebus cupreus and C. moloch: 0.423\n",
      "Species_Callicebus hoffmannsi: -0.249\n",
      "Species_Callicebus moloch: 0.034\n",
      "Species_Callicebus torquatus: 0.266\n",
      "Species_Callithrix humeralifera: -0.309\n",
      "Species_Cebuella pygmaea: 0.248\n",
      "Species_Cebus albifrons: -0.122\n",
      "Species_Cebus capuchinus: 0.023\n",
      "Species_Cebus olivaceus: 0.067\n",
      "Species_Cebus spp: 0.045\n",
      "Species_Cephalophus callipygus, C. dorsalis and C. ogilby: -0.167\n",
      "Species_Cephalophus callipygus, C. dorsalis, C. leucogaster and C. nigrifrons: 0.111\n",
      "Species_Cephalophus callipygus, C. dorsalis, C. leucogaster, C. nigrifrons and C. ogilbyi: -0.031\n",
      "Species_Cephalophus callipygus, C. dorsalis, C. nigrifrons, C. silvicultor and Philantomba monticola: -0.038\n",
      "Species_Cephalophus harveyi: -0.016\n",
      "Species_Cephalophus silvicultor: 0.068\n",
      "Species_Cephalophus spadix: -0.378\n",
      "Species_Ceratotherium simum: -0.167\n",
      "Species_Cercopithecus ascanius, C. mona and C. neglectus: 0.028\n",
      "Species_Cercopithecus campbelli: -0.088\n",
      "Species_Cercopithecus cephus, C. nictitans, C. pogonias and Lophocebus albigena: 0.009\n",
      "Species_Cercopithecus diana: 0.141\n",
      "Species_Cercopithecus erythrotis: 0.055\n",
      "Species_Cercopithecus mona: 0.038\n",
      "Species_Cercopithecus pogonias: -0.073\n",
      "Species_Chaetophractus vellerosus: 0.151\n",
      "Species_Cheirogaleus medius: 0.005\n",
      "Species_Chiropotes utahickae: -0.136\n",
      "Species_Chlorocebus aethiops: 0.09\n",
      "Species_Civettictis civetta: 0.118\n",
      "Species_Colobus angolensis: -0.088\n",
      "Species_Colobus guereza: -0.006\n",
      "Species_Colobus polykomos: -0.086\n",
      "Species_Colobus satanas: -0.106\n",
      "Species_Connochaetes taurinus: -0.776\n",
      "Species_Cricetomys gambianus: 0.097\n",
      "Species_Crocuta crocuta: 0.048\n",
      "Species_Cryptomys hottentotus and Amblysomus hottentotus: 0.53\n",
      "Species_Cuniculus paca: -0.026\n",
      "Species_Dasyprocta azarae: -0.453\n",
      "Species_Dasyprocta fuliginosa: 0.061\n",
      "Species_Dasyprocta punctata: -0.061\n",
      "Species_Dasyprocta spp: 0.084\n",
      "Species_Dasypus kappleri and D. novemcinctus: 0.031\n",
      "Species_Dasypus spp.: -0.002\n",
      "Species_Dendrohyrax validus: -0.133\n",
      "Species_Didelphis marsupialis: 0.146\n",
      "Species_Didelphis spp.: 0.06\n",
      "Species_Eira barbara: 0.131\n",
      "Species_Equus quagga: -0.117\n",
      "Species_Euoticus elegantulus, Galago alleni, Galagoides demidovii, Arctocebus calabarensis: -0.01\n",
      "Species_Genetta spp: -0.033\n",
      "Species_Genetta tigrina: -0.118\n",
      "Species_Gorilla beringei: 0.077\n",
      "Species_Hyemoschus aquaticus: -0.032\n",
      "Species_Hylobates klossii: 0.023\n",
      "Species_Hylobates lar: -0.163\n",
      "Species_Hylochoerus meinertzhageni: -0.167\n",
      "Species_Lagothrix cana: -0.44\n",
      "Species_Lagothrix lagotricha: -0.137\n",
      "Species_Leontopithecus chrysopygus: -0.184\n",
      "Species_Leopardus pardalis: -0.013\n",
      "Species_Leopardus tigrinus: 0.013\n",
      "Species_Leopardus wiedii: 0.073\n",
      "Species_Lophocebus albigena: -0.541\n",
      "Species_Loxodonta africana: -0.131\n",
      "Species_Macaca radiata: -0.024\n",
      "Species_Mandrillus leucophaeus: -0.097\n",
      "Species_Marmosa spp: 0.058\n",
      "Species_Mazama americana: -0.229\n",
      "Species_Mazama americana and M. gouazoubira: 0.023\n",
      "Species_Mazama americana and M. pandora: 0.045\n",
      "Species_Mazama gouazoubira: -0.009\n",
      "Species_Mazama nana: 0.139\n",
      "Species_Mazama nemorivaga: -0.04\n",
      "Species_Muntiacus muntjak: 0.185\n",
      "Species_Myoprocta pratti: 0.088\n",
      "Species_Myrmecophaga tridactyla: 0.012\n",
      "Species_Nandinia binotata: 0.056\n",
      "Species_Nasua narica: -0.116\n",
      "Species_Nasua nasua: 0.207\n",
      "Species_Neotragus moschatus: 0.574\n",
      "Species_Odocoileus virginianus: -0.129\n",
      "Species_Oryzomys spp.: 0.002\n",
      "Species_Pan troglodytes: -0.201\n",
      "Species_Panthera leo: -0.089\n",
      "Species_Panthera onca: -0.048\n",
      "Species_Papio anubis: 0.227\n",
      "Species_Paraxerus vexillarius: 0.014\n",
      "Species_Pecari tajacu: -0.132\n",
      "Species_Philantomba monticola: 0.049\n",
      "Species_Pithecia monachus: -0.071\n",
      "Species_Pithecia pithecia: 0.134\n",
      "Species_Pongo pygmaeus: -0.103\n",
      "Species_Potamochoerus larvatus: 0.064\n",
      "Species_Potamochoerus porcus: 0.052\n",
      "Species_Presbytis hosei: -0.026\n",
      "Species_Presbytis potenziani: -0.016\n",
      "Species_Priodontes maximus: 0.05\n",
      "Species_Procolobus pennantii: 0.311\n",
      "Species_Procyon cancrivorous and P. lotor: -0.063\n",
      "Species_Procyon cancrivorus: 0.02\n",
      "Species_Proechimys semispinosus: -0.196\n",
      "Species_Propithecus coquereli: -0.357\n",
      "Species_Protoxerus stangeri: 0.063\n",
      "Species_Pseudalopex culpaeus: -0.053\n",
      "Species_Puma concolor: 0.11\n",
      "Species_Saguinus geoffroyi: 0.746\n",
      "Species_Saguinus midas: -0.012\n",
      "Species_Saguinus mystax and imperator: -0.083\n",
      "Species_Saguinus nigricollis: -0.056\n",
      "Species_Saguinus spp: 0.069\n",
      "Species_Saguinus tripartitus: -0.021\n",
      "Species_Saimiri boliviensis: -0.108\n",
      "Species_Saimiri sciureus: 0.143\n",
      "Species_Saimiri spp: 0.194\n",
      "Species_Sapajus apella: -0.248\n",
      "Species_Sapajus cay: -0.074\n",
      "Species_Sciurus aestuans: 0.068\n",
      "Species_Sciurus granatensis: -0.016\n",
      "Species_Sciurus ignitus: -0.129\n",
      "Species_Sciurus spadiceus: 0.182\n",
      "Species_Sciurus spp: -0.055\n",
      "Species_Simias concolor: 0.452\n",
      "Species_Sus scrofa: -0.127\n",
      "Species_Sylvicapra grimmia, Oreotragus oreotragus, Ourebia ourebi and Madoqua kirkii: 0.157\n",
      "Species_Sylvilagus brasiliensis: -0.064\n",
      "Species_Syncerus caffer: -0.383\n",
      "Species_Tamandua mexicana: 0.115\n",
      "Species_Tamandua tetradactyla: -0.026\n",
      "Species_Tapirus bairdii: 0.106\n",
      "Species_Tapirus indicus: -0.391\n",
      "Species_Tapirus terrestris: -0.06\n",
      "Species_Tayassu pecari: -0.164\n",
      "Species_Tayassu pecari and Pecari tajacu: 0.014\n",
      "Species_Thryonomys swinderianus: 0.09\n",
      "Species_Tragelaphus buxtoni: -0.044\n",
      "Species_Tragelaphus scriptus: 0.248\n",
      "\n",
      "Study_2: -0.196\n",
      "Study_3: 0.153\n",
      "Study_5: -0.14\n",
      "Study_7: -0.026\n",
      "Study_8: 0.149\n",
      "Study_9: 0.338\n",
      "Study_11: -0.108\n",
      "Study_14: 0.235\n",
      "Study_15: -0.298\n",
      "Study_16: 0.028\n",
      "Study_17: 0.342\n",
      "Study_18: 0.221\n",
      "Study_19: 0.173\n",
      "Study_22: -0.035\n",
      "Study_23: -0.392\n",
      "Study_24: 0.156\n",
      "Study_25: -0.101\n",
      "Study_26: -0.026\n",
      "Study_27: 0.004\n",
      "Study_28: -0.159\n",
      "Study_29: -0.647\n",
      "Study_30: 0.099\n",
      "Study_31: 0.638\n",
      "Study_32: 0.024\n",
      "Study_35: 0.014\n",
      "Study_36: 0.173\n",
      "Study_38: -0.565\n",
      "Study_39: 0.077\n",
      "Study_40: 0.121\n",
      "Study_41: -0.06\n",
      "Study_42: 0.1\n",
      "Study_43: -0.013\n",
      "Study_45: -0.103\n",
      "Study_47: -0.07\n",
      "Study_48: -0.007\n",
      "Study_56: -0.189\n",
      "Study_57: -0.022\n",
      "Study_65: 0.11\n",
      "Study_66: 0.067\n",
      "Study_67: -0.057\n",
      "Study_70: -0.035\n",
      "Study_71: -0.021\n",
      "Study_72: -0.032\n",
      "Study_73: 0.01\n",
      "Study_74: 0.113\n",
      "Study_75: -0.357\n",
      "Study_76: 0.156\n",
      "Study_79: 0.065\n",
      "Study_83: -0.068\n",
      "Study_84: 0.151\n",
      "Study_86: -0.135\n",
      "Study_87: -0.008\n",
      "Study_90: -0.209\n",
      "Study_92: -0.237\n",
      "Study_93: 0.122\n",
      "Study_95: 0.207\n",
      "Study_96: -0.006\n",
      "Study_98: 0.054\n",
      "Study_100: -0.33\n",
      "Study_101: 0.072\n",
      "Study_102: 0.385\n",
      "Study_105: -0.049\n",
      "Study_106: -0.049\n",
      "Study_111: -0.055\n",
      "Study_112: 0.054\n",
      "Study_113: 0.331\n",
      "Study_115: -0.233\n",
      "Study_116: -0.039\n",
      "Study_117: 0.166\n",
      "Study_119: 0.062\n",
      "Study_121: -0.106\n",
      "Study_122: 0.035\n",
      "Study_124: 0.029\n",
      "Study_126: -0.098\n",
      "Study_127: -0.067\n",
      "Study_128: -0.211\n",
      "Study_130: 0.61\n",
      "Study_131: -0.08\n",
      "Study_132: -0.161\n",
      "Study_134: 0.237\n",
      "Study_135: -0.138\n",
      "Study_136: 0.034\n",
      "Study_138: 0.118\n",
      "Study_139: 0.297\n",
      "Study_140: -0.155\n",
      "Study_141: 0.135\n",
      "Study_142: 0.221\n",
      "Study_143: -0.091\n",
      "Study_144: -0.348\n",
      "Study_145: -0.026\n",
      "Study_146: 0.042\n",
      "Study_152: 0.17\n",
      "Study_153: -0.111\n",
      "Study_155: -0.044\n",
      "Study_165: -0.093\n",
      "Study_168: 0.108\n",
      "Study_169: 0.038\n",
      "Study_170: -0.02\n",
      "Study_172: -0.006\n",
      "Study_174: -0.034\n",
      "Study_175: 0.045\n",
      "Study_176: -0.084\n",
      "Study_177: -0.333\n",
      "Study_178: 0.15\n",
      "Study_180: 0.079\n",
      "Study_181: -0.002\n",
      "Study_182: 0.16\n",
      "Study_183: -0.035\n",
      "Study_184: 0.039\n",
      "Study_185: -0.262\n",
      "Study_186: -0.126\n",
      "Study_188: 0.038\n",
      "Study_191: 0.108\n",
      "\n",
      "Family_Aotidae: 0.039\n",
      "Family_Atelidae: -0.237\n",
      "Family_Bovidae: -0.139\n",
      "Family_Bradypodidae: 0.135\n",
      "Family_Callitrichidae: 0.362\n",
      "Family_Canidae: -0.079\n",
      "Family_Cebidae: -0.119\n",
      "Family_Cercopithecidae: 0.027\n",
      "Family_Chlamyphoridae: 0.05\n",
      "Family_Cricetidae: 0.002\n",
      "Family_Cuniculidae: -0.026\n",
      "Family_Dasypodidae: 0.193\n",
      "Family_Dasyproctidae: -0.068\n",
      "Family_Didelphidae: 0.35\n",
      "Family_Echimyidae: -0.201\n",
      "Family_Elephantidae: -0.056\n",
      "Family_Equidae: -0.117\n",
      "Family_Galagidae: -0.01\n",
      "Family_Hominidae: -0.318\n",
      "Family_Hyaenidae: 0.048\n",
      "Family_Hylobatidae: -0.029\n",
      "Family_Hystricidae: 0.11\n",
      "Family_Indriidae: -0.211\n",
      "Family_Leporidae: -0.064\n",
      "Family_Mustelidae: 0.128\n",
      "Family_Myrmecophagidae: 0.102\n",
      "Family_Nandiniidae: 0.056\n",
      "Family_Nesomyidae: 0.097\n",
      "Family_Pitheciidae: 0.088\n",
      "Family_Procaviidae: -0.064\n",
      "Family_Procyonidae: 0.088\n",
      "Family_Rhinocerotidae: -0.167\n",
      "Family_Sciuridae: 0.144\n",
      "Family_Soricidae: 0.53\n",
      "Family_Suidae: -0.052\n",
      "Family_Tapiridae: -0.345\n",
      "Family_Tayassuidae: -0.246\n",
      "Family_Thryonomyidae: 0.09\n",
      "Family_Tragulidae: -0.032\n",
      "Family_Viverridae: -0.002\n"
     ]
    }
   ],
   "source": [
    "# For the indicator-only model: inspecting the weights\n",
    "feats = hurdle_model.nonzero_model.feature_names_in_\n",
    "coefs = hurdle_model.nonzero_model.coef_\n",
    "\n",
    "print(f'In total, {(coefs != 0).sum()} features were retained')\n",
    "print()\n",
    "\n",
    "for i in range(len(feats)):\n",
    "    if coefs[i] != 0:\n",
    "        print(f'{feats[i]}: {round(coefs[i], 3)}')\n",
    "    if i != len(feats) - 1:\n",
    "        if (feats[i].split('_')[0] != feats[i + 1].split('_')[0]):\n",
    "            print()"
   ]
  },
  {
   "cell_type": "markdown",
   "id": "d228d5fa-f1f0-4839-bdea-c20da57aaeb3",
   "metadata": {},
   "source": [
    "## Model evaluation"
   ]
  },
  {
   "cell_type": "markdown",
   "id": "b4d3ada0-07fd-49cc-b2e4-3d4976020071",
   "metadata": {},
   "source": [
    "### Classification performance\n",
    "\n",
    "This is looking at the model's ability to classify observations into the three defaunation intensity categories."
   ]
  },
  {
   "cell_type": "code",
   "execution_count": 27,
   "id": "3f6ba379-7ea5-4d82-9715-6e82d746f6eb",
   "metadata": {},
   "outputs": [
    {
     "name": "stdout",
     "output_type": "stream",
     "text": [
      "              precision    recall  f1-score   support\n",
      "\n",
      "         low       0.74      0.34      0.47       560\n",
      "      medium       0.23      0.82      0.36       207\n",
      "        high       0.33      0.00      0.01       218\n",
      "\n",
      "    accuracy                           0.37       985\n",
      "   macro avg       0.43      0.39      0.28       985\n",
      "weighted avg       0.54      0.37      0.34       985\n",
      "\n"
     ]
    }
   ],
   "source": [
    "# Full report of classification relevant metrics based on HARD classifications\n",
    "print(classification_report(true_DI_cats, pred_DI_cats, target_names = ['low', 'medium', 'high']))"
   ]
  },
  {
   "cell_type": "code",
   "execution_count": 28,
   "id": "eb6eacfc-8850-4700-9e12-e3172c8212fa",
   "metadata": {
    "scrolled": true
   },
   "outputs": [
    {
     "name": "stdout",
     "output_type": "stream",
     "text": [
      "Balanced accuracy: 38.74%\n",
      "Pseudo-R^2: 0.002\n"
     ]
    }
   ],
   "source": [
    "# Calculating metrics to match Benitez-Lopez\n",
    "balanced_acc = balanced_accuracy_score(true_DI_cats, pred_DI_cats)\n",
    "pseudo_r2 = np.corrcoef(pred_ratios, test_ratios)[0, 1] ** 2\n",
    "\n",
    "print(f'Balanced accuracy: {round(balanced_acc * 100, 2)}%')\n",
    "print(f'Pseudo-R^2: {round(pseudo_r2, 3)}')"
   ]
  },
  {
   "cell_type": "code",
   "execution_count": 175,
   "id": "3b4a60c9-5b84-49b8-a0e2-166dd0842f85",
   "metadata": {},
   "outputs": [
    {
     "data": {
      "image/png": "[encoded data removed]",
      "text/plain": [
       "<Figure size 640x480 with 2 Axes>"
      ]
     },
     "metadata": {},
     "output_type": "display_data"
    }
   ],
   "source": [
    "# Confusion matrix\n",
    "fig, ax = plot_ratio_confusion_matrix(true_DI_cats, pred_DI_cats)"
   ]
  },
  {
   "cell_type": "markdown",
   "id": "08a64524-0cd5-4049-9a21-bee4b28fff80",
   "metadata": {},
   "source": [
    "### Regression performance\n",
    "\n",
    "This looks directly at the model's ability to predict abundance ratios."
   ]
  },
  {
   "cell_type": "code",
   "execution_count": 150,
   "id": "e27709f1-320f-45ae-9ce2-1dab81c80f2b",
   "metadata": {},
   "outputs": [],
   "source": [
    "def root_median_squared_error(test_ratios, pred_ratios):\n",
    "    r_med_se = np.sqrt(np.median(np.square(test_ratios - pred_ratios)))\n",
    "\n",
    "    return r_med_se"
   ]
  },
  {
   "cell_type": "code",
   "execution_count": 176,
   "id": "3690d978-016b-4226-ae31-3a7d588b75a9",
   "metadata": {},
   "outputs": [
    {
     "name": "stdout",
     "output_type": "stream",
     "text": [
      "Mean absolute error: 0.93\n",
      "Median absolute error: 0.341\n",
      "Root mean squared error: 3.477\n",
      "Root median squared error: 0.341\n"
     ]
    }
   ],
   "source": [
    "# Calculating key regression metrics on all data\n",
    "mae = mean_absolute_error(test_ratios, pred_ratios)\n",
    "print(f'Mean absolute error: {round(mae, 3)}')\n",
    "\n",
    "med_ae = median_absolute_error(test_ratios, pred_ratios)\n",
    "print(f'Median absolute error: {round(med_ae, 3)}')\n",
    "\n",
    "rmse = root_mean_squared_error(test_ratios, pred_ratios)\n",
    "print(f'Root mean squared error: {round(rmse, 3)}')\n",
    "\n",
    "r_med_se = root_median_squared_error(test_ratios, pred_ratios)\n",
    "print(f'Root median squared error: {round(r_med_se, 3)}')"
   ]
  },
  {
   "cell_type": "code",
   "execution_count": 180,
   "id": "96d177bb-bef8-4c71-89bb-44fc1e2dde13",
   "metadata": {},
   "outputs": [
    {
     "data": {
      "image/png": "[encoded data removed]",
      "text/plain": [
       "<Figure size 640x480 with 2 Axes>"
      ]
     },
     "metadata": {},
     "output_type": "display_data"
    }
   ],
   "source": [
    "# Comparing the distribution of abundance ratios in the 0-1 range...\n",
    "fig, ax = plt.subplots(2)\n",
    "\n",
    "pred_ratios_0_1 = pred_ratios[pred_ratios <= 1]\n",
    "ax[0].hist(pred_ratios_0_1, edgecolor = 'black', bins = 20)\n",
    "ax[0].set_title('Predicted Abundance Ratios')\n",
    "\n",
    "true_ratios_0_1 = test_ratios[test_ratios <= 1]\n",
    "ax[1].hist(true_ratios_0_1, edgecolor = 'black', bins = 20)\n",
    "ax[1].set_title('True Abundance Ratios')\n",
    "\n",
    "fig.tight_layout()"
   ]
  },
  {
   "cell_type": "code",
   "execution_count": 181,
   "id": "0b5dbb5e-0e58-4d88-b4cd-c7bcaf6db832",
   "metadata": {},
   "outputs": [
    {
     "data": {
      "image/png": "[encoded data removed]",
      "text/plain": [
       "<Figure size 640x480 with 1 Axes>"
      ]
     },
     "metadata": {},
     "output_type": "display_data"
    }
   ],
   "source": [
    "# Regression results, abundance ratio\n",
    "threshold_mask = test_ratios <= 1\n",
    "\n",
    "plt.scatter(pred_ratios[threshold_mask], test_ratios[threshold_mask], alpha = 0.1)\n",
    "\n",
    "plt.xlabel('Predicted Abundance Ratio', weight = 'bold')\n",
    "plt.ylabel('True Abundance Ratio', weight = 'bold');"
   ]
  },
  {
   "cell_type": "markdown",
   "id": "c87c1c2e-951e-4512-9fd0-3d65608deee8",
   "metadata": {
    "jp-MarkdownHeadingCollapsed": true
   },
   "source": [
    "# ML-based hurdle models\n",
    "\n",
    "Might as well do a cross-validated search for the best model for each component of the hurdle model."
   ]
  },
  {
   "cell_type": "code",
   "execution_count": null,
   "id": "9688d647-65fd-4a4c-a979-bf9ef7ba205e",
   "metadata": {},
   "outputs": [],
   "source": []
  }
 ],
 "metadata": {
  "kernelspec": {
   "display_name": "Python 3 (ipykernel)",
   "language": "python",
   "name": "python3"
  },
  "language_info": {
   "codemirror_mode": {
    "name": "ipython",
    "version": 3
   },
   "file_extension": ".py",
   "mimetype": "text/x-python",
   "name": "python",
   "nbconvert_exporter": "python",
   "pygments_lexer": "ipython3",
   "version": "3.12.2"
  }
 },
 "nbformat": 4,
 "nbformat_minor": 5
}
