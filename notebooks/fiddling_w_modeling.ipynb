{
 "cells": [
  {
   "cell_type": "code",
   "execution_count": 163,
   "id": "78bc91d8-eaa3-423e-8f9e-270355ff7397",
   "metadata": {},
   "outputs": [],
   "source": [
    "import os\n",
    "import sys\n",
    "import json\n",
    "\n",
    "sys.path.append('..')\n",
    "\n",
    "from tqdm import tqdm\n",
    "\n",
    "import pandas as pd\n",
    "import numpy as np\n",
    "\n",
    "import torch\n",
    "from torch import nn\n",
    "from torch.utils.data import Dataset, DataLoader\n",
    "\n",
    "from sklearn.metrics import mean_absolute_error, balanced_accuracy_score\n",
    "from imblearn.over_sampling import SMOTENC\n",
    "\n",
    "import matplotlib.pyplot as plt\n",
    "import seaborn as sns\n",
    "\n",
    "from utils import direct_train_test, read_csv_non_utf, count_parameters, test_thresholds\n",
    "from custom_metrics import *"
   ]
  },
  {
   "cell_type": "code",
   "execution_count": 2,
   "id": "bfc55fdc-80d0-47de-bed9-bd96ea43269c",
   "metadata": {},
   "outputs": [],
   "source": [
    "# Loading in general configuration\n",
    "with open('../config.json', 'r') as f:\n",
    "    config = json.load(f)\n",
    "\n",
    "# Getting filepaths\n",
    "gdrive_fp = config['gdrive_path']\n",
    "LIFE_fp = config['LIFE_folder']\n",
    "dataset_fp = config['datasets_path']\n",
    "benitez_lopez2019 = config['indiv_data_paths']['benitez_lopez2019']\n",
    "\n",
    "ben_lop_path = os.path.join(gdrive_fp, LIFE_fp, dataset_fp, benitez_lopez2019)"
   ]
  },
  {
   "cell_type": "code",
   "execution_count": 3,
   "id": "24459a6e-ef98-4b18-9e6e-ef63690fea16",
   "metadata": {},
   "outputs": [
    {
     "data": {
      "text/html": [
       "<div>\n",
       "<style scoped>\n",
       "    .dataframe tbody tr th:only-of-type {\n",
       "        vertical-align: middle;\n",
       "    }\n",
       "\n",
       "    .dataframe tbody tr th {\n",
       "        vertical-align: top;\n",
       "    }\n",
       "\n",
       "    .dataframe thead th {\n",
       "        text-align: right;\n",
       "    }\n",
       "</style>\n",
       "<table border=\"1\" class=\"dataframe\">\n",
       "  <thead>\n",
       "    <tr style=\"text-align: right;\">\n",
       "      <th></th>\n",
       "      <th>Reference</th>\n",
       "      <th>Study</th>\n",
       "      <th>Order</th>\n",
       "      <th>Family</th>\n",
       "      <th>Species</th>\n",
       "      <th>ratio</th>\n",
       "      <th>RR</th>\n",
       "      <th>X</th>\n",
       "      <th>Y</th>\n",
       "      <th>Region</th>\n",
       "      <th>Country</th>\n",
       "      <th>BM</th>\n",
       "      <th>Diet</th>\n",
       "      <th>DistKm</th>\n",
       "      <th>Reserve</th>\n",
       "      <th>TravTime</th>\n",
       "      <th>LivestockBio</th>\n",
       "      <th>Stunting</th>\n",
       "      <th>PopDens</th>\n",
       "      <th>Literacy</th>\n",
       "    </tr>\n",
       "  </thead>\n",
       "  <tbody>\n",
       "    <tr>\n",
       "      <th>0</th>\n",
       "      <td>Laurance et al., 2006</td>\n",
       "      <td>1</td>\n",
       "      <td>Cetartiodactyla</td>\n",
       "      <td>Bovidae</td>\n",
       "      <td>Cephalophus callipygus, C. dorsalis, C. leucog...</td>\n",
       "      <td>0.377193</td>\n",
       "      <td>-0.974594</td>\n",
       "      <td>9.839</td>\n",
       "      <td>-1.916</td>\n",
       "      <td>Africa</td>\n",
       "      <td>Gabon</td>\n",
       "      <td>17.07</td>\n",
       "      <td>Herb</td>\n",
       "      <td>0.05</td>\n",
       "      <td>No</td>\n",
       "      <td>755.8</td>\n",
       "      <td>39.25948</td>\n",
       "      <td>22.0</td>\n",
       "      <td>0.86</td>\n",
       "      <td>81.8</td>\n",
       "    </tr>\n",
       "    <tr>\n",
       "      <th>1</th>\n",
       "      <td>Laurance et al., 2006</td>\n",
       "      <td>1</td>\n",
       "      <td>Proboscidea</td>\n",
       "      <td>Elephantidae</td>\n",
       "      <td>Loxodonta africana</td>\n",
       "      <td>0.865690</td>\n",
       "      <td>-0.144053</td>\n",
       "      <td>9.839</td>\n",
       "      <td>-1.916</td>\n",
       "      <td>Africa</td>\n",
       "      <td>Gabon</td>\n",
       "      <td>3940.03</td>\n",
       "      <td>Herb</td>\n",
       "      <td>0.05</td>\n",
       "      <td>No</td>\n",
       "      <td>755.8</td>\n",
       "      <td>39.25948</td>\n",
       "      <td>22.0</td>\n",
       "      <td>0.86</td>\n",
       "      <td>81.8</td>\n",
       "    </tr>\n",
       "    <tr>\n",
       "      <th>2</th>\n",
       "      <td>Laurance et al., 2006</td>\n",
       "      <td>1</td>\n",
       "      <td>Cetartiodactyla</td>\n",
       "      <td>Bovidae</td>\n",
       "      <td>Cephalophus callipygus, C. dorsalis, C. leucog...</td>\n",
       "      <td>0.833333</td>\n",
       "      <td>-0.182139</td>\n",
       "      <td>9.839</td>\n",
       "      <td>-1.916</td>\n",
       "      <td>Africa</td>\n",
       "      <td>Gabon</td>\n",
       "      <td>17.07</td>\n",
       "      <td>Herb</td>\n",
       "      <td>0.30</td>\n",
       "      <td>No</td>\n",
       "      <td>755.8</td>\n",
       "      <td>39.25948</td>\n",
       "      <td>22.0</td>\n",
       "      <td>0.86</td>\n",
       "      <td>81.8</td>\n",
       "    </tr>\n",
       "    <tr>\n",
       "      <th>3</th>\n",
       "      <td>Laurance et al., 2006</td>\n",
       "      <td>1</td>\n",
       "      <td>Proboscidea</td>\n",
       "      <td>Elephantidae</td>\n",
       "      <td>Loxodonta africana</td>\n",
       "      <td>0.900862</td>\n",
       "      <td>-0.104234</td>\n",
       "      <td>9.839</td>\n",
       "      <td>-1.916</td>\n",
       "      <td>Africa</td>\n",
       "      <td>Gabon</td>\n",
       "      <td>3940.03</td>\n",
       "      <td>Herb</td>\n",
       "      <td>0.30</td>\n",
       "      <td>No</td>\n",
       "      <td>755.8</td>\n",
       "      <td>39.25948</td>\n",
       "      <td>22.0</td>\n",
       "      <td>0.86</td>\n",
       "      <td>81.8</td>\n",
       "    </tr>\n",
       "    <tr>\n",
       "      <th>4</th>\n",
       "      <td>Laurance et al., 2006</td>\n",
       "      <td>1</td>\n",
       "      <td>Cetartiodactyla</td>\n",
       "      <td>Bovidae</td>\n",
       "      <td>Cephalophus callipygus, C. dorsalis, C. leucog...</td>\n",
       "      <td>0.956140</td>\n",
       "      <td>-0.044691</td>\n",
       "      <td>9.839</td>\n",
       "      <td>-1.916</td>\n",
       "      <td>Africa</td>\n",
       "      <td>Gabon</td>\n",
       "      <td>17.07</td>\n",
       "      <td>Herb</td>\n",
       "      <td>0.60</td>\n",
       "      <td>No</td>\n",
       "      <td>755.8</td>\n",
       "      <td>39.25948</td>\n",
       "      <td>22.0</td>\n",
       "      <td>0.86</td>\n",
       "      <td>81.8</td>\n",
       "    </tr>\n",
       "  </tbody>\n",
       "</table>\n",
       "</div>"
      ],
      "text/plain": [
       "               Reference  Study            Order        Family  \\\n",
       "0  Laurance et al., 2006      1  Cetartiodactyla       Bovidae   \n",
       "1  Laurance et al., 2006      1      Proboscidea  Elephantidae   \n",
       "2  Laurance et al., 2006      1  Cetartiodactyla       Bovidae   \n",
       "3  Laurance et al., 2006      1      Proboscidea  Elephantidae   \n",
       "4  Laurance et al., 2006      1  Cetartiodactyla       Bovidae   \n",
       "\n",
       "                                             Species     ratio        RR  \\\n",
       "0  Cephalophus callipygus, C. dorsalis, C. leucog...  0.377193 -0.974594   \n",
       "1                                 Loxodonta africana  0.865690 -0.144053   \n",
       "2  Cephalophus callipygus, C. dorsalis, C. leucog...  0.833333 -0.182139   \n",
       "3                                 Loxodonta africana  0.900862 -0.104234   \n",
       "4  Cephalophus callipygus, C. dorsalis, C. leucog...  0.956140 -0.044691   \n",
       "\n",
       "       X      Y  Region Country       BM  Diet  DistKm Reserve  TravTime  \\\n",
       "0  9.839 -1.916  Africa   Gabon    17.07  Herb    0.05      No     755.8   \n",
       "1  9.839 -1.916  Africa   Gabon  3940.03  Herb    0.05      No     755.8   \n",
       "2  9.839 -1.916  Africa   Gabon    17.07  Herb    0.30      No     755.8   \n",
       "3  9.839 -1.916  Africa   Gabon  3940.03  Herb    0.30      No     755.8   \n",
       "4  9.839 -1.916  Africa   Gabon    17.07  Herb    0.60      No     755.8   \n",
       "\n",
       "   LivestockBio  Stunting  PopDens  Literacy  \n",
       "0      39.25948      22.0     0.86      81.8  \n",
       "1      39.25948      22.0     0.86      81.8  \n",
       "2      39.25948      22.0     0.86      81.8  \n",
       "3      39.25948      22.0     0.86      81.8  \n",
       "4      39.25948      22.0     0.86      81.8  "
      ]
     },
     "execution_count": 3,
     "metadata": {},
     "output_type": "execute_result"
    }
   ],
   "source": [
    "# Reading in the mammal dataset, for some basic model testing\n",
    "data = read_csv_non_utf(ben_lop_path)\n",
    "data.head()"
   ]
  },
  {
   "cell_type": "code",
   "execution_count": 32,
   "id": "a426db3a-a6be-4839-8063-fb20bba74309",
   "metadata": {},
   "outputs": [],
   "source": [
    "# Preprocessing and splitting into train/test sets - for the DL model\n",
    "X_train, y_train, X_test, y_test = direct_train_test(data, train_size = 0.7, task = 'joint', \n",
    "                                                     already_pp = False, dataset = 'mammals')\n",
    "\n",
    "#  subsetting out training instances w/very large response ratios\n",
    "largest_rr = 3\n",
    "\n",
    "train_mask = (y_train['ratio'] <= largest_rr)\n",
    "X_train, y_train = X_train[train_mask], y_train[train_mask]"
   ]
  },
  {
   "cell_type": "markdown",
   "id": "f42d45fb-405b-4351-80ea-fab45523f437",
   "metadata": {
    "jp-MarkdownHeadingCollapsed": true
   },
   "source": [
    "# Deep learning-based hurdle"
   ]
  },
  {
   "cell_type": "code",
   "execution_count": 33,
   "id": "83e55487-0360-4679-9ff4-fbdbd84eefd9",
   "metadata": {},
   "outputs": [],
   "source": [
    "# A basic DL model which couples the two models in the hurdle - shared feature extraction,\n",
    "#  but separate ANN heads for predicting local extirpation vs. a continuous RR\n",
    "class NeuralHurdle(nn.Module):\n",
    "    def __init__(self, num_features, num_hidden_neurons = 128):\n",
    "        super().__init__()\n",
    "        self.feature_extraction = nn.Sequential(nn.Linear(num_features, num_hidden_neurons),\n",
    "                                                nn.ReLU(),\n",
    "                                                nn.Linear(num_hidden_neurons, num_hidden_neurons),\n",
    "                                                nn.ReLU())\n",
    "\n",
    "        self.zero_head = nn.Sequential(nn.Linear(num_hidden_neurons, 1), \n",
    "                                       nn.Sigmoid())\n",
    "        self.nonzero_head = nn.Linear(num_hidden_neurons, 1)\n",
    "\n",
    "    def forward(self, x):\n",
    "        features = self.feature_extraction(x)\n",
    "\n",
    "        prob_extirp = self.zero_head(features)\n",
    "        \n",
    "        raw_rr = self.nonzero_head(features)\n",
    "        rr = raw_rr.square()\n",
    "        \n",
    "        return rr, prob_extirp\n",
    "\n",
    "    def predict(self, x, extirp_thresh = 0.5):\n",
    "        rr, prob_extirp = self.forward(x)\n",
    "        y_pred = (prob_extirp.cpu() < extirp_thresh).int() * rr.cpu()\n",
    "\n",
    "        return y_pred"
   ]
  },
  {
   "cell_type": "code",
   "execution_count": 34,
   "id": "1b525f4d-3947-4905-b19b-49d1bddab902",
   "metadata": {},
   "outputs": [],
   "source": [
    "# A custom dataset object to handle our data\n",
    "class WrapperDataset(Dataset):\n",
    "    def __init__(self, X, y):\n",
    "        self.X = X\n",
    "        self.y = y\n",
    "\n",
    "    def __len__(self):\n",
    "        return len(self.X)\n",
    "\n",
    "    def __getitem__(self, idx):\n",
    "        predictors = self.X.iloc[idx, : ].values\n",
    "        response = self.y.iloc[idx, : ].values\n",
    "\n",
    "        predictors, response = torch.from_numpy(predictors).float(), torch.from_numpy(response).float()\n",
    "        \n",
    "        return predictors, response\n",
    "\n",
    "    def num_features(self):\n",
    "        return len(self.X.columns)"
   ]
  },
  {
   "cell_type": "code",
   "execution_count": 35,
   "id": "40a42dcc-97d1-4fac-9171-6cc155d31c4e",
   "metadata": {},
   "outputs": [],
   "source": [
    "# Tossing the data into the wrapper dataset\n",
    "train_data = WrapperDataset(X_train, y_train)\n",
    "test_data = WrapperDataset(X_test, y_test)\n",
    "\n",
    "train_dataloader = DataLoader(train_data, batch_size = 128, shuffle = True)\n",
    "test_dataloader = DataLoader(test_data, batch_size = 128, shuffle = True)"
   ]
  },
  {
   "cell_type": "code",
   "execution_count": 36,
   "id": "427e7fb0-cb53-4381-a4ae-a9cb43e4ace6",
   "metadata": {},
   "outputs": [
    {
     "name": "stdout",
     "output_type": "stream",
     "text": [
      "Model has 268290 parameters in total\n"
     ]
    }
   ],
   "source": [
    "# Getting device, looking specifically for Mac's MPS backend \n",
    "device = torch.device('mps') if torch.backends.mps.is_available() else torch.device('cpu')\n",
    "\n",
    "# Setting up model\n",
    "neural_hurdle = NeuralHurdle(num_features = train_data.num_features(), num_hidden_neurons = 512).to(device)\n",
    "print(f'Model has {count_parameters(neural_hurdle)} parameters in total')\n",
    "\n",
    "# Getting device, looking specifically for Mac's MPS backend \n",
    "device = torch.device('mps') if torch.backends.mps.is_available() else torch.device('cpu')\n",
    "\n",
    "# Loss functions and optimizer\n",
    "zero_loss = nn.BCELoss()\n",
    "nonzero_loss = nn.MSELoss()\n",
    "\n",
    "optimizer = torch.optim.Adam(neural_hurdle.parameters())"
   ]
  },
  {
   "cell_type": "code",
   "execution_count": 37,
   "id": "a4871cbd-6528-4721-b08c-412a154f8a67",
   "metadata": {},
   "outputs": [
    {
     "name": "stderr",
     "output_type": "stream",
     "text": [
      "100%|████████████████████████████████████████████████████████████████████████| 250/250 [00:28<00:00,  8.91it/s]\n"
     ]
    }
   ],
   "source": [
    "# Trying a basic training loop over a simple train/test split of the mammal dataset\n",
    "num_epochs = 250\n",
    "losses = []\n",
    "\n",
    "#  main model training\n",
    "neural_hurdle.train()\n",
    "for e in tqdm(range(num_epochs)):\n",
    "    for batch, (X, y) in enumerate(train_dataloader):\n",
    "        #  moving data to device\n",
    "        X, y = X.to(device), y.to(device)\n",
    "        \n",
    "        #  making a prediction + calculating loss\n",
    "        rr, prob_extirp = neural_hurdle(X)\n",
    "        rr, prob_extirp = rr.reshape(-1), prob_extirp.reshape(-1)\n",
    "\n",
    "        nz_loss = nonzero_loss(rr, y[ : , 0])\n",
    "        z_loss = zero_loss(prob_extirp, y[ : , 1])\n",
    "        losses.append([nz_loss.item(), z_loss.item()])\n",
    "        \n",
    "        loss = nz_loss + z_loss\n",
    "\n",
    "        #  backpropogation\n",
    "        loss.backward()\n",
    "        optimizer.step()\n",
    "        optimizer.zero_grad()"
   ]
  },
  {
   "cell_type": "code",
   "execution_count": 38,
   "id": "937fbcff-4f9e-4ae0-adab-c62fbcdd2c78",
   "metadata": {},
   "outputs": [
    {
     "name": "stdout",
     "output_type": "stream",
     "text": [
      "Optimal threshold from train set: 0.15\n"
     ]
    }
   ],
   "source": [
    "# Predicting on the full training set\n",
    "with torch.no_grad():\n",
    "    pred = []\n",
    "    actual = []\n",
    "    \n",
    "    for X, y in train_dataloader:\n",
    "        X = X.to(device)\n",
    "        y_pred = neural_hurdle(X)[1].cpu().tolist()\n",
    "        \n",
    "        pred += y_pred\n",
    "        actual += y[ : , 1].tolist()\n",
    "\n",
    "pred, actual = np.array(pred), np.array(actual)\n",
    "\n",
    "#  tuning the threshold for local extirpation model\n",
    "opt_thresh, _ = test_thresholds(pred, actual, precision = 0.05)\n",
    "opt_thresh = round(opt_thresh, 2)\n",
    "\n",
    "print(f'Optimal threshold from train set: {opt_thresh}')"
   ]
  },
  {
   "cell_type": "code",
   "execution_count": 39,
   "id": "4d9e1fa2-7f29-412b-adce-b4874eec07c8",
   "metadata": {},
   "outputs": [
    {
     "data": {
      "image/png": "[encoded data removed]",
      "text/plain": [
       "<Figure size 640x480 with 1 Axes>"
      ]
     },
     "metadata": {},
     "output_type": "display_data"
    },
    {
     "data": {
      "image/png": "[encoded data removed]",
      "text/plain": [
       "<Figure size 640x480 with 1 Axes>"
      ]
     },
     "metadata": {},
     "output_type": "display_data"
    }
   ],
   "source": [
    "# Plotting the progression of the two loss components\n",
    "losses = np.array(losses)\n",
    "\n",
    "plt.plot(losses[ : , 0], color = 'blue')\n",
    "plt.title('Nonzero loss')\n",
    "plt.show()\n",
    "\n",
    "plt.plot(losses[ : , 1], color = 'orange')\n",
    "plt.title('Zero loss')\n",
    "plt.show()"
   ]
  },
  {
   "cell_type": "code",
   "execution_count": 47,
   "id": "1f1e46a0-7909-4362-9a1b-8578079a0273",
   "metadata": {},
   "outputs": [
    {
     "name": "stdout",
     "output_type": "stream",
     "text": [
      "MAPE_0.05: 59.006\n",
      "BA_0.05: 40.294\n",
      "MAE: 0.877\n",
      "MAE 0-1: 0.236\n"
     ]
    }
   ],
   "source": [
    "# Evaluating the DL hurdle-style model\n",
    "neural_hurdle.eval()\n",
    "\n",
    "#  getting all predictions for the test set\n",
    "with torch.no_grad():\n",
    "    pred = []\n",
    "    actual = []\n",
    "    \n",
    "    for X, y in test_dataloader:\n",
    "        X = X.to(device)\n",
    "        y_pred = neural_hurdle.predict(X, extirp_thresh = opt_thresh).cpu().tolist()\n",
    "        \n",
    "        pred += y_pred\n",
    "        actual += y.tolist()\n",
    "\n",
    "pred, actual = np.array(pred).reshape(-1), np.array(actual)\n",
    "\n",
    "#  computing metrics\n",
    "actual_rr = actual[ : , 0].reshape(-1)\n",
    "\n",
    "mape = mean_absolute_percent_error_tau(actual_rr, pred, tau = 0.05)\n",
    "ba = balanced_accuracy_DI_cats(actual_rr, pred, neighborhood = 0.05)\n",
    "mae = mean_absolute_error(actual_rr, pred)\n",
    "mae_01 = mean_absolute_error_range(actual_rr, pred, lower_bound = 0, upper_bound = 1)[0]\n",
    "\n",
    "#  displaying test metric values\n",
    "print('MAPE_0.05:', round(mape * 100, 3))\n",
    "print('BA_0.05:', round(ba * 100, 3))\n",
    "print('MAE:', round(mae, 3))\n",
    "print('MAE 0-1:', round(mae_01, 3))"
   ]
  },
  {
   "cell_type": "code",
   "execution_count": 55,
   "id": "7cda1123-d210-43b1-87fe-7515c5ce1a21",
   "metadata": {},
   "outputs": [
    {
     "name": "stdout",
     "output_type": "stream",
     "text": [
      "BA extirp: 0.706\n"
     ]
    }
   ],
   "source": [
    "# Taking a look at the balanced accuracy for JUST the local extirpation model\n",
    "actual_extirp = actual[ : , 1].reshape(-1)\n",
    "pred_extirp = (pred == 0).astype(int)\n",
    "\n",
    "ba_extirp = balanced_accuracy_score(actual_extirp, pred_extirp)\n",
    "print('BA extirp:', round(ba_extirp, 3))"
   ]
  },
  {
   "cell_type": "code",
   "execution_count": 43,
   "id": "c9e644c2-b7cc-4c8e-90ad-f5ad4e8f703b",
   "metadata": {},
   "outputs": [
    {
     "data": {
      "image/png": "[encoded data removed]",
      "text/plain": [
       "<Figure size 640x480 with 1 Axes>"
      ]
     },
     "metadata": {},
     "output_type": "display_data"
    }
   ],
   "source": [
    "# Looking at histogram of RRs - pred vs actual\n",
    "max_val = 2\n",
    "\n",
    "max_mask = ((actual <= max_val) & (actual >= 0))\n",
    "actual_maxed = actual[max_mask].reshape(-1)\n",
    "pred_maxed = pred[max_mask].reshape(-1)\n",
    "\n",
    "\n",
    "sns.histplot(x = pred_maxed, stat = 'count', kde = False, legend = False, bins = 25, \n",
    "             color = 'maroon', zorder = 100, alpha = 0.3, ec = None, binrange = (0, max_val))\n",
    "sns.histplot(x = actual_maxed, stat = 'count', kde = False, legend = False, bins = 25, \n",
    "             color = 'grey', zorder = 100, alpha = 0.3, ec = None, binrange = (0, max_val))\n",
    "\n",
    "plt.show()"
   ]
  },
  {
   "cell_type": "markdown",
   "id": "2a53c8c3-43f0-4c47-bf1a-5e10dab97c8e",
   "metadata": {
    "jp-MarkdownHeadingCollapsed": true
   },
   "source": [
    "# Stacked generalization"
   ]
  },
  {
   "cell_type": "code",
   "execution_count": 148,
   "id": "cf39493b-fa02-47cc-97c5-e7690951c7c2",
   "metadata": {},
   "outputs": [],
   "source": [
    "# Potential for a neural model on end of stacked generalization pipeline?\n",
    "class NeuralStackedGeneralizer(nn.Module):\n",
    "    def __init__(self, num_input_models, num_features, num_hidden_neurons = 128):\n",
    "        super().__init__()\n",
    "        self.generalizer = nn.Sequential(nn.Linear(num_input_models + num_features, num_hidden_neurons),\n",
    "                                         nn.ReLU(),\n",
    "                                         nn.Linear(num_hidden_neurons, num_hidden_neurons),\n",
    "                                         nn.ReLU(), \n",
    "                                         nn.Linear(num_hidden_neurons, num_input_models))\n",
    "\n",
    "    def forward(self, model_outputs, features, return_weights = False):\n",
    "        #  stack model outputs + features into a single matrix\n",
    "        x = torch.cat((model_outputs, features), dim = 1)\n",
    "        \n",
    "        #  predict model weights for each sample (original features + model predictions)\n",
    "        raw_model_weights = self.generalizer(x).square()\n",
    "        model_weights = raw_model_weights.transpose(0, 1).div(raw_model_weights.sum(axis = 1)).transpose(1, 0)\n",
    "\n",
    "        #  using the model weights to compute the final RR, as a weighted avg of model predictions\n",
    "        rr = torch.mul(model_weights, model_outputs).sum(axis = 1)\n",
    "        \n",
    "        if return_weights:\n",
    "            return rr, model_weights\n",
    "        return rr"
   ]
  },
  {
   "cell_type": "code",
   "execution_count": 147,
   "id": "b09b24d3-db67-42fa-9617-8a51323ce8cd",
   "metadata": {},
   "outputs": [
    {
     "data": {
      "text/plain": [
       "torch.Size([10])"
      ]
     },
     "execution_count": 147,
     "metadata": {},
     "output_type": "execute_result"
    }
   ],
   "source": [
    "# Just checking that everything's working correctly here w/some toy matrices\n",
    "num_models = 5\n",
    "num_features = 8\n",
    "N = 10\n",
    "\n",
    "model_outputs = torch.rand(N, num_models)\n",
    "features = torch.rand(N, num_features)\n",
    "\n",
    "nsg = NeuralStackedGeneralizer(num_models, num_features, 128)\n",
    "rr = nsg(model_outputs, features, False)\n",
    "\n",
    "rr.shape"
   ]
  },
  {
   "cell_type": "markdown",
   "id": "04abad85-68ee-4b2d-b29b-b7596f993b7e",
   "metadata": {
    "jp-MarkdownHeadingCollapsed": true
   },
   "source": [
    "# Median vs. mean absolute error"
   ]
  },
  {
   "cell_type": "code",
   "execution_count": 44,
   "id": "24e6f5b3-1ac8-4503-b42a-eeb852772a79",
   "metadata": {},
   "outputs": [
    {
     "name": "stdout",
     "output_type": "stream",
     "text": [
      "Mean vs median AEs, overall:\n",
      "0.8904571372323528\n",
      "0.3096538440735773\n",
      "\n",
      "Mean vs median AEs, 0-1 range:\n",
      "0.33241320309630923\n",
      "0.2475833870825495\n",
      "---\n",
      "Mean vs median AEs, overall:\n",
      "0.9396920076951054\n",
      "0.31029616719648573\n",
      "\n",
      "Mean vs median AEs, 0-1 range:\n",
      "0.32671652422771424\n",
      "0.2364694181252425\n",
      "---\n",
      "Mean vs median AEs, overall:\n",
      "0.8488565852078693\n",
      "0.29422363727097933\n",
      "\n",
      "Mean vs median AEs, 0-1 range:\n",
      "0.32642724282905555\n",
      "0.23131495212250486\n",
      "---\n",
      "Mean vs median AEs, overall:\n",
      "0.7737067842936436\n",
      "0.3484616765629174\n",
      "\n",
      "Mean vs median AEs, 0-1 range:\n",
      "0.3579765109843509\n",
      "0.2734272856567567\n",
      "---\n",
      "Mean vs median AEs, overall:\n",
      "1.0039194560360574\n",
      "0.3783928627456551\n",
      "\n",
      "Mean vs median AEs, 0-1 range:\n",
      "0.342042949112395\n",
      "0.27017621378330264\n",
      "---\n"
     ]
    }
   ],
   "source": [
    "f = '/Users/emiliolr/Desktop/life-hunting/mres_results/raw_predictions/pymer_hurdle_wo_rfx_mammals_5-fold_random-blocking.csv'\n",
    "d = pd.read_csv(f)\n",
    "\n",
    "for k in range(0, 5):\n",
    "    d_sub = d[d['fold'] == k]\n",
    "\n",
    "    aes = np.abs(d_sub['predicted'] - d_sub['actual'])\n",
    "\n",
    "    print('Mean vs median AEs, overall:')\n",
    "    print(np.mean(aes))\n",
    "    print(np.median(aes))\n",
    "    print()\n",
    "\n",
    "    lower_bound, upper_bound = 0, 1\n",
    "\n",
    "    bound_mask = (d_sub['actual'] >= lower_bound) & (d_sub['actual'] <= upper_bound)\n",
    "    y_true_sub = d_sub['actual'][bound_mask]\n",
    "    y_pred_sub = d_sub['predicted'][bound_mask]\n",
    "\n",
    "    print('Mean vs median AEs, 0-1 range:')\n",
    "    print(np.mean(np.abs(y_pred_sub - y_true_sub)))\n",
    "    print(np.median(np.abs(y_pred_sub - y_true_sub)))\n",
    "    print('---')"
   ]
  },
  {
   "cell_type": "markdown",
   "id": "9860561a-08db-46d9-9791-7b804b1026e4",
   "metadata": {},
   "source": [
    "# SMOTE for fixing class imbalance problems"
   ]
  },
  {
   "cell_type": "code",
   "execution_count": 221,
   "id": "11f98f89-1c74-4b5b-8306-b00e49f1b860",
   "metadata": {},
   "outputs": [],
   "source": [
    "# Oversampling the minority class using the SMOTE algorithm - messes w/the normalization, so this should\n",
    "#  be done BEFORE preprocessing steps\n",
    "X_sub = data[['TravTime', 'DistKm', 'Reserve']].copy(deep = True)\n",
    "X_sub['Reserve'] = (X_sub['Reserve'] == 'Yes').astype(int)\n",
    "y_sub = (data['ratio'] == 0).copy(deep = True).astype(int)\n",
    "\n",
    "smote = SMOTENC(categorical_features = ['Reserve'], random_state = 1693)\n",
    "X_res, y_res = smote.fit_resample(X_sub, y_sub)"
   ]
  },
  {
   "cell_type": "code",
   "execution_count": null,
   "id": "5da79681-4865-4657-b0bc-4dc8d0f98abd",
   "metadata": {},
   "outputs": [],
   "source": []
  }
 ],
 "metadata": {
  "kernelspec": {
   "display_name": "Python 3 (ipykernel)",
   "language": "python",
   "name": "python3"
  },
  "language_info": {
   "codemirror_mode": {
    "name": "ipython",
    "version": 3
   },
   "file_extension": ".py",
   "mimetype": "text/x-python",
   "name": "python",
   "nbconvert_exporter": "python",
   "pygments_lexer": "ipython3",
   "version": "3.12.2"
  }
 },
 "nbformat": 4,
 "nbformat_minor": 5
}
