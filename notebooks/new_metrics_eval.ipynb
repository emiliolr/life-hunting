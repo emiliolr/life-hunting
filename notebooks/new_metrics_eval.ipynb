{
 "cells": [
  {
   "cell_type": "markdown",
   "id": "63666c30-f727-43ca-8361-66235dcc5075",
   "metadata": {},
   "source": [
    "# Setup"
   ]
  },
  {
   "cell_type": "code",
   "execution_count": 1,
   "id": "144e4fe5-1419-40af-990d-a8e7e43c847b",
   "metadata": {},
   "outputs": [],
   "source": [
    "import sys\n",
    "import os\n",
    "\n",
    "sys.path.append('..')\n",
    "\n",
    "import pandas as pd\n",
    "import numpy as np\n",
    "\n",
    "from custom_metrics import *"
   ]
  },
  {
   "cell_type": "markdown",
   "id": "ed8df2d5-de36-4305-866a-a38636233bba",
   "metadata": {},
   "source": [
    "## Utility functions"
   ]
  },
  {
   "cell_type": "code",
   "execution_count": 56,
   "id": "8f94b8d7-d278-4d05-8ef9-bd360ef046e9",
   "metadata": {},
   "outputs": [],
   "source": [
    "# Utility function to extract bits of info on a run from its filename\n",
    "def get_run_info_from_fname(filename):\n",
    "    bits = filename.split('_')\n",
    "\n",
    "    model = bits[0]\n",
    "    assert bits[0] in ['pymer', 'FLAML', 'dummy'], f'Model \"{bits[0]}\" is not currently implemented in this function'\n",
    "    \n",
    "    if model == 'pymer':\n",
    "        model_name = bits[0 : 4]\n",
    "        i = 4\n",
    "    elif model == 'FLAML': \n",
    "        model_name = bits[0 : 3]\n",
    "        i = 3\n",
    "    elif model == 'dummy':\n",
    "        model_name = bits[0 : 2]\n",
    "        i = 2\n",
    "    model_name = '_'.join(model_name)\n",
    "\n",
    "    if bits[i + 1] == 'extended':\n",
    "        dataset = bits[i : i + 2]\n",
    "        dataset = '_'.join(dataset)\n",
    "        i += 2\n",
    "    else:\n",
    "        dataset = bits[i]\n",
    "        i += 1\n",
    "    \n",
    "    num_folds = bits[i]\n",
    "    num_folds = int(num_folds.removesuffix('-fold'))\n",
    "    i += 1\n",
    "\n",
    "    block_type = bits[i]\n",
    "    block_type = block_type.removesuffix('.csv').removesuffix('-blocking')\n",
    "    i += 1\n",
    "\n",
    "    spatial_spacing = None\n",
    "    group_col = None\n",
    "    \n",
    "    if block_type == 'spatial':\n",
    "        spatial_spacing = bits[i]\n",
    "        spatial_spacing = int(spatial_spacing.removesuffix('-degree.csv'))\n",
    "    elif block_type == 'group':\n",
    "        group_col = bits[i]\n",
    "        group_col = group_col.removesuffix('.csv')\n",
    "\n",
    "    return_dict = {'model_name' : model_name, \n",
    "                   'dataset' : dataset, \n",
    "                   'num_folds' : num_folds, \n",
    "                   'block_type' : block_type,\n",
    "                   'spatial_spacing' : spatial_spacing,\n",
    "                   'group_col' : group_col,\n",
    "                   'filename' : filename}\n",
    "\n",
    "    return return_dict"
   ]
  },
  {
   "cell_type": "code",
   "execution_count": 57,
   "id": "7bd939eb-ae7d-424e-b474-06511537f22a",
   "metadata": {},
   "outputs": [],
   "source": [
    "# Utility function to apply a metric by fold and then get avg/standard dev over folds\n",
    "def get_metric_CV(raw_preds, metric, **kwargs):\n",
    "    raw_preds = raw_preds.groupby('fold')\n",
    "    metric_by_group = raw_preds.apply(lambda x: metric(x['actual'], x['predicted'], **kwargs), include_groups = False)\n",
    "    \n",
    "    metric_mean = metric_by_group.mean()\n",
    "    metric_std = metric_by_group.std()\n",
    "\n",
    "    return metric_mean, metric_std"
   ]
  },
  {
   "cell_type": "markdown",
   "id": "773c02df-f8b0-4ac5-bc67-da69c12a2a78",
   "metadata": {},
   "source": [
    "# Evaluating with new metrics"
   ]
  },
  {
   "cell_type": "code",
   "execution_count": 58,
   "id": "56e62b47-5e2c-45b5-8fac-abd7c8472132",
   "metadata": {},
   "outputs": [],
   "source": [
    "# Read in the raw predictions from the nonlinear hurdle w/ and w/o additional predictors\n",
    "raw_preds_path = '../phd_results/raw_predictions'\n",
    "runs_to_eval = ['FLAML_hurdle_2.0mins_birds_5-fold_random-blocking.csv',\n",
    "                'FLAML_hurdle_2.0mins_birds_extended_5-fold_random-blocking.csv',\n",
    "                'pymer_hurdle_wo_rfx_birds_5-fold_random-blocking.csv',\n",
    "                'dummy_regressor_birds_5-fold_random-blocking.csv']\n",
    "\n",
    "#  get run info and read in raw prediction dataframe\n",
    "runs_to_eval = [get_run_info_from_fname(r) for r in runs_to_eval]\n",
    "\n",
    "for r in runs_to_eval:\n",
    "    df = pd.read_csv(os.path.join(raw_preds_path, r['filename']), index_col = 'index')\n",
    "    r['raw_preds'] = df\n",
    "    r['new_metrics'] = {}"
   ]
  },
  {
   "cell_type": "code",
   "execution_count": 63,
   "id": "ea813ed1-01f4-4a99-a4e0-15912fb7d29d",
   "metadata": {},
   "outputs": [],
   "source": [
    "# Fiddling with the new metrics\n",
    "#  balanced accuracy on the new DI categories\n",
    "neighborhood = 0.05\n",
    "\n",
    "for r in runs_to_eval:\n",
    "    ba_mean, ba_std = get_metric_CV(r['raw_preds'], balanced_accuracy_DI_cats, **{'neighborhood' : neighborhood})\n",
    "    r['new_metrics'][f'balanced_accuracy_{neighborhood}'] = {'mean' : ba_mean, 'standard_deviation' : ba_std}\n",
    "\n",
    "#  mean absolute percentage error\n",
    "tau = 0.05\n",
    "\n",
    "for r in runs_to_eval:\n",
    "    mape_mean, mape_std = get_metric_CV(r['raw_preds'], mean_absolute_percent_error_tau, **{'tau' : tau})\n",
    "    r['new_metrics'][f'mape_{tau}'] = {'mean' : mape_mean, 'standard_deviation' : mape_std}\n",
    "\n",
    "#  wasserstein distance for distributional similarity\n",
    "upper_thresh = 2\n",
    "\n",
    "for r in runs_to_eval:\n",
    "    raw_preds_thresh = r['raw_preds'][r['raw_preds']['actual'] <= upper_thresh]\n",
    "    \n",
    "    wass_mean, wass_std = get_metric_CV(raw_preds_thresh, wasserstein_distance)\n",
    "    r['new_metrics'][f'wasserstein_{upper_thresh}'] = {'mean' : wass_mean, 'standard_deviation' : wass_std}"
   ]
  },
  {
   "cell_type": "code",
   "execution_count": 71,
   "id": "d799ec57-5c10-4d59-adc7-8b09b24e68bf",
   "metadata": {},
   "outputs": [
    {
     "data": {
      "text/html": [
       "<div>\n",
       "<style scoped>\n",
       "    .dataframe tbody tr th:only-of-type {\n",
       "        vertical-align: middle;\n",
       "    }\n",
       "\n",
       "    .dataframe tbody tr th {\n",
       "        vertical-align: top;\n",
       "    }\n",
       "\n",
       "    .dataframe thead th {\n",
       "        text-align: right;\n",
       "    }\n",
       "</style>\n",
       "<table border=\"1\" class=\"dataframe\">\n",
       "  <thead>\n",
       "    <tr style=\"text-align: right;\">\n",
       "      <th></th>\n",
       "      <th>metric</th>\n",
       "      <th>mean</th>\n",
       "      <th>standard_deviation</th>\n",
       "      <th>model_name</th>\n",
       "      <th>dataset</th>\n",
       "      <th>num_folds</th>\n",
       "      <th>block_type</th>\n",
       "      <th>spatial_spacing</th>\n",
       "      <th>group_col</th>\n",
       "    </tr>\n",
       "  </thead>\n",
       "  <tbody>\n",
       "    <tr>\n",
       "      <th>0</th>\n",
       "      <td>balanced_accuracy_0.05</td>\n",
       "      <td>0.386707</td>\n",
       "      <td>0.027833</td>\n",
       "      <td>FLAML_hurdle_2.0mins</td>\n",
       "      <td>birds</td>\n",
       "      <td>5</td>\n",
       "      <td>random</td>\n",
       "      <td>None</td>\n",
       "      <td>None</td>\n",
       "    </tr>\n",
       "    <tr>\n",
       "      <th>1</th>\n",
       "      <td>mape_0.05</td>\n",
       "      <td>0.867842</td>\n",
       "      <td>0.078867</td>\n",
       "      <td>FLAML_hurdle_2.0mins</td>\n",
       "      <td>birds</td>\n",
       "      <td>5</td>\n",
       "      <td>random</td>\n",
       "      <td>None</td>\n",
       "      <td>None</td>\n",
       "    </tr>\n",
       "    <tr>\n",
       "      <th>2</th>\n",
       "      <td>wasserstein_2</td>\n",
       "      <td>0.171189</td>\n",
       "      <td>0.020065</td>\n",
       "      <td>FLAML_hurdle_2.0mins</td>\n",
       "      <td>birds</td>\n",
       "      <td>5</td>\n",
       "      <td>random</td>\n",
       "      <td>None</td>\n",
       "      <td>None</td>\n",
       "    </tr>\n",
       "    <tr>\n",
       "      <th>3</th>\n",
       "      <td>balanced_accuracy_0.05</td>\n",
       "      <td>0.381219</td>\n",
       "      <td>0.042564</td>\n",
       "      <td>FLAML_hurdle_2.0mins</td>\n",
       "      <td>birds_extended</td>\n",
       "      <td>5</td>\n",
       "      <td>random</td>\n",
       "      <td>None</td>\n",
       "      <td>None</td>\n",
       "    </tr>\n",
       "    <tr>\n",
       "      <th>4</th>\n",
       "      <td>mape_0.05</td>\n",
       "      <td>0.831000</td>\n",
       "      <td>0.083367</td>\n",
       "      <td>FLAML_hurdle_2.0mins</td>\n",
       "      <td>birds_extended</td>\n",
       "      <td>5</td>\n",
       "      <td>random</td>\n",
       "      <td>None</td>\n",
       "      <td>None</td>\n",
       "    </tr>\n",
       "    <tr>\n",
       "      <th>5</th>\n",
       "      <td>wasserstein_2</td>\n",
       "      <td>0.173068</td>\n",
       "      <td>0.028699</td>\n",
       "      <td>FLAML_hurdle_2.0mins</td>\n",
       "      <td>birds_extended</td>\n",
       "      <td>5</td>\n",
       "      <td>random</td>\n",
       "      <td>None</td>\n",
       "      <td>None</td>\n",
       "    </tr>\n",
       "    <tr>\n",
       "      <th>6</th>\n",
       "      <td>balanced_accuracy_0.05</td>\n",
       "      <td>0.306605</td>\n",
       "      <td>0.020371</td>\n",
       "      <td>pymer_hurdle_wo_rfx</td>\n",
       "      <td>birds</td>\n",
       "      <td>5</td>\n",
       "      <td>random</td>\n",
       "      <td>None</td>\n",
       "      <td>None</td>\n",
       "    </tr>\n",
       "    <tr>\n",
       "      <th>7</th>\n",
       "      <td>mape_0.05</td>\n",
       "      <td>0.900168</td>\n",
       "      <td>0.053353</td>\n",
       "      <td>pymer_hurdle_wo_rfx</td>\n",
       "      <td>birds</td>\n",
       "      <td>5</td>\n",
       "      <td>random</td>\n",
       "      <td>None</td>\n",
       "      <td>None</td>\n",
       "    </tr>\n",
       "    <tr>\n",
       "      <th>8</th>\n",
       "      <td>wasserstein_2</td>\n",
       "      <td>0.221529</td>\n",
       "      <td>0.060272</td>\n",
       "      <td>pymer_hurdle_wo_rfx</td>\n",
       "      <td>birds</td>\n",
       "      <td>5</td>\n",
       "      <td>random</td>\n",
       "      <td>None</td>\n",
       "      <td>None</td>\n",
       "    </tr>\n",
       "    <tr>\n",
       "      <th>9</th>\n",
       "      <td>balanced_accuracy_0.05</td>\n",
       "      <td>0.250000</td>\n",
       "      <td>0.000000</td>\n",
       "      <td>dummy_regressor</td>\n",
       "      <td>birds</td>\n",
       "      <td>5</td>\n",
       "      <td>random</td>\n",
       "      <td>None</td>\n",
       "      <td>None</td>\n",
       "    </tr>\n",
       "    <tr>\n",
       "      <th>10</th>\n",
       "      <td>mape_0.05</td>\n",
       "      <td>1.292778</td>\n",
       "      <td>0.127762</td>\n",
       "      <td>dummy_regressor</td>\n",
       "      <td>birds</td>\n",
       "      <td>5</td>\n",
       "      <td>random</td>\n",
       "      <td>None</td>\n",
       "      <td>None</td>\n",
       "    </tr>\n",
       "    <tr>\n",
       "      <th>11</th>\n",
       "      <td>wasserstein_2</td>\n",
       "      <td>0.610813</td>\n",
       "      <td>0.025582</td>\n",
       "      <td>dummy_regressor</td>\n",
       "      <td>birds</td>\n",
       "      <td>5</td>\n",
       "      <td>random</td>\n",
       "      <td>None</td>\n",
       "      <td>None</td>\n",
       "    </tr>\n",
       "  </tbody>\n",
       "</table>\n",
       "</div>"
      ],
      "text/plain": [
       "                    metric      mean  standard_deviation  \\\n",
       "0   balanced_accuracy_0.05  0.386707            0.027833   \n",
       "1                mape_0.05  0.867842            0.078867   \n",
       "2            wasserstein_2  0.171189            0.020065   \n",
       "3   balanced_accuracy_0.05  0.381219            0.042564   \n",
       "4                mape_0.05  0.831000            0.083367   \n",
       "5            wasserstein_2  0.173068            0.028699   \n",
       "6   balanced_accuracy_0.05  0.306605            0.020371   \n",
       "7                mape_0.05  0.900168            0.053353   \n",
       "8            wasserstein_2  0.221529            0.060272   \n",
       "9   balanced_accuracy_0.05  0.250000            0.000000   \n",
       "10               mape_0.05  1.292778            0.127762   \n",
       "11           wasserstein_2  0.610813            0.025582   \n",
       "\n",
       "              model_name         dataset  num_folds block_type  \\\n",
       "0   FLAML_hurdle_2.0mins           birds          5     random   \n",
       "1   FLAML_hurdle_2.0mins           birds          5     random   \n",
       "2   FLAML_hurdle_2.0mins           birds          5     random   \n",
       "3   FLAML_hurdle_2.0mins  birds_extended          5     random   \n",
       "4   FLAML_hurdle_2.0mins  birds_extended          5     random   \n",
       "5   FLAML_hurdle_2.0mins  birds_extended          5     random   \n",
       "6    pymer_hurdle_wo_rfx           birds          5     random   \n",
       "7    pymer_hurdle_wo_rfx           birds          5     random   \n",
       "8    pymer_hurdle_wo_rfx           birds          5     random   \n",
       "9        dummy_regressor           birds          5     random   \n",
       "10       dummy_regressor           birds          5     random   \n",
       "11       dummy_regressor           birds          5     random   \n",
       "\n",
       "   spatial_spacing group_col  \n",
       "0             None      None  \n",
       "1             None      None  \n",
       "2             None      None  \n",
       "3             None      None  \n",
       "4             None      None  \n",
       "5             None      None  \n",
       "6             None      None  \n",
       "7             None      None  \n",
       "8             None      None  \n",
       "9             None      None  \n",
       "10            None      None  \n",
       "11            None      None  "
      ]
     },
     "execution_count": 71,
     "metadata": {},
     "output_type": "execute_result"
    }
   ],
   "source": [
    "# Turning new metric results into a dataframe\n",
    "new_metrics = pd.DataFrame(columns = ['metric', 'mean', 'standard_deviation', 'model_name', 'dataset', \n",
    "                                      'num_folds', 'block_type', 'spatial_spacing', 'group_col'])\n",
    "\n",
    "i = 0\n",
    "for r in runs_to_eval:\n",
    "    new_metrics_vals = r['new_metrics']\n",
    "    for m in new_metrics_vals.keys():\n",
    "        row = [m, new_metrics_vals[m]['mean'], new_metrics_vals[m]['standard_deviation'], r['model_name'], r['dataset'], \n",
    "               r['num_folds'], r['block_type'], r['spatial_spacing'], r['group_col']]\n",
    "        \n",
    "        new_metrics.loc[i] = row\n",
    "        i += 1\n",
    "\n",
    "new_metrics"
   ]
  },
  {
   "cell_type": "markdown",
   "id": "48fd6495-9ef4-446b-b3dc-583491c21d31",
   "metadata": {},
   "source": [
    "## Misc exploration"
   ]
  },
  {
   "cell_type": "code",
   "execution_count": 30,
   "id": "a4c95115-1051-4c93-94a1-8aa8c6d74ec9",
   "metadata": {},
   "outputs": [
    {
     "name": "stdout",
     "output_type": "stream",
     "text": [
      "0.421\n"
     ]
    },
    {
     "data": {
      "image/png": "[encoded data removed]",
      "text/plain": [
       "<Figure size 640x480 with 1 Axes>"
      ]
     },
     "metadata": {},
     "output_type": "display_data"
    },
    {
     "name": "stdout",
     "output_type": "stream",
     "text": [
      "0.302\n"
     ]
    },
    {
     "data": {
      "image/png": "[encoded data removed]",
      "text/plain": [
       "<Figure size 640x480 with 1 Axes>"
      ]
     },
     "metadata": {},
     "output_type": "display_data"
    },
    {
     "name": "stdout",
     "output_type": "stream",
     "text": [
      "0.415\n"
     ]
    },
    {
     "data": {
      "image/png": "[encoded data removed]",
      "text/plain": [
       "<Figure size 640x480 with 1 Axes>"
      ]
     },
     "metadata": {},
     "output_type": "display_data"
    },
    {
     "name": "stdout",
     "output_type": "stream",
     "text": [
      "0.306\n"
     ]
    },
    {
     "data": {
      "image/png": "[encoded data removed]",
      "text/plain": [
       "<Figure size 640x480 with 1 Axes>"
      ]
     },
     "metadata": {},
     "output_type": "display_data"
    },
    {
     "name": "stdout",
     "output_type": "stream",
     "text": [
      "0.356\n"
     ]
    },
    {
     "data": {
      "image/png": "[encoded data removed]",
      "text/plain": [
       "<Figure size 640x480 with 1 Axes>"
      ]
     },
     "metadata": {},
     "output_type": "display_data"
    }
   ],
   "source": [
    "import matplotlib.pyplot as plt\n",
    "import seaborn as sns\n",
    "\n",
    "max_val = 5\n",
    "model_to_plot = raw_birds_nonlinear\n",
    "\n",
    "for fold in range(0, 5):\n",
    "    d = model_to_plot[model_to_plot['fold'] == fold]\n",
    "    d = d[d['actual'] <= max_val]\n",
    "\n",
    "    fig, axs = plt.subplots(1, 1)\n",
    "    \n",
    "    sns.histplot(data = d, x = 'predicted', stat = 'count', kde = False, legend = False, bins = 25, \n",
    "                 color = 'maroon', zorder = 100, alpha = 0.3, ec = None, binrange = (0, max_val))\n",
    "\n",
    "    sns.histplot(data = d, x = 'actual', stat = 'count', kde = False, legend = False, bins = 25, \n",
    "                 color = 'grey', zorder = 100, alpha = 0.3, ec = None, binrange = (0, max_val))\n",
    "\n",
    "    wd = wasserstein_distance(d['actual'], d['predicted'])\n",
    "    print(round(wd, 3))\n",
    "\n",
    "    plt.show()"
   ]
  },
  {
   "cell_type": "code",
   "execution_count": null,
   "id": "3dffab5f-5e14-4dc4-b41c-d25e5cac3655",
   "metadata": {},
   "outputs": [],
   "source": []
  }
 ],
 "metadata": {
  "kernelspec": {
   "display_name": "Python 3 (ipykernel)",
   "language": "python",
   "name": "python3"
  },
  "language_info": {
   "codemirror_mode": {
    "name": "ipython",
    "version": 3
   },
   "file_extension": ".py",
   "mimetype": "text/x-python",
   "name": "python",
   "nbconvert_exporter": "python",
   "pygments_lexer": "ipython3",
   "version": "3.12.2"
  }
 },
 "nbformat": 4,
 "nbformat_minor": 5
}
