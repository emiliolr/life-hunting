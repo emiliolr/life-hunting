{
 "cells": [
  {
   "cell_type": "markdown",
   "id": "368e696e-4d3c-4a76-8713-3bdb024abc7d",
   "metadata": {},
   "source": [
    "# Setup"
   ]
  },
  {
   "cell_type": "code",
   "execution_count": 32,
   "id": "494a7622-26a7-4413-a750-68254c895c8a",
   "metadata": {},
   "outputs": [],
   "source": [
    "import json\n",
    "import os\n",
    "import sys\n",
    "from itertools import chain, combinations\n",
    "\n",
    "sys.path.append('..')\n",
    "sys.path.append('../scripts')\n",
    "\n",
    "from tqdm import tqdm\n",
    "\n",
    "import pandas as pd\n",
    "\n",
    "from utils import read_csv_non_utf\n",
    "from train_final_model import main as train_candidate_model"
   ]
  },
  {
   "cell_type": "code",
   "execution_count": 2,
   "id": "cb012979-821d-47d3-a5e1-555a40f71120",
   "metadata": {},
   "outputs": [
    {
     "data": {
      "text/html": [
       "<div>\n",
       "<style scoped>\n",
       "    .dataframe tbody tr th:only-of-type {\n",
       "        vertical-align: middle;\n",
       "    }\n",
       "\n",
       "    .dataframe tbody tr th {\n",
       "        vertical-align: top;\n",
       "    }\n",
       "\n",
       "    .dataframe thead th {\n",
       "        text-align: right;\n",
       "    }\n",
       "</style>\n",
       "<table border=\"1\" class=\"dataframe\">\n",
       "  <thead>\n",
       "    <tr style=\"text-align: right;\">\n",
       "      <th></th>\n",
       "      <th>Reference</th>\n",
       "      <th>Study</th>\n",
       "      <th>Order</th>\n",
       "      <th>Family</th>\n",
       "      <th>Species</th>\n",
       "      <th>Species_List</th>\n",
       "      <th>Longitude</th>\n",
       "      <th>Latitude</th>\n",
       "      <th>Response_Ratio</th>\n",
       "      <th>Region</th>\n",
       "      <th>...</th>\n",
       "      <th>Road_Density</th>\n",
       "      <th>Percent_Settlement_50km</th>\n",
       "      <th>BM</th>\n",
       "      <th>DistKm</th>\n",
       "      <th>Reserve</th>\n",
       "      <th>TravTime</th>\n",
       "      <th>LivestockBio</th>\n",
       "      <th>Stunting</th>\n",
       "      <th>PopDens</th>\n",
       "      <th>Literacy</th>\n",
       "    </tr>\n",
       "  </thead>\n",
       "  <tbody>\n",
       "    <tr>\n",
       "      <th>0</th>\n",
       "      <td>Laurance et al., 2006</td>\n",
       "      <td>1</td>\n",
       "      <td>Cetartiodactyla</td>\n",
       "      <td>Bovidae</td>\n",
       "      <td>Cephalophus callipygus, C. dorsalis, C. leucog...</td>\n",
       "      <td>Cephalophus callipygus|Cephalophus dorsalis|Ce...</td>\n",
       "      <td>9.839</td>\n",
       "      <td>-1.916</td>\n",
       "      <td>0.377193</td>\n",
       "      <td>Africa</td>\n",
       "      <td>...</td>\n",
       "      <td>129</td>\n",
       "      <td>0.002549</td>\n",
       "      <td>17.07</td>\n",
       "      <td>0.05</td>\n",
       "      <td>No</td>\n",
       "      <td>755.8</td>\n",
       "      <td>39.25948</td>\n",
       "      <td>22.0</td>\n",
       "      <td>0.86</td>\n",
       "      <td>81.8</td>\n",
       "    </tr>\n",
       "    <tr>\n",
       "      <th>1</th>\n",
       "      <td>Laurance et al., 2006</td>\n",
       "      <td>1</td>\n",
       "      <td>Proboscidea</td>\n",
       "      <td>Elephantidae</td>\n",
       "      <td>Loxodonta africana</td>\n",
       "      <td>Loxodonta africana</td>\n",
       "      <td>9.839</td>\n",
       "      <td>-1.916</td>\n",
       "      <td>0.865690</td>\n",
       "      <td>Africa</td>\n",
       "      <td>...</td>\n",
       "      <td>129</td>\n",
       "      <td>0.002549</td>\n",
       "      <td>3940.03</td>\n",
       "      <td>0.05</td>\n",
       "      <td>No</td>\n",
       "      <td>755.8</td>\n",
       "      <td>39.25948</td>\n",
       "      <td>22.0</td>\n",
       "      <td>0.86</td>\n",
       "      <td>81.8</td>\n",
       "    </tr>\n",
       "    <tr>\n",
       "      <th>2</th>\n",
       "      <td>Laurance et al., 2006</td>\n",
       "      <td>1</td>\n",
       "      <td>Cetartiodactyla</td>\n",
       "      <td>Bovidae</td>\n",
       "      <td>Cephalophus callipygus, C. dorsalis, C. leucog...</td>\n",
       "      <td>Cephalophus callipygus|Cephalophus dorsalis|Ce...</td>\n",
       "      <td>9.839</td>\n",
       "      <td>-1.916</td>\n",
       "      <td>0.833333</td>\n",
       "      <td>Africa</td>\n",
       "      <td>...</td>\n",
       "      <td>129</td>\n",
       "      <td>0.002549</td>\n",
       "      <td>17.07</td>\n",
       "      <td>0.30</td>\n",
       "      <td>No</td>\n",
       "      <td>755.8</td>\n",
       "      <td>39.25948</td>\n",
       "      <td>22.0</td>\n",
       "      <td>0.86</td>\n",
       "      <td>81.8</td>\n",
       "    </tr>\n",
       "    <tr>\n",
       "      <th>3</th>\n",
       "      <td>Laurance et al., 2006</td>\n",
       "      <td>1</td>\n",
       "      <td>Proboscidea</td>\n",
       "      <td>Elephantidae</td>\n",
       "      <td>Loxodonta africana</td>\n",
       "      <td>Loxodonta africana</td>\n",
       "      <td>9.839</td>\n",
       "      <td>-1.916</td>\n",
       "      <td>0.900862</td>\n",
       "      <td>Africa</td>\n",
       "      <td>...</td>\n",
       "      <td>129</td>\n",
       "      <td>0.002549</td>\n",
       "      <td>3940.03</td>\n",
       "      <td>0.30</td>\n",
       "      <td>No</td>\n",
       "      <td>755.8</td>\n",
       "      <td>39.25948</td>\n",
       "      <td>22.0</td>\n",
       "      <td>0.86</td>\n",
       "      <td>81.8</td>\n",
       "    </tr>\n",
       "    <tr>\n",
       "      <th>4</th>\n",
       "      <td>Laurance et al., 2006</td>\n",
       "      <td>1</td>\n",
       "      <td>Cetartiodactyla</td>\n",
       "      <td>Bovidae</td>\n",
       "      <td>Cephalophus callipygus, C. dorsalis, C. leucog...</td>\n",
       "      <td>Cephalophus callipygus|Cephalophus dorsalis|Ce...</td>\n",
       "      <td>9.839</td>\n",
       "      <td>-1.916</td>\n",
       "      <td>0.956140</td>\n",
       "      <td>Africa</td>\n",
       "      <td>...</td>\n",
       "      <td>129</td>\n",
       "      <td>0.002549</td>\n",
       "      <td>17.07</td>\n",
       "      <td>0.60</td>\n",
       "      <td>No</td>\n",
       "      <td>755.8</td>\n",
       "      <td>39.25948</td>\n",
       "      <td>22.0</td>\n",
       "      <td>0.86</td>\n",
       "      <td>81.8</td>\n",
       "    </tr>\n",
       "  </tbody>\n",
       "</table>\n",
       "<p>5 rows × 37 columns</p>\n",
       "</div>"
      ],
      "text/plain": [
       "               Reference  Study            Order        Family  \\\n",
       "0  Laurance et al., 2006      1  Cetartiodactyla       Bovidae   \n",
       "1  Laurance et al., 2006      1      Proboscidea  Elephantidae   \n",
       "2  Laurance et al., 2006      1  Cetartiodactyla       Bovidae   \n",
       "3  Laurance et al., 2006      1      Proboscidea  Elephantidae   \n",
       "4  Laurance et al., 2006      1  Cetartiodactyla       Bovidae   \n",
       "\n",
       "                                             Species  \\\n",
       "0  Cephalophus callipygus, C. dorsalis, C. leucog...   \n",
       "1                                 Loxodonta africana   \n",
       "2  Cephalophus callipygus, C. dorsalis, C. leucog...   \n",
       "3                                 Loxodonta africana   \n",
       "4  Cephalophus callipygus, C. dorsalis, C. leucog...   \n",
       "\n",
       "                                        Species_List  Longitude  Latitude  \\\n",
       "0  Cephalophus callipygus|Cephalophus dorsalis|Ce...      9.839    -1.916   \n",
       "1                                 Loxodonta africana      9.839    -1.916   \n",
       "2  Cephalophus callipygus|Cephalophus dorsalis|Ce...      9.839    -1.916   \n",
       "3                                 Loxodonta africana      9.839    -1.916   \n",
       "4  Cephalophus callipygus|Cephalophus dorsalis|Ce...      9.839    -1.916   \n",
       "\n",
       "   Response_Ratio  Region  ... Road_Density  Percent_Settlement_50km       BM  \\\n",
       "0        0.377193  Africa  ...          129                 0.002549    17.07   \n",
       "1        0.865690  Africa  ...          129                 0.002549  3940.03   \n",
       "2        0.833333  Africa  ...          129                 0.002549    17.07   \n",
       "3        0.900862  Africa  ...          129                 0.002549  3940.03   \n",
       "4        0.956140  Africa  ...          129                 0.002549    17.07   \n",
       "\n",
       "   DistKm  Reserve  TravTime  LivestockBio  Stunting  PopDens  Literacy  \n",
       "0    0.05       No     755.8      39.25948      22.0     0.86      81.8  \n",
       "1    0.05       No     755.8      39.25948      22.0     0.86      81.8  \n",
       "2    0.30       No     755.8      39.25948      22.0     0.86      81.8  \n",
       "3    0.30       No     755.8      39.25948      22.0     0.86      81.8  \n",
       "4    0.60       No     755.8      39.25948      22.0     0.86      81.8  \n",
       "\n",
       "[5 rows x 37 columns]"
      ]
     },
     "execution_count": 2,
     "metadata": {},
     "output_type": "execute_result"
    }
   ],
   "source": [
    "# Loading in general configuration\n",
    "with open('../config.json', 'r') as f:\n",
    "    config = json.load(f)\n",
    "\n",
    "# Getting filepaths\n",
    "gdrive_fp = config['gdrive_path']\n",
    "LIFE_fp = config['LIFE_folder']\n",
    "dataset_fp = config['datasets_path']\n",
    "benitez_lopez2019 = config['indiv_data_paths']['benitez_lopez2019_recreated']\n",
    "\n",
    "#  reading the dataset\n",
    "ben_lop_path = os.path.join(gdrive_fp, LIFE_fp, dataset_fp, benitez_lopez2019)\n",
    "data = read_csv_non_utf(ben_lop_path)\n",
    "\n",
    "data.head()"
   ]
  },
  {
   "cell_type": "markdown",
   "id": "55b28d79-a765-4229-b8c9-e1967a8503e6",
   "metadata": {},
   "source": [
    "## Utility functions"
   ]
  },
  {
   "cell_type": "code",
   "execution_count": 3,
   "id": "4f72e1b8-60a3-4b4f-a32e-748273769b23",
   "metadata": {},
   "outputs": [],
   "source": [
    "# Powerset function, ignoring the case of empty subset \n",
    "#  - https://docs.python.org/3/library/itertools.html#itertools-recipes  \n",
    "def powerset(iterable):\n",
    "    s = list(iterable)\n",
    "    return chain.from_iterable(combinations(s, r) for r in range(1, len(s) + 1))"
   ]
  },
  {
   "cell_type": "markdown",
   "id": "889ee086-6ab6-42fd-8f8d-2fa59f2b08c8",
   "metadata": {},
   "source": [
    "# Getting combos of features to try"
   ]
  },
  {
   "cell_type": "code",
   "execution_count": 4,
   "id": "fd3d014c-4874-4a57-bae9-c760f86c6575",
   "metadata": {},
   "outputs": [],
   "source": [
    "# Defining the number of models to compare for model selection\n",
    "predictors = ['Body_Mass', 'Stunting_Pct', 'Literacy_Rate', 'Dist_Settlement_KM', 'Travel_Time_Large',\n",
    "              'Protected_Area', 'Livestock_Biomass', 'Population_Density', 'Percent_Settlement_50km']\n",
    "interactions = ['Body_Mass*Dist_Settlement_KM', 'Body_Mass*Percent_Settlement_50km']\n",
    "quadratics = ['I(Dist_Settlement_KM^2)', 'I(Population_Density^2)', 'I(Body_Mass^2)', \n",
    "              'I(Stunting_Pct^2)']\n",
    "\n",
    "all_predictors = predictors + interactions + quadratics\n",
    "all_combos = list(powerset(all_predictors))"
   ]
  },
  {
   "cell_type": "code",
   "execution_count": 5,
   "id": "c8e5eb0d-9607-4c35-a549-eaa4369f7024",
   "metadata": {},
   "outputs": [],
   "source": [
    "# Thinning out possible combinations w/some reasonable rules:\n",
    "#  1. Only include a quadratic if the original var is included\n",
    "#  2. Only include interaction terms if both vars are included\n",
    "#  3. Models must include body mass, population density, and at least one of \n",
    "#     the distance to settlement measures\n",
    "final_combos = []\n",
    "\n",
    "for c in all_combos:\n",
    "    include = True\n",
    "    \n",
    "    #  rule 1\n",
    "    for q in quadratics:\n",
    "        if q in c:\n",
    "            original_var = q.removeprefix('I(').removesuffix('^2)')\n",
    "            \n",
    "            if original_var not in c:\n",
    "                include = False\n",
    "\n",
    "    #  rule 2\n",
    "    for i in interactions:\n",
    "        if i in c:\n",
    "            var1 = i.split('*')[0]\n",
    "            var2 = i.split('*')[1]\n",
    "\n",
    "            if (var1 not in c) or (var2 not in c):\n",
    "                include = False\n",
    "\n",
    "    #  rule 3\n",
    "    if 'Body_Mass' not in c:\n",
    "        include = False\n",
    "    elif 'Population_Density' not in c:\n",
    "        include = False\n",
    "    elif ('Dist_Settlement_KM' not in c) or ('Percent_Settlement_50km' not in c):\n",
    "        include = False\n",
    "\n",
    "    #  including only if it satisfies all three rules\n",
    "    if include:\n",
    "        final_combos.append(c)"
   ]
  },
  {
   "cell_type": "code",
   "execution_count": 6,
   "id": "60c2f044-73b1-4ed5-95b7-04164a38062e",
   "metadata": {},
   "outputs": [
    {
     "name": "stdout",
     "output_type": "stream",
     "text": [
      "After thinning out based on the ruleset, there are 1536 models to try\n",
      "All models are unique: True\n"
     ]
    }
   ],
   "source": [
    "# Checking out the resulting set of models to test\n",
    "print(f'After thinning out based on the ruleset, there are {len(final_combos)} models to try')\n",
    "print(f'All models are unique: {len(set(final_combos)) == len(final_combos)}')"
   ]
  },
  {
   "cell_type": "code",
   "execution_count": 13,
   "id": "f960ee68-9eb1-40e1-92d0-b033eb9bdf2b",
   "metadata": {},
   "outputs": [],
   "source": [
    "# Constructing the formula based on the var subsets to try\n",
    "nonzero_formula = []\n",
    "zero_formula = []\n",
    "\n",
    "for c in final_combos:\n",
    "    formula = ' + '.join(c)\n",
    "    nonzero_formula.append('RR ~ ' + formula + ' + (1|Country) + (1|Species) + (1|Study)')\n",
    "    zero_formula.append('local_extirpation ~ ' + formula + ' + (1|Country) + (1|Species) + (1|Study)')"
   ]
  },
  {
   "cell_type": "markdown",
   "id": "5c6343aa-696e-424a-bbe7-497a890cff2e",
   "metadata": {},
   "source": [
    "# Running the models + getting BIC"
   ]
  },
  {
   "cell_type": "code",
   "execution_count": 14,
   "id": "ca004842-d54d-47bf-b4b1-0846d22927bd",
   "metadata": {},
   "outputs": [],
   "source": [
    "# A wrapper class to pass in params to the script like argparse\n",
    "class ModelParams:\n",
    "    def __init__(self, params):\n",
    "        for k, v in params.items():\n",
    "            setattr(self, k, v)"
   ]
  },
  {
   "cell_type": "code",
   "execution_count": 15,
   "id": "f9845f23-75ed-44b3-bf3e-da1d61daaeac",
   "metadata": {},
   "outputs": [],
   "source": [
    "# Establishing generic model params\n",
    "params = {'gdrive' : True,\n",
    "          'dataset' : 'mammals_recreated', \n",
    "          'rebalance_dataset' : False,\n",
    "          'tune_thresh' : False, \n",
    "          'outlier_cutoff' : 5, \n",
    "          'model_to_use' : 'pymer',\n",
    "          'return_model' : True,\n",
    "          'save_trained_model' : False,\n",
    "          'verbose' : False}"
   ]
  },
  {
   "cell_type": "code",
   "execution_count": 52,
   "id": "242d0f45-e97d-40ee-8daf-3e752c0e0b0a",
   "metadata": {},
   "outputs": [
    {
     "name": "stderr",
     "output_type": "stream",
     "text": [
      " 10%|█████▉                                                     | 10/100 [00:13<02:11,  1.46s/it]"
     ]
    },
    {
     "name": "stdout",
     "output_type": "stream",
     "text": [
      "unable to evaluate scaled gradient \n",
      "\n",
      "Model failed to converge: degenerate  Hessian with 1 negative eigenvalues \n",
      "\n"
     ]
    },
    {
     "name": "stderr",
     "output_type": "stream",
     "text": [
      " 19%|███████████▏                                               | 19/100 [00:23<01:26,  1.07s/it]"
     ]
    },
    {
     "name": "stdout",
     "output_type": "stream",
     "text": [
      "[1] \"Model failed to converge with max|grad| = 0.122257 (tol = 0.002, component 1)\"\n",
      "[2] \" \\n\"                                                                          \n",
      "\n",
      "[1] \"Model is nearly unidentifiable: very large eigenvalue\\n - Rescale variables?\"\n",
      "[2] \" \\n\"                                                                         \n",
      "\n"
     ]
    },
    {
     "name": "stderr",
     "output_type": "stream",
     "text": [
      " 40%|███████████████████████▌                                   | 40/100 [00:49<01:08,  1.13s/it]"
     ]
    },
    {
     "name": "stdout",
     "output_type": "stream",
     "text": [
      "[1] \"Model failed to converge with max|grad| = 2.10359 (tol = 0.002, component 1)\"\n",
      "[2] \" \\n\"                                                                         \n",
      "\n",
      "[1] \"Model is nearly unidentifiable: very large eigenvalue\\n - Rescale variables?\"\n",
      "[2] \" \\n\"                                                                         \n",
      "\n"
     ]
    },
    {
     "name": "stderr",
     "output_type": "stream",
     "text": [
      " 45%|██████████████████████████▌                                | 45/100 [00:56<01:07,  1.24s/it]"
     ]
    },
    {
     "name": "stdout",
     "output_type": "stream",
     "text": [
      "[1] \"Model failed to converge with max|grad| = 0.133258 (tol = 0.002, component 1)\"\n",
      "[2] \" \\n\"                                                                          \n",
      "\n",
      "[1] \"Model is nearly unidentifiable: very large eigenvalue\\n - Rescale variables?\"\n",
      "[2] \" \\n\"                                                                         \n",
      "\n"
     ]
    },
    {
     "name": "stderr",
     "output_type": "stream",
     "text": [
      " 46%|███████████████████████████▏                               | 46/100 [00:57<00:59,  1.10s/it]"
     ]
    },
    {
     "name": "stdout",
     "output_type": "stream",
     "text": [
      "[1] \"Model failed to converge with max|grad| = 0.176457 (tol = 0.002, component 1)\"\n",
      "[2] \" \\n\"                                                                          \n",
      "\n",
      "[1] \"Model is nearly unidentifiable: very large eigenvalue\\n - Rescale variables?\"\n",
      "[2] \" \\n\"                                                                         \n",
      "\n"
     ]
    },
    {
     "name": "stderr",
     "output_type": "stream",
     "text": [
      " 53%|███████████████████████████████▎                           | 53/100 [01:08<01:00,  1.28s/it]"
     ]
    },
    {
     "name": "stdout",
     "output_type": "stream",
     "text": [
      "unable to evaluate scaled gradient \n",
      "\n",
      "Model failed to converge: degenerate  Hessian with 1 negative eigenvalues \n",
      "\n"
     ]
    },
    {
     "name": "stderr",
     "output_type": "stream",
     "text": [
      " 55%|████████████████████████████████▍                          | 55/100 [01:10<00:53,  1.18s/it]"
     ]
    },
    {
     "name": "stdout",
     "output_type": "stream",
     "text": [
      "[1] \"Model failed to converge with max|grad| = 0.145797 (tol = 0.002, component 1)\"\n",
      "[2] \" \\n\"                                                                          \n",
      "\n",
      "[1] \"Model is nearly unidentifiable: very large eigenvalue\\n - Rescale variables?\"\n",
      "[2] \" \\n\"                                                                         \n",
      "\n"
     ]
    },
    {
     "name": "stderr",
     "output_type": "stream",
     "text": [
      " 64%|█████████████████████████████████████▊                     | 64/100 [01:23<00:54,  1.51s/it]"
     ]
    },
    {
     "name": "stdout",
     "output_type": "stream",
     "text": [
      "unable to evaluate scaled gradient \n",
      "\n",
      "Model failed to converge: degenerate  Hessian with 1 negative eigenvalues \n",
      "\n"
     ]
    },
    {
     "name": "stderr",
     "output_type": "stream",
     "text": [
      " 78%|██████████████████████████████████████████████             | 78/100 [01:42<00:26,  1.21s/it]"
     ]
    },
    {
     "name": "stdout",
     "output_type": "stream",
     "text": [
      "[1] \"Model failed to converge with max|grad| = 2.21462 (tol = 0.002, component 1)\"\n",
      "[2] \" \\n\"                                                                         \n",
      "\n",
      "[1] \"Model is nearly unidentifiable: very large eigenvalue\\n - Rescale variables?\"\n",
      "[2] \" \\n\"                                                                         \n",
      "\n"
     ]
    },
    {
     "name": "stderr",
     "output_type": "stream",
     "text": [
      " 79%|██████████████████████████████████████████████▌            | 79/100 [01:43<00:22,  1.09s/it]"
     ]
    },
    {
     "name": "stdout",
     "output_type": "stream",
     "text": [
      "unable to evaluate scaled gradient \n",
      "\n",
      "Model failed to converge: degenerate  Hessian with 1 negative eigenvalues \n",
      "\n"
     ]
    },
    {
     "name": "stderr",
     "output_type": "stream",
     "text": [
      " 97%|█████████████████████████████████████████████████████████▏ | 97/100 [02:10<00:04,  1.36s/it]"
     ]
    },
    {
     "name": "stdout",
     "output_type": "stream",
     "text": [
      "unable to evaluate scaled gradient \n",
      "\n",
      "Model failed to converge: degenerate  Hessian with 1 negative eigenvalues \n",
      "\n"
     ]
    },
    {
     "name": "stderr",
     "output_type": "stream",
     "text": [
      "100%|██████████████████████████████████████████████████████████| 100/100 [02:15<00:00,  1.36s/it]\n"
     ]
    }
   ],
   "source": [
    "# Testing each candidate formula for the zero/nonzero models + recording the results...\n",
    "formula = list(zip(zero_formula, nonzero_formula))[ : 100]\n",
    "zero_results = {'formula' : [], 'aic' : [], 'bic' : [], 'log_likelihood' : []}\n",
    "nonzero_results = {'formula' : [], 'aic' : [], 'bic' : [], 'log_likelihood' : []}\n",
    "\n",
    "for z_form, nz_form in tqdm(formula):\n",
    "    #  filling out the params w/the zero + nonzero formula to try\n",
    "    params['pymer_zero_formula'] = z_form\n",
    "    params['pymer_nonzero_formula'] = nz_form\n",
    "    args = ModelParams(params)\n",
    "\n",
    "    #  train the zero + nonzero models\n",
    "    trained_model = train_candidate_model(args)\n",
    "\n",
    "    #  record results in terms of AIC, BIC, and log-likelihood\n",
    "    zero_results['formula'].append(z_form)\n",
    "    zero_results['aic'].append(trained_model.zero_model.model.AIC)\n",
    "    zero_results['bic'].append(trained_model.zero_model.model.BIC)\n",
    "    zero_results['log_likelihood'].append(trained_model.zero_model.model.logLike)\n",
    "\n",
    "    nonzero_results['formula'].append(nz_form)\n",
    "    nonzero_results['aic'].append(trained_model.nonzero_model.model.AIC)\n",
    "    nonzero_results['bic'].append(trained_model.nonzero_model.model.BIC)\n",
    "    nonzero_results['log_likelihood'].append(trained_model.nonzero_model.model.logLike)"
   ]
  },
  {
   "cell_type": "code",
   "execution_count": 53,
   "id": "8e89aa6b-d630-499f-9acc-ddf73fdcd54d",
   "metadata": {},
   "outputs": [],
   "source": [
    "# Turning results into dataframes + sorting by BIC\n",
    "zero_results_df = pd.DataFrame.from_dict(zero_results)\n",
    "nonzero_results_df = pd.DataFrame.from_dict(nonzero_results)\n",
    "\n",
    "zero_results_df = zero_results_df.sort_values('bic', ascending = True)\n",
    "nonzero_results_df = nonzero_results_df.sort_values('bic', ascending = True)"
   ]
  },
  {
   "cell_type": "code",
   "execution_count": 58,
   "id": "f47af1e9-5ced-45b6-bf6b-3c2cc0519179",
   "metadata": {},
   "outputs": [
    {
     "data": {
      "text/html": [
       "<div>\n",
       "<style scoped>\n",
       "    .dataframe tbody tr th:only-of-type {\n",
       "        vertical-align: middle;\n",
       "    }\n",
       "\n",
       "    .dataframe tbody tr th {\n",
       "        vertical-align: top;\n",
       "    }\n",
       "\n",
       "    .dataframe thead th {\n",
       "        text-align: right;\n",
       "    }\n",
       "</style>\n",
       "<table border=\"1\" class=\"dataframe\">\n",
       "  <thead>\n",
       "    <tr style=\"text-align: right;\">\n",
       "      <th></th>\n",
       "      <th>formula</th>\n",
       "      <th>aic</th>\n",
       "      <th>bic</th>\n",
       "      <th>log_likelihood</th>\n",
       "    </tr>\n",
       "  </thead>\n",
       "  <tbody>\n",
       "    <tr>\n",
       "      <th>30</th>\n",
       "      <td>local_extirpation ~ Body_Mass + Dist_Settlemen...</td>\n",
       "      <td>2102.517851</td>\n",
       "      <td>2163.211275</td>\n",
       "      <td>-1041.258926</td>\n",
       "    </tr>\n",
       "    <tr>\n",
       "      <th>67</th>\n",
       "      <td>local_extirpation ~ Body_Mass + Stunting_Pct +...</td>\n",
       "      <td>2102.435639</td>\n",
       "      <td>2169.198405</td>\n",
       "      <td>-1040.217819</td>\n",
       "    </tr>\n",
       "    <tr>\n",
       "      <th>29</th>\n",
       "      <td>local_extirpation ~ Body_Mass + Dist_Settlemen...</td>\n",
       "      <td>2115.345480</td>\n",
       "      <td>2176.038903</td>\n",
       "      <td>-1047.672740</td>\n",
       "    </tr>\n",
       "    <tr>\n",
       "      <th>74</th>\n",
       "      <td>local_extirpation ~ Body_Mass + Stunting_Pct +...</td>\n",
       "      <td>2111.118101</td>\n",
       "      <td>2177.880867</td>\n",
       "      <td>-1044.559051</td>\n",
       "    </tr>\n",
       "    <tr>\n",
       "      <th>44</th>\n",
       "      <td>local_extirpation ~ Body_Mass + Dist_Settlemen...</td>\n",
       "      <td>2117.966985</td>\n",
       "      <td>2178.660409</td>\n",
       "      <td>-1048.983493</td>\n",
       "    </tr>\n",
       "  </tbody>\n",
       "</table>\n",
       "</div>"
      ],
      "text/plain": [
       "                                              formula          aic  \\\n",
       "30  local_extirpation ~ Body_Mass + Dist_Settlemen...  2102.517851   \n",
       "67  local_extirpation ~ Body_Mass + Stunting_Pct +...  2102.435639   \n",
       "29  local_extirpation ~ Body_Mass + Dist_Settlemen...  2115.345480   \n",
       "74  local_extirpation ~ Body_Mass + Stunting_Pct +...  2111.118101   \n",
       "44  local_extirpation ~ Body_Mass + Dist_Settlemen...  2117.966985   \n",
       "\n",
       "            bic  log_likelihood  \n",
       "30  2163.211275    -1041.258926  \n",
       "67  2169.198405    -1040.217819  \n",
       "29  2176.038903    -1047.672740  \n",
       "74  2177.880867    -1044.559051  \n",
       "44  2178.660409    -1048.983493  "
      ]
     },
     "execution_count": 58,
     "metadata": {},
     "output_type": "execute_result"
    }
   ],
   "source": [
    "# Zero results\n",
    "zero_results_df.head(5)"
   ]
  },
  {
   "cell_type": "code",
   "execution_count": 55,
   "id": "78f8cd64-5c58-484b-86ce-f1e2e7cef6ea",
   "metadata": {},
   "outputs": [
    {
     "data": {
      "text/html": [
       "<div>\n",
       "<style scoped>\n",
       "    .dataframe tbody tr th:only-of-type {\n",
       "        vertical-align: middle;\n",
       "    }\n",
       "\n",
       "    .dataframe tbody tr th {\n",
       "        vertical-align: top;\n",
       "    }\n",
       "\n",
       "    .dataframe thead th {\n",
       "        text-align: right;\n",
       "    }\n",
       "</style>\n",
       "<table border=\"1\" class=\"dataframe\">\n",
       "  <thead>\n",
       "    <tr style=\"text-align: right;\">\n",
       "      <th></th>\n",
       "      <th>formula</th>\n",
       "      <th>aic</th>\n",
       "      <th>bic</th>\n",
       "      <th>log_likelihood</th>\n",
       "    </tr>\n",
       "  </thead>\n",
       "  <tbody>\n",
       "    <tr>\n",
       "      <th>0</th>\n",
       "      <td>RR ~ Body_Mass + Dist_Settlement_KM + Populati...</td>\n",
       "      <td>7033.888569</td>\n",
       "      <td>7087.283058</td>\n",
       "      <td>-3507.944284</td>\n",
       "    </tr>\n",
       "    <tr>\n",
       "      <th>1</th>\n",
       "      <td>RR ~ Body_Mass + Stunting_Pct + Dist_Settlemen...</td>\n",
       "      <td>7031.870902</td>\n",
       "      <td>7091.198112</td>\n",
       "      <td>-3505.935451</td>\n",
       "    </tr>\n",
       "    <tr>\n",
       "      <th>2</th>\n",
       "      <td>RR ~ Body_Mass + Literacy_Rate + Dist_Settleme...</td>\n",
       "      <td>7032.275667</td>\n",
       "      <td>7091.602877</td>\n",
       "      <td>-3506.137834</td>\n",
       "    </tr>\n",
       "    <tr>\n",
       "      <th>3</th>\n",
       "      <td>RR ~ Body_Mass + Dist_Settlement_KM + Travel_T...</td>\n",
       "      <td>7035.884444</td>\n",
       "      <td>7095.211654</td>\n",
       "      <td>-3507.942222</td>\n",
       "    </tr>\n",
       "    <tr>\n",
       "      <th>8</th>\n",
       "      <td>RR ~ Body_Mass + Dist_Settlement_KM + Populati...</td>\n",
       "      <td>7036.668373</td>\n",
       "      <td>7095.995584</td>\n",
       "      <td>-3508.334187</td>\n",
       "    </tr>\n",
       "  </tbody>\n",
       "</table>\n",
       "</div>"
      ],
      "text/plain": [
       "                                             formula          aic  \\\n",
       "0  RR ~ Body_Mass + Dist_Settlement_KM + Populati...  7033.888569   \n",
       "1  RR ~ Body_Mass + Stunting_Pct + Dist_Settlemen...  7031.870902   \n",
       "2  RR ~ Body_Mass + Literacy_Rate + Dist_Settleme...  7032.275667   \n",
       "3  RR ~ Body_Mass + Dist_Settlement_KM + Travel_T...  7035.884444   \n",
       "8  RR ~ Body_Mass + Dist_Settlement_KM + Populati...  7036.668373   \n",
       "\n",
       "           bic  log_likelihood  \n",
       "0  7087.283058    -3507.944284  \n",
       "1  7091.198112    -3505.935451  \n",
       "2  7091.602877    -3506.137834  \n",
       "3  7095.211654    -3507.942222  \n",
       "8  7095.995584    -3508.334187  "
      ]
     },
     "execution_count": 55,
     "metadata": {},
     "output_type": "execute_result"
    }
   ],
   "source": [
    "# Nonzero results\n",
    "nonzero_results_df.head(5)"
   ]
  },
  {
   "cell_type": "code",
   "execution_count": null,
   "id": "8ec675f3-1ac9-4d55-830c-ac3cd262081d",
   "metadata": {},
   "outputs": [],
   "source": []
  }
 ],
 "metadata": {
  "kernelspec": {
   "display_name": "Python 3 (ipykernel)",
   "language": "python",
   "name": "python3"
  },
  "language_info": {
   "codemirror_mode": {
    "name": "ipython",
    "version": 3
   },
   "file_extension": ".py",
   "mimetype": "text/x-python",
   "name": "python",
   "nbconvert_exporter": "python",
   "pygments_lexer": "ipython3",
   "version": "3.12.2"
  }
 },
 "nbformat": 4,
 "nbformat_minor": 5
}
