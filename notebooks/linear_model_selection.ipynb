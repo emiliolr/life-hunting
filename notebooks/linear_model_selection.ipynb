{
 "cells": [
  {
   "cell_type": "markdown",
   "id": "368e696e-4d3c-4a76-8713-3bdb024abc7d",
   "metadata": {},
   "source": [
    "# Setup"
   ]
  },
  {
   "cell_type": "code",
   "execution_count": 1,
   "id": "494a7622-26a7-4413-a750-68254c895c8a",
   "metadata": {},
   "outputs": [
    {
     "name": "stderr",
     "output_type": "stream",
     "text": [
      "/Users/emiliolr/miniforge3/envs/life-hunting/lib/python3.12/site-packages/timm/models/layers/__init__.py:48: FutureWarning: Importing from timm.models.layers is deprecated, please import via timm.layers\n",
      "  warnings.warn(f\"Importing from {__name__} is deprecated, please import via timm.layers\", FutureWarning)\n",
      "/Users/emiliolr/miniforge3/envs/life-hunting/lib/python3.12/site-packages/kornia/feature/lightglue.py:44: FutureWarning: `torch.cuda.amp.custom_fwd(args...)` is deprecated. Please use `torch.amp.custom_fwd(args..., device_type='cuda')` instead.\n",
      "  @torch.cuda.amp.custom_fwd(cast_inputs=torch.float32)\n"
     ]
    }
   ],
   "source": [
    "import json\n",
    "import os\n",
    "import sys\n",
    "import warnings\n",
    "from itertools import chain, combinations\n",
    "\n",
    "sys.path.append('..')\n",
    "sys.path.append('../scripts')\n",
    "\n",
    "from tqdm import tqdm\n",
    "\n",
    "import pandas as pd\n",
    "\n",
    "from utils import read_csv_non_utf\n",
    "from train_final_model import main as train_candidate_model"
   ]
  },
  {
   "cell_type": "markdown",
   "id": "55b28d79-a765-4229-b8c9-e1967a8503e6",
   "metadata": {},
   "source": [
    "## Utility functions"
   ]
  },
  {
   "cell_type": "code",
   "execution_count": 2,
   "id": "4f72e1b8-60a3-4b4f-a32e-748273769b23",
   "metadata": {},
   "outputs": [],
   "source": [
    "# Powerset function, ignoring the case of empty subset \n",
    "#  - https://docs.python.org/3/library/itertools.html#itertools-recipes  \n",
    "def powerset(iterable):\n",
    "    s = list(iterable)\n",
    "    return chain.from_iterable(combinations(s, r) for r in range(1, len(s) + 1))"
   ]
  },
  {
   "cell_type": "markdown",
   "id": "889ee086-6ab6-42fd-8f8d-2fa59f2b08c8",
   "metadata": {},
   "source": [
    "# Getting combos of features to try"
   ]
  },
  {
   "cell_type": "code",
   "execution_count": 3,
   "id": "fd3d014c-4874-4a57-bae9-c760f86c6575",
   "metadata": {},
   "outputs": [],
   "source": [
    "# Defining the number of models to compare for model selection\n",
    "predictors = ['Body_Mass', 'Stunting_Pct', 'Literacy_Rate', 'Dist_Settlement_KM', 'Travel_Time_Large',\n",
    "              'Protected_Area', 'Livestock_Biomass', 'Population_Density', 'Percent_Settlement_50km']\n",
    "interactions = ['Body_Mass*Dist_Settlement_KM']\n",
    "quadratics = ['I(Dist_Settlement_KM^2)', 'I(Population_Density^2)', 'I(Body_Mass^2)', \n",
    "              'I(Stunting_Pct^2)']\n",
    "\n",
    "all_predictors = predictors + interactions + quadratics\n",
    "all_combos = list(powerset(all_predictors))"
   ]
  },
  {
   "cell_type": "code",
   "execution_count": 4,
   "id": "c8e5eb0d-9607-4c35-a549-eaa4369f7024",
   "metadata": {},
   "outputs": [],
   "source": [
    "# Thinning out possible combinations w/some reasonable rules:\n",
    "#  1. Only include a quadratic if the original var is included\n",
    "#  2. Only include interaction terms if both vars are included\n",
    "#  3. Models must include body mass, population density, and at least one of \n",
    "#     the distance to settlement measures\n",
    "final_combos = []\n",
    "\n",
    "for c in all_combos:\n",
    "    include = True\n",
    "    \n",
    "    #  rule 1\n",
    "    for q in quadratics:\n",
    "        if q in c:\n",
    "            original_var = q.removeprefix('I(').removesuffix('^2)')\n",
    "            \n",
    "            if original_var not in c:\n",
    "                include = False\n",
    "\n",
    "    #  rule 2\n",
    "    for i in interactions:\n",
    "        if i in c:\n",
    "            var1 = i.split('*')[0]\n",
    "            var2 = i.split('*')[1]\n",
    "\n",
    "            if (var1 not in c) or (var2 not in c):\n",
    "                include = False\n",
    "\n",
    "    #  rule 3\n",
    "    if 'Body_Mass' not in c:\n",
    "        include = False\n",
    "    elif 'Population_Density' not in c:\n",
    "        include = False\n",
    "    elif ('Dist_Settlement_KM' not in c) and ('Percent_Settlement_50km' not in c):\n",
    "        include = False\n",
    "\n",
    "    #  including only if it satisfies all three rules\n",
    "    if include:\n",
    "        final_combos.append(c)"
   ]
  },
  {
   "cell_type": "code",
   "execution_count": 5,
   "id": "60c2f044-73b1-4ed5-95b7-04164a38062e",
   "metadata": {},
   "outputs": [
    {
     "name": "stdout",
     "output_type": "stream",
     "text": [
      "After thinning out based on the ruleset, there are 1728 models to try\n",
      "All models are unique: True\n"
     ]
    }
   ],
   "source": [
    "# Checking out the resulting set of models to test\n",
    "print(f'After thinning out based on the ruleset, there are {len(final_combos)} models to try')\n",
    "print(f'All models are unique: {len(set(final_combos)) == len(final_combos)}')"
   ]
  },
  {
   "cell_type": "code",
   "execution_count": 6,
   "id": "f960ee68-9eb1-40e1-92d0-b033eb9bdf2b",
   "metadata": {},
   "outputs": [],
   "source": [
    "# Constructing the formula based on the var subsets to try\n",
    "nonzero_formula = []\n",
    "zero_formula = []\n",
    "\n",
    "for c in final_combos:\n",
    "    formula = ' + '.join(c)\n",
    "    nonzero_formula.append('RR ~ ' + formula + ' + (1|Country) + (1|Species) + (1|Study)')\n",
    "    zero_formula.append('local_extirpation ~ ' + formula + ' + (1|Country) + (1|Species) + (1|Study)')"
   ]
  },
  {
   "cell_type": "markdown",
   "id": "5c6343aa-696e-424a-bbe7-497a890cff2e",
   "metadata": {},
   "source": [
    "# Running the models + getting BIC"
   ]
  },
  {
   "cell_type": "code",
   "execution_count": 7,
   "id": "ca004842-d54d-47bf-b4b1-0846d22927bd",
   "metadata": {},
   "outputs": [],
   "source": [
    "# A wrapper class to pass in params to the script like argparse\n",
    "class ModelParams:\n",
    "    def __init__(self, params):\n",
    "        for k, v in params.items():\n",
    "            setattr(self, k, v)"
   ]
  },
  {
   "cell_type": "code",
   "execution_count": 8,
   "id": "f9845f23-75ed-44b3-bf3e-da1d61daaeac",
   "metadata": {},
   "outputs": [],
   "source": [
    "# Establishing generic model params\n",
    "params = {'gdrive' : True,\n",
    "          'dataset' : 'mammals_recreated', \n",
    "          'rebalance_dataset' : False,\n",
    "          'tune_thresh' : False, \n",
    "          'outlier_cutoff' : 5, \n",
    "          'model_to_use' : 'pymer',\n",
    "          'return_model' : True,\n",
    "          'save_trained_model' : False,\n",
    "          'verbose' : False,\n",
    "          'pymer_reml' : False}"
   ]
  },
  {
   "cell_type": "code",
   "execution_count": 9,
   "id": "242d0f45-e97d-40ee-8daf-3e752c0e0b0a",
   "metadata": {
    "scrolled": true
   },
   "outputs": [
    {
     "name": "stderr",
     "output_type": "stream",
     "text": [
      "  2%|▉                                                         | 28/1728 [00:26<24:31,  1.16it/s]"
     ]
    },
    {
     "name": "stdout",
     "output_type": "stream",
     "text": [
      "unable to evaluate scaled gradient \n",
      "\n",
      "Model failed to converge: degenerate  Hessian with 1 negative eigenvalues \n",
      "\n"
     ]
    },
    {
     "name": "stderr",
     "output_type": "stream",
     "text": [
      "  2%|█▍                                                        | 43/1728 [00:40<24:45,  1.13it/s]"
     ]
    },
    {
     "name": "stdout",
     "output_type": "stream",
     "text": [
      "[1] \"Model failed to converge with max|grad| = 0.11772 (tol = 0.002, component 1)\"\n",
      "[2] \" \\n\"                                                                         \n",
      "\n",
      "[1] \"Model is nearly unidentifiable: very large eigenvalue\\n - Rescale variables?\"\n",
      "[2] \" \\n\"                                                                         \n",
      "\n"
     ]
    },
    {
     "name": "stderr",
     "output_type": "stream",
     "text": [
      "  3%|█▊                                                        | 53/1728 [00:50<25:27,  1.10it/s]"
     ]
    },
    {
     "name": "stdout",
     "output_type": "stream",
     "text": [
      "[1] \"Model failed to converge with max|grad| = 0.130891 (tol = 0.002, component 1)\"\n",
      "[2] \" \\n\"                                                                          \n",
      "\n",
      "[1] \"Model is nearly unidentifiable: very large eigenvalue\\n - Rescale variables?\"\n",
      "[2] \" \\n\"                                                                         \n",
      "\n"
     ]
    },
    {
     "name": "stderr",
     "output_type": "stream",
     "text": [
      "  4%|██▎                                                       | 70/1728 [01:11<35:47,  1.30s/it]"
     ]
    },
    {
     "name": "stdout",
     "output_type": "stream",
     "text": [
      "unable to evaluate scaled gradient \n",
      "\n",
      "Model failed to converge: degenerate  Hessian with 1 negative eigenvalues \n",
      "\n"
     ]
    },
    {
     "name": "stderr",
     "output_type": "stream",
     "text": [
      "  5%|██▉                                                       | 87/1728 [01:34<34:42,  1.27s/it]"
     ]
    },
    {
     "name": "stdout",
     "output_type": "stream",
     "text": [
      "unable to evaluate scaled gradient \n",
      "\n",
      "Model failed to converge: degenerate  Hessian with 1 negative eigenvalues \n",
      "\n"
     ]
    },
    {
     "name": "stderr",
     "output_type": "stream",
     "text": [
      "  6%|███▌                                                     | 108/1728 [01:59<28:42,  1.06s/it]"
     ]
    },
    {
     "name": "stdout",
     "output_type": "stream",
     "text": [
      "[1] \"Model failed to converge with max|grad| = 0.131276 (tol = 0.002, component 1)\"\n",
      "[2] \" \\n\"                                                                          \n",
      "\n",
      "[1] \"Model is nearly unidentifiable: very large eigenvalue\\n - Rescale variables?\"\n",
      "[2] \" \\n\"                                                                         \n",
      "\n"
     ]
    },
    {
     "name": "stderr",
     "output_type": "stream",
     "text": [
      "  7%|███▊                                                     | 115/1728 [02:07<31:54,  1.19s/it]"
     ]
    },
    {
     "name": "stdout",
     "output_type": "stream",
     "text": [
      "[1] \"Model failed to converge with max|grad| = 0.137682 (tol = 0.002, component 1)\"\n",
      "[2] \" \\n\"                                                                          \n",
      "\n",
      "[1] \"Model is nearly unidentifiable: very large eigenvalue\\n - Rescale variables?\"\n",
      "[2] \" \\n\"                                                                         \n",
      "\n"
     ]
    },
    {
     "name": "stderr",
     "output_type": "stream",
     "text": [
      "  7%|████▏                                                    | 126/1728 [02:21<31:34,  1.18s/it]"
     ]
    },
    {
     "name": "stdout",
     "output_type": "stream",
     "text": [
      "[1] \"Model failed to converge with max|grad| = 0.122257 (tol = 0.002, component 1)\"\n",
      "[2] \" \\n\"                                                                          \n",
      "\n",
      "[1] \"Model is nearly unidentifiable: very large eigenvalue\\n - Rescale variables?\"\n",
      "[2] \" \\n\"                                                                         \n",
      "\n"
     ]
    },
    {
     "name": "stderr",
     "output_type": "stream",
     "text": [
      "  8%|████▍                                                    | 133/1728 [02:30<30:24,  1.14s/it]"
     ]
    },
    {
     "name": "stdout",
     "output_type": "stream",
     "text": [
      "[1] \"Model failed to converge with max|grad| = 3.26748 (tol = 0.002, component 1)\"\n",
      "[2] \" \\n\"                                                                         \n",
      "\n",
      "[1] \"Model is nearly unidentifiable: very large eigenvalue\\n - Rescale variables?\"\n",
      "[2] \" \\n\"                                                                         \n",
      "\n"
     ]
    },
    {
     "name": "stderr",
     "output_type": "stream",
     "text": [
      " 10%|█████▌                                                   | 170/1728 [03:22<28:12,  1.09s/it]"
     ]
    },
    {
     "name": "stdout",
     "output_type": "stream",
     "text": [
      "[1] \"Model failed to converge with max|grad| = 0.106558 (tol = 0.002, component 1)\"\n",
      "[2] \" \\n\"                                                                          \n",
      "\n",
      "[1] \"Model is nearly unidentifiable: very large eigenvalue\\n - Rescale variables?\"\n",
      "[2] \" \\n\"                                                                         \n",
      "\n"
     ]
    },
    {
     "name": "stderr",
     "output_type": "stream",
     "text": [
      " 12%|██████▉                                                  | 210/1728 [04:22<31:35,  1.25s/it]"
     ]
    },
    {
     "name": "stdout",
     "output_type": "stream",
     "text": [
      "[1] \"Model failed to converge with max|grad| = 0.131826 (tol = 0.002, component 1)\"\n",
      "[2] \" \\n\"                                                                          \n",
      "\n",
      "[1] \"Model is nearly unidentifiable: very large eigenvalue\\n - Rescale variables?\"\n",
      "[2] \" \\n\"                                                                         \n",
      "\n"
     ]
    },
    {
     "name": "stderr",
     "output_type": "stream",
     "text": [
      " 13%|███████▏                                                 | 219/1728 [04:34<29:17,  1.16s/it]"
     ]
    },
    {
     "name": "stdout",
     "output_type": "stream",
     "text": [
      "[1] \"Model failed to converge with max|grad| = 2.10359 (tol = 0.002, component 1)\"\n",
      "[2] \" \\n\"                                                                         \n",
      "\n",
      "[1] \"Model is nearly unidentifiable: very large eigenvalue\\n - Rescale variables?\"\n",
      "[2] \" \\n\"                                                                         \n",
      "\n"
     ]
    },
    {
     "name": "stderr",
     "output_type": "stream",
     "text": [
      " 13%|███████▎                                                 | 222/1728 [04:38<33:16,  1.33s/it]"
     ]
    },
    {
     "name": "stdout",
     "output_type": "stream",
     "text": [
      "unable to evaluate scaled gradient \n",
      "\n",
      "Model failed to converge: degenerate  Hessian with 3 negative eigenvalues \n",
      "\n"
     ]
    },
    {
     "name": "stderr",
     "output_type": "stream",
     "text": [
      " 13%|███████▌                                                 | 229/1728 [04:49<34:15,  1.37s/it]"
     ]
    },
    {
     "name": "stdout",
     "output_type": "stream",
     "text": [
      "[1] \"Model failed to converge with max|grad| = 0.133258 (tol = 0.002, component 1)\"\n",
      "[2] \" \\n\"                                                                          \n",
      "\n",
      "[1] \"Model is nearly unidentifiable: very large eigenvalue\\n - Rescale variables?\"\n",
      "[2] \" \\n\"                                                                         \n",
      "\n"
     ]
    },
    {
     "name": "stderr",
     "output_type": "stream",
     "text": [
      " 13%|███████▌                                                 | 230/1728 [04:50<29:36,  1.19s/it]"
     ]
    },
    {
     "name": "stdout",
     "output_type": "stream",
     "text": [
      "[1] \"Model failed to converge with max|grad| = 0.176457 (tol = 0.002, component 1)\"\n",
      "[2] \" \\n\"                                                                          \n",
      "\n",
      "[1] \"Model is nearly unidentifiable: very large eigenvalue\\n - Rescale variables?\"\n",
      "[2] \" \\n\"                                                                         \n",
      "\n"
     ]
    },
    {
     "name": "stderr",
     "output_type": "stream",
     "text": [
      " 14%|███████▊                                                 | 235/1728 [04:58<31:48,  1.28s/it]"
     ]
    },
    {
     "name": "stdout",
     "output_type": "stream",
     "text": [
      "[1] \"Model failed to converge with max|grad| = 2.62545 (tol = 0.002, component 1)\"\n",
      "[2] \" \\n\"                                                                         \n",
      "\n",
      "[1] \"Model is nearly unidentifiable: very large eigenvalue\\n - Rescale variables?\"\n",
      "[2] \" \\n\"                                                                         \n",
      "\n"
     ]
    },
    {
     "name": "stderr",
     "output_type": "stream",
     "text": [
      " 14%|███████▊                                                 | 237/1728 [04:59<27:14,  1.10s/it]"
     ]
    },
    {
     "name": "stdout",
     "output_type": "stream",
     "text": [
      "[1] \"Model failed to converge with max|grad| = 1.78621 (tol = 0.002, component 1)\"\n",
      "[2] \" \\n\"                                                                         \n",
      "\n",
      "[1] \"Model is nearly unidentifiable: very large eigenvalue\\n - Rescale variables?\"\n",
      "[2] \" \\n\"                                                                         \n",
      "\n"
     ]
    },
    {
     "name": "stderr",
     "output_type": "stream",
     "text": [
      " 14%|███████▉                                                 | 241/1728 [05:06<32:12,  1.30s/it]"
     ]
    },
    {
     "name": "stdout",
     "output_type": "stream",
     "text": [
      "[1] \"Model failed to converge with max|grad| = 0.145797 (tol = 0.002, component 1)\"\n",
      "[2] \" \\n\"                                                                          \n",
      "\n",
      "[1] \"Model is nearly unidentifiable: very large eigenvalue\\n - Rescale variables?\"\n",
      "[2] \" \\n\"                                                                         \n",
      "\n"
     ]
    },
    {
     "name": "stderr",
     "output_type": "stream",
     "text": [
      " 15%|████████▍                                                | 256/1728 [05:34<35:08,  1.43s/it]"
     ]
    },
    {
     "name": "stdout",
     "output_type": "stream",
     "text": [
      "[1] \"Model failed to converge with max|grad| = 0.118175 (tol = 0.002, component 1)\"\n",
      "[2] \" \\n\"                                                                          \n",
      "\n",
      "[1] \"Model is nearly unidentifiable: very large eigenvalue\\n - Rescale variables?\"\n",
      "[2] \" \\n\"                                                                         \n",
      "\n"
     ]
    },
    {
     "name": "stderr",
     "output_type": "stream",
     "text": [
      " 16%|█████████▎                                               | 281/1728 [06:11<36:40,  1.52s/it]"
     ]
    },
    {
     "name": "stdout",
     "output_type": "stream",
     "text": [
      "unable to evaluate scaled gradient \n",
      "\n",
      "Model failed to converge: degenerate  Hessian with 1 negative eigenvalues \n",
      "\n"
     ]
    },
    {
     "name": "stderr",
     "output_type": "stream",
     "text": [
      " 17%|█████████▌                                               | 288/1728 [06:20<31:03,  1.29s/it]"
     ]
    },
    {
     "name": "stdout",
     "output_type": "stream",
     "text": [
      "[1] \"Model failed to converge with max|grad| = 0.126118 (tol = 0.002, component 1)\"\n",
      "[2] \" \\n\"                                                                          \n",
      "\n",
      "[1] \"Model is nearly unidentifiable: very large eigenvalue\\n - Rescale variables?\"\n",
      "[2] \" \\n\"                                                                         \n",
      "\n"
     ]
    },
    {
     "name": "stderr",
     "output_type": "stream",
     "text": [
      " 17%|█████████▉                                               | 300/1728 [06:40<35:32,  1.49s/it]"
     ]
    },
    {
     "name": "stdout",
     "output_type": "stream",
     "text": [
      "[1] \"Model failed to converge with max|grad| = 1.93473 (tol = 0.002, component 1)\"\n",
      "[2] \" \\n\"                                                                         \n",
      "\n",
      "[1] \"Model is nearly unidentifiable: very large eigenvalue\\n - Rescale variables?\"\n",
      "[2] \" \\n\"                                                                         \n",
      "\n"
     ]
    },
    {
     "name": "stderr",
     "output_type": "stream",
     "text": [
      " 18%|██████████▌                                              | 319/1728 [07:09<28:42,  1.22s/it]"
     ]
    },
    {
     "name": "stdout",
     "output_type": "stream",
     "text": [
      "[1] \"Model failed to converge with max|grad| = 0.0951783 (tol = 0.002, component 1)\"\n",
      "[2] \" \\n\"                                                                           \n",
      "\n",
      "[1] \"Model is nearly unidentifiable: very large eigenvalue\\n - Rescale variables?\"\n",
      "[2] \" \\n\"                                                                         \n",
      "\n"
     ]
    },
    {
     "name": "stderr",
     "output_type": "stream",
     "text": [
      " 19%|██████████▉                                              | 333/1728 [07:29<32:38,  1.40s/it]"
     ]
    },
    {
     "name": "stdout",
     "output_type": "stream",
     "text": [
      "unable to evaluate scaled gradient \n",
      "\n",
      "Model failed to converge: degenerate  Hessian with 1 negative eigenvalues \n",
      "\n"
     ]
    },
    {
     "name": "stderr",
     "output_type": "stream",
     "text": [
      " 20%|███████████▎                                             | 344/1728 [07:49<30:07,  1.31s/it]"
     ]
    },
    {
     "name": "stdout",
     "output_type": "stream",
     "text": [
      "[1] \"Model failed to converge with max|grad| = 2.21462 (tol = 0.002, component 1)\"\n",
      "[2] \" \\n\"                                                                         \n",
      "\n",
      "[1] \"Model is nearly unidentifiable: very large eigenvalue\\n - Rescale variables?\"\n",
      "[2] \" \\n\"                                                                         \n",
      "\n"
     ]
    },
    {
     "name": "stderr",
     "output_type": "stream",
     "text": [
      " 20%|███████████▍                                             | 345/1728 [07:49<26:22,  1.14s/it]"
     ]
    },
    {
     "name": "stdout",
     "output_type": "stream",
     "text": [
      "unable to evaluate scaled gradient \n",
      "\n",
      "Model failed to converge: degenerate  Hessian with 1 negative eigenvalues \n",
      "\n"
     ]
    },
    {
     "name": "stderr",
     "output_type": "stream",
     "text": [
      " 22%|████████████▍                                            | 377/1728 [08:46<30:31,  1.36s/it]"
     ]
    },
    {
     "name": "stdout",
     "output_type": "stream",
     "text": [
      "unable to evaluate scaled gradient \n",
      "\n",
      "Model failed to converge: degenerate  Hessian with 1 negative eigenvalues \n",
      "\n"
     ]
    },
    {
     "name": "stderr",
     "output_type": "stream",
     "text": [
      " 23%|████████████▊                                            | 389/1728 [09:06<32:18,  1.45s/it]"
     ]
    },
    {
     "name": "stdout",
     "output_type": "stream",
     "text": [
      "[1] \"Model failed to converge with max|grad| = 0.0932546 (tol = 0.002, component 1)\"\n",
      "[2] \" \\n\"                                                                           \n",
      "\n",
      "[1] \"Model is nearly unidentifiable: very large eigenvalue\\n - Rescale variables?\"\n",
      "[2] \" \\n\"                                                                         \n",
      "\n"
     ]
    },
    {
     "name": "stderr",
     "output_type": "stream",
     "text": [
      " 23%|████████████▊                                            | 390/1728 [09:07<29:04,  1.30s/it]"
     ]
    },
    {
     "name": "stdout",
     "output_type": "stream",
     "text": [
      "[1] \"Model failed to converge with max|grad| = 0.131085 (tol = 0.002, component 1)\"\n",
      "[2] \" \\n\"                                                                          \n",
      "\n",
      "[1] \"Model is nearly unidentifiable: very large eigenvalue\\n - Rescale variables?\"\n",
      "[2] \" \\n\"                                                                         \n",
      "\n"
     ]
    },
    {
     "name": "stderr",
     "output_type": "stream",
     "text": [
      " 24%|█████████████▍                                           | 407/1728 [09:34<30:54,  1.40s/it]"
     ]
    },
    {
     "name": "stdout",
     "output_type": "stream",
     "text": [
      "[1] \"Model failed to converge with max|grad| = 0.101219 (tol = 0.002, component 1)\"\n",
      "[2] \" \\n\"                                                                          \n",
      "\n",
      "[1] \"Model is nearly unidentifiable: very large eigenvalue\\n - Rescale variables?\"\n",
      "[2] \" \\n\"                                                                         \n",
      "\n"
     ]
    },
    {
     "name": "stderr",
     "output_type": "stream",
     "text": [
      " 24%|█████████████▉                                           | 422/1728 [09:59<28:49,  1.32s/it]"
     ]
    },
    {
     "name": "stdout",
     "output_type": "stream",
     "text": [
      "[1] \"Model failed to converge with max|grad| = 0.132878 (tol = 0.002, component 1)\"\n",
      "[2] \" \\n\"                                                                          \n",
      "\n",
      "[1] \"Model is nearly unidentifiable: very large eigenvalue\\n - Rescale variables?\"\n",
      "[2] \" \\n\"                                                                         \n",
      "\n"
     ]
    },
    {
     "name": "stderr",
     "output_type": "stream",
     "text": [
      " 25%|██████████████▏                                          | 429/1728 [10:08<28:17,  1.31s/it]"
     ]
    },
    {
     "name": "stdout",
     "output_type": "stream",
     "text": [
      "[1] \"Model failed to converge with max|grad| = 0.796285 (tol = 0.002, component 1)\"\n",
      "[2] \" \\n\"                                                                          \n",
      "\n",
      "[1] \"Model is nearly unidentifiable: very large eigenvalue\\n - Rescale variables?\"\n",
      "[2] \" \\n\"                                                                         \n",
      "\n"
     ]
    },
    {
     "name": "stderr",
     "output_type": "stream",
     "text": [
      " 25%|██████████████▍                                          | 437/1728 [10:20<27:14,  1.27s/it]"
     ]
    },
    {
     "name": "stdout",
     "output_type": "stream",
     "text": [
      "unable to evaluate scaled gradient \n",
      "\n",
      "Model failed to converge: degenerate  Hessian with 1 negative eigenvalues \n",
      "\n"
     ]
    },
    {
     "name": "stderr",
     "output_type": "stream",
     "text": [
      " 26%|██████████████▌                                          | 441/1728 [10:25<24:48,  1.16s/it]"
     ]
    },
    {
     "name": "stdout",
     "output_type": "stream",
     "text": [
      "[1] \"Model failed to converge with max|grad| = 0.114434 (tol = 0.002, component 1)\"\n",
      "[2] \" \\n\"                                                                          \n",
      "\n",
      "[1] \"Model is nearly unidentifiable: very large eigenvalue\\n - Rescale variables?\"\n",
      "[2] \" \\n\"                                                                         \n",
      "\n"
     ]
    },
    {
     "name": "stderr",
     "output_type": "stream",
     "text": [
      " 26%|██████████████▊                                          | 448/1728 [10:36<33:12,  1.56s/it]"
     ]
    },
    {
     "name": "stdout",
     "output_type": "stream",
     "text": [
      "unable to evaluate scaled gradient \n",
      "\n",
      "Model failed to converge: degenerate  Hessian with 2 negative eigenvalues \n",
      "\n"
     ]
    },
    {
     "name": "stderr",
     "output_type": "stream",
     "text": [
      " 26%|██████████████▉                                          | 451/1728 [10:39<26:18,  1.24s/it]"
     ]
    },
    {
     "name": "stdout",
     "output_type": "stream",
     "text": [
      "[1] \"Model failed to converge with max|grad| = 2.84546 (tol = 0.002, component 1)\"\n",
      "[2] \" \\n\"                                                                         \n",
      "\n",
      "[1] \"Model is nearly unidentifiable: very large eigenvalue\\n - Rescale variables?\"\n",
      "[2] \" \\n\"                                                                         \n",
      "\n"
     ]
    },
    {
     "name": "stderr",
     "output_type": "stream",
     "text": [
      " 26%|███████████████                                          | 456/1728 [10:46<26:24,  1.25s/it]"
     ]
    },
    {
     "name": "stdout",
     "output_type": "stream",
     "text": [
      "[1] \"Model failed to converge with max|grad| = 0.129052 (tol = 0.002, component 1)\"\n",
      "[2] \" \\n\"                                                                          \n",
      "\n",
      "[1] \"Model is nearly unidentifiable: very large eigenvalue\\n - Rescale variables?\"\n",
      "[2] \" \\n\"                                                                         \n",
      "\n"
     ]
    },
    {
     "name": "stderr",
     "output_type": "stream",
     "text": [
      " 27%|███████████████▏                                         | 462/1728 [10:55<27:26,  1.30s/it]"
     ]
    },
    {
     "name": "stdout",
     "output_type": "stream",
     "text": [
      "[1] \"Model failed to converge with max|grad| = 2.12265 (tol = 0.002, component 1)\"\n",
      "[2] \" \\n\"                                                                         \n",
      "\n",
      "[1] \"Model is nearly unidentifiable: very large eigenvalue\\n - Rescale variables?\"\n",
      "[2] \" \\n\"                                                                         \n",
      "\n"
     ]
    },
    {
     "name": "stderr",
     "output_type": "stream",
     "text": [
      " 27%|███████████████▋                                         | 475/1728 [11:17<31:34,  1.51s/it]"
     ]
    },
    {
     "name": "stdout",
     "output_type": "stream",
     "text": [
      "unable to evaluate scaled gradient \n",
      "\n",
      "Model failed to converge: degenerate  Hessian with 1 negative eigenvalues \n",
      "\n"
     ]
    },
    {
     "name": "stderr",
     "output_type": "stream",
     "text": [
      " 28%|████████████████                                         | 486/1728 [11:35<26:48,  1.29s/it]"
     ]
    },
    {
     "name": "stdout",
     "output_type": "stream",
     "text": [
      "[1] \"Model failed to converge with max|grad| = 0.409624 (tol = 0.002, component 1)\"\n",
      "[2] \" \\n\"                                                                          \n",
      "\n",
      "[1] \"Model is nearly unidentifiable: very large eigenvalue\\n - Rescale variables?\"\n",
      "[2] \" \\n\"                                                                         \n",
      "\n"
     ]
    },
    {
     "name": "stderr",
     "output_type": "stream",
     "text": [
      " 28%|████████████████▏                                        | 491/1728 [11:42<26:47,  1.30s/it]"
     ]
    },
    {
     "name": "stdout",
     "output_type": "stream",
     "text": [
      "[1] \"Model failed to converge with max|grad| = 0.115827 (tol = 0.002, component 1)\"\n",
      "[2] \" \\n\"                                                                          \n",
      "\n",
      "[1] \"Model is nearly unidentifiable: very large eigenvalue\\n - Rescale variables?\"\n",
      "[2] \" \\n\"                                                                         \n",
      "\n"
     ]
    },
    {
     "name": "stderr",
     "output_type": "stream",
     "text": [
      " 30%|████████████████▊                                        | 510/1728 [12:17<34:05,  1.68s/it]"
     ]
    },
    {
     "name": "stdout",
     "output_type": "stream",
     "text": [
      "[1] \"Model failed to converge with max|grad| = 0.152108 (tol = 0.002, component 1)\"\n",
      "[2] \" \\n\"                                                                          \n",
      "\n",
      "[1] \"Model is nearly unidentifiable: very large eigenvalue\\n - Rescale variables?\"\n",
      "[2] \" \\n\"                                                                         \n",
      "\n"
     ]
    },
    {
     "name": "stderr",
     "output_type": "stream",
     "text": [
      " 30%|█████████████████▏                                       | 521/1728 [12:36<29:18,  1.46s/it]"
     ]
    },
    {
     "name": "stdout",
     "output_type": "stream",
     "text": [
      "unable to evaluate scaled gradient \n",
      "\n",
      "Model failed to converge: degenerate  Hessian with 1 negative eigenvalues \n",
      "\n"
     ]
    },
    {
     "name": "stderr",
     "output_type": "stream",
     "text": [
      " 31%|█████████████████▍                                       | 530/1728 [12:55<39:58,  2.00s/it]"
     ]
    },
    {
     "name": "stdout",
     "output_type": "stream",
     "text": [
      "[1] \"Model failed to converge with max|grad| = 2.76307 (tol = 0.002, component 1)\"\n",
      "[2] \" \\n\"                                                                         \n",
      "\n",
      "[1] \"Model is nearly unidentifiable: very large eigenvalue\\n - Rescale variables?\"\n",
      "[2] \" \\n\"                                                                         \n",
      "\n"
     ]
    },
    {
     "name": "stderr",
     "output_type": "stream",
     "text": [
      " 31%|█████████████████▌                                       | 533/1728 [13:00<32:31,  1.63s/it]"
     ]
    },
    {
     "name": "stdout",
     "output_type": "stream",
     "text": [
      "unable to evaluate scaled gradient \n",
      "\n",
      "Model failed to converge: degenerate  Hessian with 1 negative eigenvalues \n",
      "\n"
     ]
    },
    {
     "name": "stderr",
     "output_type": "stream",
     "text": [
      " 35%|███████████████████▊                                     | 601/1728 [15:07<32:42,  1.74s/it]"
     ]
    },
    {
     "name": "stdout",
     "output_type": "stream",
     "text": [
      "[1] \"Model failed to converge with max|grad| = 0.0909047 (tol = 0.002, component 1)\"\n",
      "[2] \" \\n\"                                                                           \n",
      "\n",
      "[1] \"Model is nearly unidentifiable: very large eigenvalue\\n - Rescale variables?\"\n",
      "[2] \" \\n\"                                                                         \n",
      "\n"
     ]
    },
    {
     "name": "stderr",
     "output_type": "stream",
     "text": [
      " 35%|████████████████████                                     | 609/1728 [15:19<26:39,  1.43s/it]"
     ]
    },
    {
     "name": "stdout",
     "output_type": "stream",
     "text": [
      "[1] \"Model failed to converge with max|grad| = 0.116019 (tol = 0.002, component 1)\"\n",
      "[2] \" \\n\"                                                                          \n",
      "\n",
      "[1] \"Model is nearly unidentifiable: very large eigenvalue\\n - Rescale variables?\"\n",
      "[2] \" \\n\"                                                                         \n",
      "\n"
     ]
    },
    {
     "name": "stderr",
     "output_type": "stream",
     "text": [
      " 35%|████████████████████▏                                    | 612/1728 [15:24<27:51,  1.50s/it]"
     ]
    },
    {
     "name": "stdout",
     "output_type": "stream",
     "text": [
      "unable to evaluate scaled gradient \n",
      "\n",
      "Model failed to converge: degenerate  Hessian with 1 negative eigenvalues \n",
      "\n"
     ]
    },
    {
     "name": "stderr",
     "output_type": "stream",
     "text": [
      " 36%|████████████████████▌                                    | 622/1728 [15:42<27:52,  1.51s/it]"
     ]
    },
    {
     "name": "stdout",
     "output_type": "stream",
     "text": [
      "[1] \"Model failed to converge with max|grad| = 0.134896 (tol = 0.002, component 1)\"\n",
      "[2] \" \\n\"                                                                          \n",
      "\n",
      "[1] \"Model is nearly unidentifiable: very large eigenvalue\\n - Rescale variables?\"\n",
      "[2] \" \\n\"                                                                         \n",
      "\n"
     ]
    },
    {
     "name": "stderr",
     "output_type": "stream",
     "text": [
      " 36%|████████████████████▋                                    | 628/1728 [15:52<28:10,  1.54s/it]"
     ]
    },
    {
     "name": "stdout",
     "output_type": "stream",
     "text": [
      "[1] \"Model failed to converge with max|grad| = 1.85518 (tol = 0.002, component 1)\"\n",
      "[2] \" \\n\"                                                                         \n",
      "\n",
      "[1] \"Model is nearly unidentifiable: very large eigenvalue\\n - Rescale variables?\"\n",
      "[2] \" \\n\"                                                                         \n",
      "\n"
     ]
    },
    {
     "name": "stderr",
     "output_type": "stream",
     "text": [
      " 38%|█████████████████████▊                                   | 661/1728 [16:58<30:00,  1.69s/it]"
     ]
    },
    {
     "name": "stdout",
     "output_type": "stream",
     "text": [
      "[1] \"Model failed to converge with max|grad| = 0.119423 (tol = 0.002, component 1)\"\n",
      "[2] \" \\n\"                                                                          \n",
      "\n",
      "[1] \"Model is nearly unidentifiable: very large eigenvalue\\n - Rescale variables?\"\n",
      "[2] \" \\n\"                                                                         \n",
      "\n"
     ]
    },
    {
     "name": "stderr",
     "output_type": "stream",
     "text": [
      " 42%|███████████████████████▊                                 | 720/1728 [18:52<24:54,  1.48s/it]"
     ]
    },
    {
     "name": "stdout",
     "output_type": "stream",
     "text": [
      "[1] \"Model failed to converge with max|grad| = 3.17683 (tol = 0.002, component 1)\"\n",
      "[2] \" \\n\"                                                                         \n",
      "\n",
      "[1] \"Model is nearly unidentifiable: very large eigenvalue\\n - Rescale variables?\"\n",
      "[2] \" \\n\"                                                                         \n",
      "\n"
     ]
    },
    {
     "name": "stderr",
     "output_type": "stream",
     "text": [
      " 42%|████████████████████████                                 | 730/1728 [19:14<28:30,  1.71s/it]"
     ]
    },
    {
     "name": "stdout",
     "output_type": "stream",
     "text": [
      "[1] \"Model failed to converge with max|grad| = 2.2745 (tol = 0.002, component 1)\"\n",
      "[2] \" \\n\"                                                                        \n",
      "\n",
      "[1] \"Model is nearly unidentifiable: very large eigenvalue\\n - Rescale variables?\"\n",
      "[2] \" \\n\"                                                                         \n",
      "\n"
     ]
    },
    {
     "name": "stderr",
     "output_type": "stream",
     "text": [
      " 43%|████████████████████████▌                                | 746/1728 [19:50<31:01,  1.90s/it]"
     ]
    },
    {
     "name": "stdout",
     "output_type": "stream",
     "text": [
      "[1] \"Model failed to converge with max|grad| = 0.124228 (tol = 0.002, component 1)\"\n",
      "[2] \" \\n\"                                                                          \n",
      "\n",
      "[1] \"Model is nearly unidentifiable: very large eigenvalue\\n - Rescale variables?\"\n",
      "[2] \" \\n\"                                                                         \n",
      "\n"
     ]
    },
    {
     "name": "stderr",
     "output_type": "stream",
     "text": [
      " 44%|█████████████████████████                                | 759/1728 [20:14<26:37,  1.65s/it]"
     ]
    },
    {
     "name": "stdout",
     "output_type": "stream",
     "text": [
      "unable to evaluate scaled gradient \n",
      "\n",
      "Model failed to converge: degenerate  Hessian with 1 negative eigenvalues \n",
      "\n"
     ]
    },
    {
     "name": "stderr",
     "output_type": "stream",
     "text": [
      " 45%|█████████████████████████▍                               | 773/1728 [20:45<30:12,  1.90s/it]"
     ]
    },
    {
     "name": "stdout",
     "output_type": "stream",
     "text": [
      "[1] \"Model failed to converge with max|grad| = 0.139886 (tol = 0.002, component 1)\"\n",
      "[2] \" \\n\"                                                                          \n",
      "\n",
      "[1] \"Model is nearly unidentifiable: very large eigenvalue\\n - Rescale variables?\"\n",
      "[2] \" \\n\"                                                                         \n",
      "\n"
     ]
    },
    {
     "name": "stderr",
     "output_type": "stream",
     "text": [
      " 45%|█████████████████████████▋                               | 778/1728 [20:58<35:21,  2.23s/it]"
     ]
    },
    {
     "name": "stdout",
     "output_type": "stream",
     "text": [
      "unable to evaluate scaled gradient \n",
      "\n",
      "Model failed to converge: degenerate  Hessian with 2 negative eigenvalues \n",
      "\n"
     ]
    },
    {
     "name": "stderr",
     "output_type": "stream",
     "text": [
      " 45%|█████████████████████████▊                               | 784/1728 [21:12<34:39,  2.20s/it]"
     ]
    },
    {
     "name": "stdout",
     "output_type": "stream",
     "text": [
      "[1] \"Model failed to converge with max|grad| = 0.144072 (tol = 0.002, component 1)\"\n",
      "[2] \" \\n\"                                                                          \n",
      "\n",
      "[1] \"Model is nearly unidentifiable: very large eigenvalue\\n - Rescale variables?\"\n",
      "[2] \" \\n\"                                                                         \n",
      "\n"
     ]
    },
    {
     "name": "stderr",
     "output_type": "stream",
     "text": [
      " 46%|██████████████████████████▎                              | 798/1728 [21:42<29:05,  1.88s/it]"
     ]
    },
    {
     "name": "stdout",
     "output_type": "stream",
     "text": [
      "unable to evaluate scaled gradient \n",
      "\n",
      "Model failed to converge: degenerate  Hessian with 1 negative eigenvalues \n",
      "\n"
     ]
    },
    {
     "name": "stderr",
     "output_type": "stream",
     "text": [
      " 47%|███████████████████████████                              | 819/1728 [22:20<22:02,  1.45s/it]"
     ]
    },
    {
     "name": "stdout",
     "output_type": "stream",
     "text": [
      "unable to evaluate scaled gradient \n",
      "\n",
      "Model failed to converge: degenerate  Hessian with 1 negative eigenvalues \n",
      "\n"
     ]
    },
    {
     "name": "stderr",
     "output_type": "stream",
     "text": [
      " 48%|███████████████████████████                              | 821/1728 [22:23<19:35,  1.30s/it]"
     ]
    },
    {
     "name": "stdout",
     "output_type": "stream",
     "text": [
      "unable to evaluate scaled gradient \n",
      "\n",
      "Model failed to converge: degenerate  Hessian with 1 negative eigenvalues \n",
      "\n"
     ]
    },
    {
     "name": "stderr",
     "output_type": "stream",
     "text": [
      " 49%|███████████████████████████▋                             | 839/1728 [22:56<21:36,  1.46s/it]"
     ]
    },
    {
     "name": "stdout",
     "output_type": "stream",
     "text": [
      "[1] \"Model failed to converge with max|grad| = 0.115806 (tol = 0.002, component 1)\"\n",
      "[2] \" \\n\"                                                                          \n",
      "\n",
      "[1] \"Model is nearly unidentifiable: very large eigenvalue\\n - Rescale variables?\"\n",
      "[2] \" \\n\"                                                                         \n",
      "\n"
     ]
    },
    {
     "name": "stderr",
     "output_type": "stream",
     "text": [
      " 49%|████████████████████████████▏                            | 855/1728 [23:27<24:14,  1.67s/it]"
     ]
    },
    {
     "name": "stdout",
     "output_type": "stream",
     "text": [
      "[1] \"Model failed to converge with max|grad| = 0.100019 (tol = 0.002, component 1)\"\n",
      "[2] \" \\n\"                                                                          \n",
      "\n",
      "[1] \"Model is nearly unidentifiable: very large eigenvalue\\n - Rescale variables?\"\n",
      "[2] \" \\n\"                                                                         \n",
      "\n"
     ]
    },
    {
     "name": "stderr",
     "output_type": "stream",
     "text": [
      " 50%|████████████████████████████▎                            | 857/1728 [23:29<20:12,  1.39s/it]"
     ]
    },
    {
     "name": "stdout",
     "output_type": "stream",
     "text": [
      "unable to evaluate scaled gradient \n",
      "\n",
      "Model failed to converge: degenerate  Hessian with 1 negative eigenvalues \n",
      "\n"
     ]
    },
    {
     "name": "stderr",
     "output_type": "stream",
     "text": [
      " 51%|████████████████████████████▉                            | 879/1728 [24:15<23:55,  1.69s/it]"
     ]
    },
    {
     "name": "stdout",
     "output_type": "stream",
     "text": [
      "[1] \"Model failed to converge with max|grad| = 0.134054 (tol = 0.002, component 1)\"\n",
      "[2] \" \\n\"                                                                          \n",
      "\n",
      "[1] \"Model is nearly unidentifiable: very large eigenvalue\\n - Rescale variables?\"\n",
      "[2] \" \\n\"                                                                         \n",
      "\n"
     ]
    },
    {
     "name": "stderr",
     "output_type": "stream",
     "text": [
      " 51%|█████████████████████████████                            | 881/1728 [24:18<19:49,  1.40s/it]"
     ]
    },
    {
     "name": "stdout",
     "output_type": "stream",
     "text": [
      "[1] \"Model failed to converge with max|grad| = 0.132687 (tol = 0.002, component 1)\"\n",
      "[2] \" \\n\"                                                                          \n",
      "\n",
      "[1] \"Model is nearly unidentifiable: very large eigenvalue\\n - Rescale variables?\"\n",
      "[2] \" \\n\"                                                                         \n",
      "\n"
     ]
    },
    {
     "name": "stderr",
     "output_type": "stream",
     "text": [
      " 51%|█████████████████████████████▎                           | 887/1728 [24:29<22:32,  1.61s/it]"
     ]
    },
    {
     "name": "stdout",
     "output_type": "stream",
     "text": [
      "unable to evaluate scaled gradient \n",
      "\n",
      "Model failed to converge: degenerate  Hessian with 1 negative eigenvalues \n",
      "\n"
     ]
    },
    {
     "name": "stderr",
     "output_type": "stream",
     "text": [
      " 53%|██████████████████████████████                           | 912/1728 [25:27<23:53,  1.76s/it]"
     ]
    },
    {
     "name": "stdout",
     "output_type": "stream",
     "text": [
      "unable to evaluate scaled gradient \n",
      "\n",
      "Model failed to converge: degenerate  Hessian with 2 negative eigenvalues \n",
      "\n"
     ]
    },
    {
     "name": "stderr",
     "output_type": "stream",
     "text": [
      " 56%|████████████████████████████████                         | 971/1728 [27:51<34:13,  2.71s/it]"
     ]
    },
    {
     "name": "stdout",
     "output_type": "stream",
     "text": [
      "[1] \"Model failed to converge with max|grad| = 0.130805 (tol = 0.002, component 1)\"\n",
      "[2] \" \\n\"                                                                          \n",
      "\n",
      "[1] \"Model is nearly unidentifiable: very large eigenvalue\\n - Rescale variables?\"\n",
      "[2] \" \\n\"                                                                         \n",
      "\n"
     ]
    },
    {
     "name": "stderr",
     "output_type": "stream",
     "text": [
      " 58%|████████████████████████████████▉                        | 999/1728 [28:52<20:44,  1.71s/it]"
     ]
    },
    {
     "name": "stdout",
     "output_type": "stream",
     "text": [
      "unable to evaluate scaled gradient \n",
      "\n",
      "Model failed to converge: degenerate  Hessian with 1 negative eigenvalues \n",
      "\n"
     ]
    },
    {
     "name": "stderr",
     "output_type": "stream",
     "text": [
      " 59%|████████████████████████████████▉                       | 1016/1728 [29:32<24:56,  2.10s/it]"
     ]
    },
    {
     "name": "stdout",
     "output_type": "stream",
     "text": [
      "unable to evaluate scaled gradient \n",
      "\n",
      "Model failed to converge: degenerate  Hessian with 3 negative eigenvalues \n",
      "\n"
     ]
    },
    {
     "name": "stderr",
     "output_type": "stream",
     "text": [
      " 59%|█████████████████████████████████                       | 1021/1728 [29:43<24:50,  2.11s/it]"
     ]
    },
    {
     "name": "stdout",
     "output_type": "stream",
     "text": [
      "[1] \"Model failed to converge with max|grad| = 0.106063 (tol = 0.002, component 1)\"\n",
      "[2] \" \\n\"                                                                          \n",
      "\n",
      "[1] \"Model is nearly unidentifiable: very large eigenvalue\\n - Rescale variables?\"\n",
      "[2] \" \\n\"                                                                         \n",
      "\n"
     ]
    },
    {
     "name": "stderr",
     "output_type": "stream",
     "text": [
      " 62%|██████████████████████████████████▌                     | 1068/1728 [31:41<22:18,  2.03s/it]"
     ]
    },
    {
     "name": "stdout",
     "output_type": "stream",
     "text": [
      "[1] \"Model failed to converge with max|grad| = 0.13041 (tol = 0.002, component 1)\"\n",
      "[2] \" \\n\"                                                                         \n",
      "\n",
      "[1] \"Model is nearly unidentifiable: very large eigenvalue\\n - Rescale variables?\"\n",
      "[2] \" \\n\"                                                                         \n",
      "\n"
     ]
    },
    {
     "name": "stderr",
     "output_type": "stream",
     "text": [
      " 62%|██████████████████████████████████▋                     | 1071/1728 [31:47<21:31,  1.97s/it]"
     ]
    },
    {
     "name": "stdout",
     "output_type": "stream",
     "text": [
      "[1] \"Model failed to converge with max|grad| = 0.103393 (tol = 0.002, component 1)\"\n",
      "[2] \" \\n\"                                                                          \n",
      "\n",
      "[1] \"Model is nearly unidentifiable: very large eigenvalue\\n - Rescale variables?\"\n",
      "[2] \" \\n\"                                                                         \n",
      "\n"
     ]
    },
    {
     "name": "stderr",
     "output_type": "stream",
     "text": [
      " 63%|███████████████████████████████████                     | 1081/1728 [32:09<19:56,  1.85s/it]"
     ]
    },
    {
     "name": "stdout",
     "output_type": "stream",
     "text": [
      "[1] \"Model failed to converge with max|grad| = 0.137469 (tol = 0.002, component 1)\"\n",
      "[2] \" \\n\"                                                                          \n",
      "\n",
      "[1] \"Model is nearly unidentifiable: very large eigenvalue\\n - Rescale variables?\"\n",
      "[2] \" \\n\"                                                                         \n",
      "\n"
     ]
    },
    {
     "name": "stderr",
     "output_type": "stream",
     "text": [
      " 64%|███████████████████████████████████▊                    | 1104/1728 [32:58<19:55,  1.92s/it]"
     ]
    },
    {
     "name": "stdout",
     "output_type": "stream",
     "text": [
      "unable to evaluate scaled gradient \n",
      "\n",
      "Model failed to converge: degenerate  Hessian with 2 negative eigenvalues \n",
      "\n"
     ]
    },
    {
     "name": "stderr",
     "output_type": "stream",
     "text": [
      " 65%|████████████████████████████████████▋                   | 1131/1728 [34:01<21:10,  2.13s/it]"
     ]
    },
    {
     "name": "stdout",
     "output_type": "stream",
     "text": [
      "[1] \"Model failed to converge with max|grad| = 0.139016 (tol = 0.002, component 1)\"\n",
      "[2] \" \\n\"                                                                          \n",
      "\n",
      "[1] \"Model is nearly unidentifiable: very large eigenvalue\\n - Rescale variables?\"\n",
      "[2] \" \\n\"                                                                         \n",
      "\n"
     ]
    },
    {
     "name": "stderr",
     "output_type": "stream",
     "text": [
      " 66%|████████████████████████████████████▊                   | 1134/1728 [34:06<18:41,  1.89s/it]"
     ]
    },
    {
     "name": "stdout",
     "output_type": "stream",
     "text": [
      "[1] \"Model failed to converge with max|grad| = 0.130066 (tol = 0.002, component 1)\"\n",
      "[2] \" \\n\"                                                                          \n",
      "\n",
      "[1] \"Model is nearly unidentifiable: very large eigenvalue\\n - Rescale variables?\"\n",
      "[2] \" \\n\"                                                                         \n",
      "\n"
     ]
    },
    {
     "name": "stderr",
     "output_type": "stream",
     "text": [
      " 66%|████████████████████████████████████▉                   | 1138/1728 [34:16<20:50,  2.12s/it]"
     ]
    },
    {
     "name": "stdout",
     "output_type": "stream",
     "text": [
      "[1] \"Model failed to converge with max|grad| = 0.130442 (tol = 0.002, component 1)\"\n",
      "[2] \" \\n\"                                                                          \n",
      "\n",
      "[1] \"Model is nearly unidentifiable: very large eigenvalue\\n - Rescale variables?\"\n",
      "[2] \" \\n\"                                                                         \n",
      "\n"
     ]
    },
    {
     "name": "stderr",
     "output_type": "stream",
     "text": [
      " 66%|████████████████████████████████████▉                   | 1141/1728 [34:21<17:30,  1.79s/it]"
     ]
    },
    {
     "name": "stdout",
     "output_type": "stream",
     "text": [
      "unable to evaluate scaled gradient \n",
      "\n",
      "Model failed to converge: degenerate  Hessian with 3 negative eigenvalues \n",
      "\n"
     ]
    },
    {
     "name": "stderr",
     "output_type": "stream",
     "text": [
      " 67%|█████████████████████████████████████▌                  | 1158/1728 [35:00<19:06,  2.01s/it]"
     ]
    },
    {
     "name": "stdout",
     "output_type": "stream",
     "text": [
      "[1] \"Model failed to converge with max|grad| = 0.092944 (tol = 0.002, component 1)\"\n",
      "[2] \" \\n\"                                                                          \n",
      "\n",
      "[1] \"Model is nearly unidentifiable: very large eigenvalue\\n - Rescale variables?\"\n",
      "[2] \" \\n\"                                                                         \n",
      "\n"
     ]
    },
    {
     "name": "stderr",
     "output_type": "stream",
     "text": [
      " 67%|█████████████████████████████████████▋                  | 1162/1728 [35:12<23:02,  2.44s/it]"
     ]
    },
    {
     "name": "stdout",
     "output_type": "stream",
     "text": [
      "unable to evaluate scaled gradient \n",
      "\n",
      "Model failed to converge: degenerate  Hessian with 2 negative eigenvalues \n",
      "\n"
     ]
    },
    {
     "name": "stderr",
     "output_type": "stream",
     "text": [
      " 67%|█████████████████████████████████████▊                  | 1165/1728 [35:17<17:24,  1.86s/it]"
     ]
    },
    {
     "name": "stdout",
     "output_type": "stream",
     "text": [
      "[1] \"Model failed to converge with max|grad| = 0.117625 (tol = 0.002, component 1)\"\n",
      "[2] \" \\n\"                                                                          \n",
      "\n",
      "[1] \"Model is nearly unidentifiable: very large eigenvalue\\n - Rescale variables?\"\n",
      "[2] \" \\n\"                                                                         \n",
      "\n"
     ]
    },
    {
     "name": "stderr",
     "output_type": "stream",
     "text": [
      " 68%|█████████████████████████████████████▉                  | 1169/1728 [35:27<20:51,  2.24s/it]"
     ]
    },
    {
     "name": "stdout",
     "output_type": "stream",
     "text": [
      "unable to evaluate scaled gradient \n",
      "\n",
      "Model failed to converge: degenerate  Hessian with 4 negative eigenvalues \n",
      "\n"
     ]
    },
    {
     "name": "stderr",
     "output_type": "stream",
     "text": [
      " 68%|█████████████████████████████████████▉                  | 1172/1728 [35:34<18:40,  2.01s/it]"
     ]
    },
    {
     "name": "stdout",
     "output_type": "stream",
     "text": [
      "[1] \"Model failed to converge with max|grad| = 0.596742 (tol = 0.002, component 1)\"\n",
      "[2] \" \\n\"                                                                          \n",
      "\n",
      "[1] \"Model is nearly unidentifiable: very large eigenvalue\\n - Rescale variables?\"\n",
      "[2] \" \\n\"                                                                         \n",
      "\n"
     ]
    },
    {
     "name": "stderr",
     "output_type": "stream",
     "text": [
      " 68%|██████████████████████████████████████▏                 | 1177/1728 [35:47<20:12,  2.20s/it]"
     ]
    },
    {
     "name": "stdout",
     "output_type": "stream",
     "text": [
      "unable to evaluate scaled gradient \n",
      "\n",
      "Model failed to converge: degenerate  Hessian with 4 negative eigenvalues \n",
      "\n"
     ]
    },
    {
     "name": "stderr",
     "output_type": "stream",
     "text": [
      " 69%|██████████████████████████████████████▋                 | 1193/1728 [36:30<21:19,  2.39s/it]"
     ]
    },
    {
     "name": "stdout",
     "output_type": "stream",
     "text": [
      "[1] \"Model failed to converge with max|grad| = 2.79571 (tol = 0.002, component 1)\"\n",
      "[2] \" \\n\"                                                                         \n",
      "\n",
      "[1] \"Model is nearly unidentifiable: very large eigenvalue\\n - Rescale variables?\"\n",
      "[2] \" \\n\"                                                                         \n",
      "\n"
     ]
    },
    {
     "name": "stderr",
     "output_type": "stream",
     "text": [
      " 70%|███████████████████████████████████████▏                | 1211/1728 [37:18<17:03,  1.98s/it]"
     ]
    },
    {
     "name": "stdout",
     "output_type": "stream",
     "text": [
      "[1] \"Model failed to converge with max|grad| = 0.738973 (tol = 0.002, component 1)\"\n",
      "[2] \" \\n\"                                                                          \n",
      "\n",
      "[1] \"Model is nearly unidentifiable: very large eigenvalue\\n - Rescale variables?\"\n",
      "[2] \" \\n\"                                                                         \n",
      "\n"
     ]
    },
    {
     "name": "stderr",
     "output_type": "stream",
     "text": [
      " 71%|███████████████████████████████████████▊                | 1230/1728 [38:03<15:09,  1.83s/it]"
     ]
    },
    {
     "name": "stdout",
     "output_type": "stream",
     "text": [
      "[1] \"Model failed to converge with max|grad| = 3.05326 (tol = 0.002, component 1)\"\n",
      "[2] \" \\n\"                                                                         \n",
      "\n",
      "[1] \"Model is nearly unidentifiable: very large eigenvalue\\n - Rescale variables?\"\n",
      "[2] \" \\n\"                                                                         \n",
      "\n"
     ]
    },
    {
     "name": "stderr",
     "output_type": "stream",
     "text": [
      " 73%|████████████████████████████████████████▋               | 1254/1728 [39:10<21:06,  2.67s/it]"
     ]
    },
    {
     "name": "stdout",
     "output_type": "stream",
     "text": [
      "[1] \"Model failed to converge with max|grad| = 4.87645 (tol = 0.002, component 1)\"\n",
      "[2] \" \\n\"                                                                         \n",
      "\n",
      "[1] \"Model is nearly unidentifiable: very large eigenvalue\\n - Rescale variables?\"\n",
      "[2] \" \\n\"                                                                         \n",
      "\n"
     ]
    },
    {
     "name": "stderr",
     "output_type": "stream",
     "text": [
      " 73%|████████████████████████████████████████▊               | 1258/1728 [39:18<16:01,  2.05s/it]"
     ]
    },
    {
     "name": "stdout",
     "output_type": "stream",
     "text": [
      "[1] \"Model failed to converge with max|grad| = 2.04632 (tol = 0.002, component 1)\"\n",
      "[2] \" \\n\"                                                                         \n",
      "\n",
      "[1] \"Model is nearly unidentifiable: very large eigenvalue\\n - Rescale variables?\"\n",
      "[2] \" \\n\"                                                                         \n",
      "\n"
     ]
    },
    {
     "name": "stderr",
     "output_type": "stream",
     "text": [
      " 73%|████████████████████████████████████████▉               | 1262/1728 [39:27<15:09,  1.95s/it]"
     ]
    },
    {
     "name": "stdout",
     "output_type": "stream",
     "text": [
      "[1] \"Model failed to converge with max|grad| = 0.13737 (tol = 0.002, component 1)\"\n",
      "[2] \" \\n\"                                                                         \n",
      "\n",
      "[1] \"Model is nearly unidentifiable: very large eigenvalue\\n - Rescale variables?\"\n",
      "[2] \" \\n\"                                                                         \n",
      "\n"
     ]
    },
    {
     "name": "stderr",
     "output_type": "stream",
     "text": [
      " 73%|████████████████████████████████████████▉               | 1264/1728 [39:29<12:20,  1.60s/it]"
     ]
    },
    {
     "name": "stdout",
     "output_type": "stream",
     "text": [
      "unable to evaluate scaled gradient \n",
      "\n",
      "Model failed to converge: degenerate  Hessian with 2 negative eigenvalues \n",
      "\n"
     ]
    },
    {
     "name": "stderr",
     "output_type": "stream",
     "text": [
      " 74%|█████████████████████████████████████████▌              | 1284/1728 [40:27<16:37,  2.25s/it]"
     ]
    },
    {
     "name": "stdout",
     "output_type": "stream",
     "text": [
      "unable to evaluate scaled gradient \n",
      "\n",
      "Model failed to converge: degenerate  Hessian with 1 negative eigenvalues \n",
      "\n"
     ]
    },
    {
     "name": "stderr",
     "output_type": "stream",
     "text": [
      " 74%|█████████████████████████████████████████▋              | 1285/1728 [40:29<14:24,  1.95s/it]"
     ]
    },
    {
     "name": "stdout",
     "output_type": "stream",
     "text": [
      "unable to evaluate scaled gradient \n",
      "\n",
      "Model failed to converge: degenerate  Hessian with 2 negative eigenvalues \n",
      "\n"
     ]
    },
    {
     "name": "stderr",
     "output_type": "stream",
     "text": [
      " 76%|██████████████████████████████████████████▋             | 1318/1728 [41:54<16:03,  2.35s/it]"
     ]
    },
    {
     "name": "stdout",
     "output_type": "stream",
     "text": [
      "[1] \"Model failed to converge with max|grad| = 0.117694 (tol = 0.002, component 1)\"\n",
      "[2] \" \\n\"                                                                          \n",
      "\n",
      "[1] \"Model is nearly unidentifiable: very large eigenvalue\\n - Rescale variables?\"\n",
      "[2] \" \\n\"                                                                         \n",
      "\n"
     ]
    },
    {
     "name": "stderr",
     "output_type": "stream",
     "text": [
      " 77%|██████████████████████████████████████████▉             | 1323/1728 [42:07<14:56,  2.21s/it]"
     ]
    },
    {
     "name": "stdout",
     "output_type": "stream",
     "text": [
      "[1] \"Model failed to converge with max|grad| = 0.116762 (tol = 0.002, component 1)\"\n",
      "[2] \" \\n\"                                                                          \n",
      "\n",
      "[1] \"Model is nearly unidentifiable: very large eigenvalue\\n - Rescale variables?\"\n",
      "[2] \" \\n\"                                                                         \n",
      "\n"
     ]
    },
    {
     "name": "stderr",
     "output_type": "stream",
     "text": [
      " 77%|██████████████████████████████████████████▉             | 1325/1728 [42:10<12:35,  1.88s/it]"
     ]
    },
    {
     "name": "stdout",
     "output_type": "stream",
     "text": [
      "unable to evaluate scaled gradient \n",
      "\n",
      "Model failed to converge: degenerate  Hessian with 3 negative eigenvalues \n",
      "\n"
     ]
    },
    {
     "name": "stderr",
     "output_type": "stream",
     "text": [
      " 77%|███████████████████████████████████████████             | 1328/1728 [42:15<11:23,  1.71s/it]"
     ]
    },
    {
     "name": "stdout",
     "output_type": "stream",
     "text": [
      "unable to evaluate scaled gradient \n",
      "\n",
      "Model failed to converge: degenerate  Hessian with 1 negative eigenvalues \n",
      "\n"
     ]
    },
    {
     "name": "stderr",
     "output_type": "stream",
     "text": [
      " 78%|███████████████████████████████████████████▍            | 1341/1728 [42:47<13:49,  2.14s/it]"
     ]
    },
    {
     "name": "stdout",
     "output_type": "stream",
     "text": [
      "[1] \"Model failed to converge with max|grad| = 0.0992939 (tol = 0.002, component 1)\"\n",
      "[2] \" \\n\"                                                                           \n",
      "\n",
      "[1] \"Model is nearly unidentifiable: very large eigenvalue\\n - Rescale variables?\"\n",
      "[2] \" \\n\"                                                                         \n",
      "\n"
     ]
    },
    {
     "name": "stderr",
     "output_type": "stream",
     "text": [
      " 78%|███████████████████████████████████████████▊            | 1351/1728 [43:12<13:36,  2.17s/it]"
     ]
    },
    {
     "name": "stdout",
     "output_type": "stream",
     "text": [
      "[1] \"Model failed to converge with max|grad| = 0.135146 (tol = 0.002, component 1)\"\n",
      "[2] \" \\n\"                                                                          \n",
      "\n",
      "[1] \"Model is nearly unidentifiable: very large eigenvalue\\n - Rescale variables?\"\n",
      "[2] \" \\n\"                                                                         \n",
      "\n"
     ]
    },
    {
     "name": "stderr",
     "output_type": "stream",
     "text": [
      " 78%|███████████████████████████████████████████▉            | 1355/1728 [43:21<13:08,  2.11s/it]"
     ]
    },
    {
     "name": "stdout",
     "output_type": "stream",
     "text": [
      "unable to evaluate scaled gradient \n",
      "\n",
      "Model failed to converge: degenerate  Hessian with 1 negative eigenvalues \n",
      "\n"
     ]
    },
    {
     "name": "stderr",
     "output_type": "stream",
     "text": [
      " 79%|████████████████████████████████████████████            | 1360/1728 [43:34<14:03,  2.29s/it]"
     ]
    },
    {
     "name": "stdout",
     "output_type": "stream",
     "text": [
      "[1] \"Model failed to converge with max|grad| = 0.112063 (tol = 0.002, component 1)\"\n",
      "[2] \" \\n\"                                                                          \n",
      "\n",
      "[1] \"Model is nearly unidentifiable: very large eigenvalue\\n - Rescale variables?\"\n",
      "[2] \" \\n\"                                                                         \n",
      "\n"
     ]
    },
    {
     "name": "stderr",
     "output_type": "stream",
     "text": [
      " 79%|████████████████████████████████████████████▎           | 1366/1728 [43:46<11:37,  1.93s/it]"
     ]
    },
    {
     "name": "stdout",
     "output_type": "stream",
     "text": [
      "unable to evaluate scaled gradient \n",
      "\n",
      "Model failed to converge: degenerate  Hessian with 1 negative eigenvalues \n",
      "\n"
     ]
    },
    {
     "name": "stderr",
     "output_type": "stream",
     "text": [
      " 79%|████████████████████████████████████████████▎           | 1369/1728 [43:53<11:17,  1.89s/it]"
     ]
    },
    {
     "name": "stdout",
     "output_type": "stream",
     "text": [
      "[1] \"Model failed to converge with max|grad| = 3.33775 (tol = 0.002, component 1)\"\n",
      "[2] \" \\n\"                                                                         \n",
      "\n",
      "[1] \"Model is nearly unidentifiable: very large eigenvalue\\n - Rescale variables?\"\n",
      "[2] \" \\n\"                                                                         \n",
      "\n"
     ]
    },
    {
     "name": "stderr",
     "output_type": "stream",
     "text": [
      " 80%|████████████████████████████████████████████▌           | 1376/1728 [44:10<13:07,  2.24s/it]"
     ]
    },
    {
     "name": "stdout",
     "output_type": "stream",
     "text": [
      "[1] \"Model failed to converge with max|grad| = 0.1231 (tol = 0.002, component 1)\"\n",
      "[2] \" \\n\"                                                                        \n",
      "\n",
      "[1] \"Model is nearly unidentifiable: very large eigenvalue\\n - Rescale variables?\"\n",
      "[2] \" \\n\"                                                                         \n",
      "\n"
     ]
    },
    {
     "name": "stderr",
     "output_type": "stream",
     "text": [
      " 80%|████████████████████████████████████████████▉           | 1386/1728 [44:39<16:35,  2.91s/it]"
     ]
    },
    {
     "name": "stdout",
     "output_type": "stream",
     "text": [
      "[1] \"Model failed to converge with max|grad| = 0.104315 (tol = 0.002, component 1)\"\n",
      "[2] \" \\n\"                                                                          \n",
      "\n",
      "[1] \"Model is nearly unidentifiable: very large eigenvalue\\n - Rescale variables?\"\n",
      "[2] \" \\n\"                                                                         \n",
      "\n"
     ]
    },
    {
     "name": "stderr",
     "output_type": "stream",
     "text": [
      " 80%|█████████████████████████████████████████████           | 1390/1728 [44:49<13:25,  2.38s/it]"
     ]
    },
    {
     "name": "stdout",
     "output_type": "stream",
     "text": [
      "[1] \"Model failed to converge with max|grad| = 0.0963032 (tol = 0.002, component 1)\"\n",
      "[2] \" \\n\"                                                                           \n",
      "\n",
      "[1] \"Model is nearly unidentifiable: very large eigenvalue\\n - Rescale variables?\"\n",
      "[2] \" \\n\"                                                                         \n",
      "\n"
     ]
    },
    {
     "name": "stderr",
     "output_type": "stream",
     "text": [
      " 81%|█████████████████████████████████████████████▍          | 1401/1728 [45:35<16:31,  3.03s/it]"
     ]
    },
    {
     "name": "stdout",
     "output_type": "stream",
     "text": [
      "[1] \"Model failed to converge with max|grad| = 0.141641 (tol = 0.002, component 1)\"\n",
      "[2] \" \\n\"                                                                          \n",
      "\n",
      "[1] \"Model is nearly unidentifiable: very large eigenvalue\\n - Rescale variables?\"\n",
      "[2] \" \\n\"                                                                         \n",
      "\n"
     ]
    },
    {
     "name": "stderr",
     "output_type": "stream",
     "text": [
      " 81%|█████████████████████████████████████████████▌          | 1405/1728 [45:47<15:58,  2.97s/it]"
     ]
    },
    {
     "name": "stdout",
     "output_type": "stream",
     "text": [
      "[1] \"Model failed to converge with max|grad| = 0.121225 (tol = 0.002, component 1)\"\n",
      "[2] \" \\n\"                                                                          \n",
      "\n",
      "[1] \"Model is nearly unidentifiable: very large eigenvalue\\n - Rescale variables?\"\n",
      "[2] \" \\n\"                                                                         \n",
      "\n"
     ]
    },
    {
     "name": "stderr",
     "output_type": "stream",
     "text": [
      " 81%|█████████████████████████████████████████████▋          | 1408/1728 [45:54<12:48,  2.40s/it]"
     ]
    },
    {
     "name": "stdout",
     "output_type": "stream",
     "text": [
      "unable to evaluate scaled gradient \n",
      "\n",
      "Model failed to converge: degenerate  Hessian with 3 negative eigenvalues \n",
      "\n"
     ]
    },
    {
     "name": "stderr",
     "output_type": "stream",
     "text": [
      " 82%|██████████████████████████████████████████████▏         | 1425/1728 [46:43<10:34,  2.09s/it]"
     ]
    },
    {
     "name": "stdout",
     "output_type": "stream",
     "text": [
      "unable to evaluate scaled gradient \n",
      "\n",
      "Model failed to converge: degenerate  Hessian with 3 negative eigenvalues \n",
      "\n"
     ]
    },
    {
     "name": "stderr",
     "output_type": "stream",
     "text": [
      " 83%|██████████████████████████████████████████████▍         | 1431/1728 [46:58<11:02,  2.23s/it]"
     ]
    },
    {
     "name": "stdout",
     "output_type": "stream",
     "text": [
      "[1] \"Model failed to converge with max|grad| = 2.5456 (tol = 0.002, component 1)\"\n",
      "[2] \" \\n\"                                                                        \n",
      "\n",
      "[1] \"Model is nearly unidentifiable: very large eigenvalue\\n - Rescale variables?\"\n",
      "[2] \" \\n\"                                                                         \n",
      "\n"
     ]
    },
    {
     "name": "stderr",
     "output_type": "stream",
     "text": [
      " 83%|██████████████████████████████████████████████▌         | 1438/1728 [47:17<11:58,  2.48s/it]"
     ]
    },
    {
     "name": "stdout",
     "output_type": "stream",
     "text": [
      "[1] \"Model failed to converge with max|grad| = 0.116983 (tol = 0.002, component 1)\"\n",
      "[2] \" \\n\"                                                                          \n",
      "\n",
      "[1] \"Model is nearly unidentifiable: very large eigenvalue\\n - Rescale variables?\"\n",
      "[2] \" \\n\"                                                                         \n",
      "\n"
     ]
    },
    {
     "name": "stderr",
     "output_type": "stream",
     "text": [
      " 84%|██████████████████████████████████████████████▉         | 1447/1728 [47:41<10:23,  2.22s/it]"
     ]
    },
    {
     "name": "stdout",
     "output_type": "stream",
     "text": [
      "unable to evaluate scaled gradient \n",
      "\n",
      "Model failed to converge: degenerate  Hessian with 1 negative eigenvalues \n",
      "\n"
     ]
    },
    {
     "name": "stderr",
     "output_type": "stream",
     "text": [
      " 84%|███████████████████████████████████████████████▏        | 1456/1728 [48:06<11:15,  2.48s/it]"
     ]
    },
    {
     "name": "stdout",
     "output_type": "stream",
     "text": [
      "[1] \"Model failed to converge with max|grad| = 2.6491 (tol = 0.002, component 1)\"\n",
      "[2] \" \\n\"                                                                        \n",
      "\n",
      "[1] \"Model is nearly unidentifiable: very large eigenvalue\\n - Rescale variables?\"\n",
      "[2] \" \\n\"                                                                         \n",
      "\n"
     ]
    },
    {
     "name": "stderr",
     "output_type": "stream",
     "text": [
      " 85%|███████████████████████████████████████████████▍        | 1463/1728 [48:29<12:59,  2.94s/it]"
     ]
    },
    {
     "name": "stdout",
     "output_type": "stream",
     "text": [
      "[1] \"Model failed to converge with max|grad| = 0.12077 (tol = 0.002, component 1)\"\n",
      "[2] \" \\n\"                                                                         \n",
      "\n",
      "[1] \"Model is nearly unidentifiable: very large eigenvalue\\n - Rescale variables?\"\n",
      "[2] \" \\n\"                                                                         \n",
      "\n"
     ]
    },
    {
     "name": "stderr",
     "output_type": "stream",
     "text": [
      " 85%|███████████████████████████████████████████████▊        | 1477/1728 [49:12<10:49,  2.59s/it]"
     ]
    },
    {
     "name": "stdout",
     "output_type": "stream",
     "text": [
      "[1] \"Model failed to converge with max|grad| = 0.112315 (tol = 0.002, component 1)\"\n",
      "[2] \" \\n\"                                                                          \n",
      "\n",
      "[1] \"Model is nearly unidentifiable: very large eigenvalue\\n - Rescale variables?\"\n",
      "[2] \" \\n\"                                                                         \n",
      "\n"
     ]
    },
    {
     "name": "stderr",
     "output_type": "stream",
     "text": [
      " 86%|████████████████████████████████████████████████        | 1484/1728 [49:28<09:04,  2.23s/it]"
     ]
    },
    {
     "name": "stdout",
     "output_type": "stream",
     "text": [
      "[1] \"Model failed to converge with max|grad| = 0.105696 (tol = 0.002, component 1)\"\n",
      "[2] \" \\n\"                                                                          \n",
      "\n",
      "[1] \"Model is nearly unidentifiable: very large eigenvalue\\n - Rescale variables?\"\n",
      "[2] \" \\n\"                                                                         \n",
      "\n"
     ]
    },
    {
     "name": "stderr",
     "output_type": "stream",
     "text": [
      " 87%|████████████████████████████████████████████████▍       | 1496/1728 [50:03<09:25,  2.44s/it]"
     ]
    },
    {
     "name": "stdout",
     "output_type": "stream",
     "text": [
      "[1] \"Model failed to converge with max|grad| = 1.28501 (tol = 0.002, component 1)\"\n",
      "[2] \" \\n\"                                                                         \n",
      "\n",
      "[1] \"Model is nearly unidentifiable: very large eigenvalue\\n - Rescale variables?\"\n",
      "[2] \" \\n\"                                                                         \n",
      "\n"
     ]
    },
    {
     "name": "stderr",
     "output_type": "stream",
     "text": [
      " 87%|████████████████████████████████████████████████▌       | 1498/1728 [50:07<08:30,  2.22s/it]"
     ]
    },
    {
     "name": "stdout",
     "output_type": "stream",
     "text": [
      "[1] \"Model failed to converge with max|grad| = 3.51508 (tol = 0.002, component 1)\"\n",
      "[2] \" \\n\"                                                                         \n",
      "\n",
      "[1] \"Model is nearly unidentifiable: very large eigenvalue\\n - Rescale variables?\"\n",
      "[2] \" \\n\"                                                                         \n",
      "\n"
     ]
    },
    {
     "name": "stderr",
     "output_type": "stream",
     "text": [
      " 87%|████████████████████████████████████████████████▋       | 1501/1728 [50:14<07:52,  2.08s/it]"
     ]
    },
    {
     "name": "stdout",
     "output_type": "stream",
     "text": [
      "[1] \"Model failed to converge with max|grad| = 0.0891679 (tol = 0.002, component 1)\"\n",
      "[2] \" \\n\"                                                                           \n",
      "\n",
      "[1] \"Model is nearly unidentifiable: very large eigenvalue\\n - Rescale variables?\"\n",
      "[2] \" \\n\"                                                                         \n",
      "\n"
     ]
    },
    {
     "name": "stderr",
     "output_type": "stream",
     "text": [
      " 87%|████████████████████████████████████████████████▋       | 1502/1728 [50:15<06:45,  1.79s/it]"
     ]
    },
    {
     "name": "stdout",
     "output_type": "stream",
     "text": [
      "unable to evaluate scaled gradient \n",
      "\n",
      "Model failed to converge: degenerate  Hessian with 1 negative eigenvalues \n",
      "\n"
     ]
    },
    {
     "name": "stderr",
     "output_type": "stream",
     "text": [
      " 89%|█████████████████████████████████████████████████▋      | 1534/1728 [51:50<08:03,  2.49s/it]"
     ]
    },
    {
     "name": "stdout",
     "output_type": "stream",
     "text": [
      "unable to evaluate scaled gradient \n",
      "\n",
      "Model failed to converge: degenerate  Hessian with 1 negative eigenvalues \n",
      "\n"
     ]
    },
    {
     "name": "stderr",
     "output_type": "stream",
     "text": [
      " 90%|██████████████████████████████████████████████████▎     | 1552/1728 [52:43<06:33,  2.23s/it]"
     ]
    },
    {
     "name": "stdout",
     "output_type": "stream",
     "text": [
      "unable to evaluate scaled gradient \n",
      "\n",
      "Model failed to converge: degenerate  Hessian with 2 negative eigenvalues \n",
      "\n"
     ]
    },
    {
     "name": "stderr",
     "output_type": "stream",
     "text": [
      " 90%|██████████████████████████████████████████████████▍     | 1556/1728 [52:53<06:53,  2.41s/it]"
     ]
    },
    {
     "name": "stdout",
     "output_type": "stream",
     "text": [
      "unable to evaluate scaled gradient \n",
      "\n",
      "Model failed to converge: degenerate  Hessian with 5 negative eigenvalues \n",
      "\n"
     ]
    },
    {
     "name": "stderr",
     "output_type": "stream",
     "text": [
      " 91%|██████████████████████████████████████████████████▊     | 1569/1728 [53:34<09:00,  3.40s/it]"
     ]
    },
    {
     "name": "stdout",
     "output_type": "stream",
     "text": [
      "[1] \"Model failed to converge with max|grad| = 0.133044 (tol = 0.002, component 1)\"\n",
      "[2] \" \\n\"                                                                          \n",
      "\n",
      "[1] \"Model is nearly unidentifiable: very large eigenvalue\\n - Rescale variables?\"\n",
      "[2] \" \\n\"                                                                         \n",
      "\n"
     ]
    },
    {
     "name": "stderr",
     "output_type": "stream",
     "text": [
      " 91%|██████████████████████████████████████████████████▉     | 1573/1728 [53:44<06:26,  2.50s/it]"
     ]
    },
    {
     "name": "stdout",
     "output_type": "stream",
     "text": [
      "unable to evaluate scaled gradient \n",
      "\n",
      "Model failed to converge: degenerate  Hessian with 2 negative eigenvalues \n",
      "\n"
     ]
    },
    {
     "name": "stderr",
     "output_type": "stream",
     "text": [
      " 92%|███████████████████████████████████████████████████▎    | 1584/1728 [54:16<06:31,  2.72s/it]"
     ]
    },
    {
     "name": "stdout",
     "output_type": "stream",
     "text": [
      "[1] \"Model failed to converge with max|grad| = 0.126229 (tol = 0.002, component 1)\"\n",
      "[2] \" \\n\"                                                                          \n",
      "\n",
      "[1] \"Model is nearly unidentifiable: very large eigenvalue\\n - Rescale variables?\"\n",
      "[2] \" \\n\"                                                                         \n",
      "\n"
     ]
    },
    {
     "name": "stderr",
     "output_type": "stream",
     "text": [
      " 92%|███████████████████████████████████████████████████▍    | 1588/1728 [54:26<05:45,  2.47s/it]"
     ]
    },
    {
     "name": "stdout",
     "output_type": "stream",
     "text": [
      "[1] \"Model failed to converge with max|grad| = 0.121625 (tol = 0.002, component 1)\"\n",
      "[2] \" \\n\"                                                                          \n",
      "\n",
      "[1] \"Model is nearly unidentifiable: very large eigenvalue\\n - Rescale variables?\"\n",
      "[2] \" \\n\"                                                                         \n",
      "\n"
     ]
    },
    {
     "name": "stderr",
     "output_type": "stream",
     "text": [
      " 92%|███████████████████████████████████████████████████▌    | 1590/1728 [54:30<04:44,  2.06s/it]"
     ]
    },
    {
     "name": "stdout",
     "output_type": "stream",
     "text": [
      "unable to evaluate scaled gradient \n",
      "\n",
      "Model failed to converge: degenerate  Hessian with 1 negative eigenvalues \n",
      "\n"
     ]
    },
    {
     "name": "stderr",
     "output_type": "stream",
     "text": [
      " 93%|███████████████████████████████████████████████████▉    | 1602/1728 [55:05<04:57,  2.36s/it]"
     ]
    },
    {
     "name": "stdout",
     "output_type": "stream",
     "text": [
      "unable to evaluate scaled gradient \n",
      "\n",
      "Model failed to converge: degenerate  Hessian with 1 negative eigenvalues \n",
      "\n"
     ]
    },
    {
     "name": "stderr",
     "output_type": "stream",
     "text": [
      " 93%|████████████████████████████████████████████████████▎   | 1614/1728 [55:40<04:47,  2.52s/it]"
     ]
    },
    {
     "name": "stdout",
     "output_type": "stream",
     "text": [
      "unable to evaluate scaled gradient \n",
      "\n",
      "Model failed to converge: degenerate  Hessian with 2 negative eigenvalues \n",
      "\n"
     ]
    },
    {
     "name": "stderr",
     "output_type": "stream",
     "text": [
      " 94%|████████████████████████████████████████████████████▍   | 1617/1728 [55:47<04:25,  2.39s/it]"
     ]
    },
    {
     "name": "stdout",
     "output_type": "stream",
     "text": [
      "[1] \"Model failed to converge with max|grad| = 0.0869343 (tol = 0.002, component 1)\"\n",
      "[2] \" \\n\"                                                                           \n",
      "\n",
      "[1] \"Model is nearly unidentifiable: very large eigenvalue\\n - Rescale variables?\"\n",
      "[2] \" \\n\"                                                                         \n",
      "\n"
     ]
    },
    {
     "name": "stderr",
     "output_type": "stream",
     "text": [
      " 94%|████████████████████████████████████████████████████▋   | 1627/1728 [56:18<04:26,  2.64s/it]"
     ]
    },
    {
     "name": "stdout",
     "output_type": "stream",
     "text": [
      "[1] \"Model failed to converge with max|grad| = 0.0941267 (tol = 0.002, component 1)\"\n",
      "[2] \" \\n\"                                                                           \n",
      "\n",
      "[1] \"Model is nearly unidentifiable: very large eigenvalue\\n - Rescale variables?\"\n",
      "[2] \" \\n\"                                                                         \n",
      "\n"
     ]
    },
    {
     "name": "stderr",
     "output_type": "stream",
     "text": [
      " 94%|████████████████████████████████████████████████████▊   | 1631/1728 [56:27<03:33,  2.20s/it]"
     ]
    },
    {
     "name": "stdout",
     "output_type": "stream",
     "text": [
      "[1] \"Model failed to converge with max|grad| = 0.0991627 (tol = 0.002, component 1)\"\n",
      "[2] \" \\n\"                                                                           \n",
      "\n",
      "[1] \"Model is nearly unidentifiable: very large eigenvalue\\n - Rescale variables?\"\n",
      "[2] \" \\n\"                                                                         \n",
      "\n"
     ]
    },
    {
     "name": "stderr",
     "output_type": "stream",
     "text": [
      " 95%|████████████████████████████████████████████████████▉   | 1634/1728 [56:34<03:33,  2.27s/it]"
     ]
    },
    {
     "name": "stdout",
     "output_type": "stream",
     "text": [
      "[1] \"Model failed to converge with max|grad| = 0.185353 (tol = 0.002, component 1)\"\n",
      "[2] \" \\n\"                                                                          \n",
      "\n",
      "[1] \"Model is nearly unidentifiable: very large eigenvalue\\n - Rescale variables?\"\n",
      "[2] \" \\n\"                                                                         \n",
      "\n"
     ]
    },
    {
     "name": "stderr",
     "output_type": "stream",
     "text": [
      " 95%|█████████████████████████████████████████████████████   | 1638/1728 [56:45<03:36,  2.40s/it]"
     ]
    },
    {
     "name": "stdout",
     "output_type": "stream",
     "text": [
      "[1] \"Model failed to converge with max|grad| = 0.121412 (tol = 0.002, component 1)\"\n",
      "[2] \" \\n\"                                                                          \n",
      "\n",
      "[1] \"Model is nearly unidentifiable: very large eigenvalue\\n - Rescale variables?\"\n",
      "[2] \" \\n\"                                                                         \n",
      "\n"
     ]
    },
    {
     "name": "stderr",
     "output_type": "stream",
     "text": [
      " 95%|█████████████████████████████████████████████████████▏  | 1641/1728 [56:51<03:09,  2.18s/it]"
     ]
    },
    {
     "name": "stdout",
     "output_type": "stream",
     "text": [
      "[1] \"Model failed to converge with max|grad| = 0.116317 (tol = 0.002, component 1)\"\n",
      "[2] \" \\n\"                                                                          \n",
      "\n",
      "[1] \"Model is nearly unidentifiable: very large eigenvalue\\n - Rescale variables?\"\n",
      "[2] \" \\n\"                                                                         \n",
      "\n"
     ]
    },
    {
     "name": "stderr",
     "output_type": "stream",
     "text": [
      " 95%|█████████████████████████████████████████████████████▍  | 1649/1728 [57:16<03:32,  2.69s/it]"
     ]
    },
    {
     "name": "stdout",
     "output_type": "stream",
     "text": [
      "unable to evaluate scaled gradient \n",
      "\n",
      "Model failed to converge: degenerate  Hessian with 1 negative eigenvalues \n",
      "\n"
     ]
    },
    {
     "name": "stderr",
     "output_type": "stream",
     "text": [
      " 96%|█████████████████████████████████████████████████████▊  | 1660/1728 [57:53<03:12,  2.83s/it]"
     ]
    },
    {
     "name": "stdout",
     "output_type": "stream",
     "text": [
      "[1] \"Model failed to converge with max|grad| = 3.97396 (tol = 0.002, component 1)\"\n",
      "[2] \" \\n\"                                                                         \n",
      "\n",
      "[1] \"Model is nearly unidentifiable: very large eigenvalue\\n - Rescale variables?\"\n",
      "[2] \" \\n\"                                                                         \n",
      "\n"
     ]
    },
    {
     "name": "stderr",
     "output_type": "stream",
     "text": [
      " 96%|█████████████████████████████████████████████████████▊  | 1662/1728 [57:57<02:37,  2.39s/it]"
     ]
    },
    {
     "name": "stdout",
     "output_type": "stream",
     "text": [
      "unable to evaluate scaled gradient \n",
      "\n",
      "Model failed to converge: degenerate  Hessian with 2 negative eigenvalues \n",
      "\n"
     ]
    },
    {
     "name": "stderr",
     "output_type": "stream",
     "text": [
      " 98%|██████████████████████████████████████████████████████▌ | 1685/1728 [59:14<02:02,  2.86s/it]"
     ]
    },
    {
     "name": "stdout",
     "output_type": "stream",
     "text": [
      "unable to evaluate scaled gradient \n",
      "\n",
      "Model failed to converge: degenerate  Hessian with 1 negative eigenvalues \n",
      "\n"
     ]
    },
    {
     "name": "stderr",
     "output_type": "stream",
     "text": [
      " 99%|█████████████████████████████████████████████████████▎| 1705/1728 [1:00:27<01:08,  2.96s/it]"
     ]
    },
    {
     "name": "stdout",
     "output_type": "stream",
     "text": [
      "[1] \"Model failed to converge with max|grad| = 4.88895 (tol = 0.002, component 1)\"\n",
      "[2] \" \\n\"                                                                         \n",
      "\n",
      "[1] \"Model is nearly unidentifiable: very large eigenvalue\\n - Rescale variables?\"\n",
      "[2] \" \\n\"                                                                         \n",
      "\n"
     ]
    },
    {
     "name": "stderr",
     "output_type": "stream",
     "text": [
      " 99%|█████████████████████████████████████████████████████▌| 1712/1728 [1:00:51<00:46,  2.93s/it]"
     ]
    },
    {
     "name": "stdout",
     "output_type": "stream",
     "text": [
      "[1] \"Model failed to converge with max|grad| = 0.111746 (tol = 0.002, component 1)\"\n",
      "[2] \" \\n\"                                                                          \n",
      "\n",
      "[1] \"Model is nearly unidentifiable: very large eigenvalue\\n - Rescale variables?\"\n",
      "[2] \" \\n\"                                                                         \n",
      "\n"
     ]
    },
    {
     "name": "stderr",
     "output_type": "stream",
     "text": [
      " 99%|█████████████████████████████████████████████████████▋| 1719/1728 [1:01:15<00:27,  3.08s/it]"
     ]
    },
    {
     "name": "stdout",
     "output_type": "stream",
     "text": [
      "[1] \"Model failed to converge with max|grad| = 0.117954 (tol = 0.002, component 1)\"\n",
      "[2] \" \\n\"                                                                          \n",
      "\n",
      "[1] \"Model is nearly unidentifiable: very large eigenvalue\\n - Rescale variables?\"\n",
      "[2] \" \\n\"                                                                         \n",
      "\n"
     ]
    },
    {
     "name": "stderr",
     "output_type": "stream",
     "text": [
      "100%|██████████████████████████████████████████████████████| 1728/1728 [1:01:54<00:00,  2.15s/it]\n"
     ]
    }
   ],
   "source": [
    "# Testing each candidate formula for the zero/nonzero models + recording the results...\n",
    "formula = list(zip(zero_formula, nonzero_formula))\n",
    "zero_results = {'formula' : [], 'aic' : [], 'bic' : [], 'log_likelihood' : []}\n",
    "nonzero_results = {'formula' : [], 'aic' : [], 'bic' : [], 'log_likelihood' : []}\n",
    "\n",
    "for z_form, nz_form in tqdm(formula):\n",
    "    #  filling out the params w/the zero + nonzero formula to try\n",
    "    params['pymer_zero_formula'] = z_form\n",
    "    params['pymer_nonzero_formula'] = nz_form\n",
    "    args = ModelParams(params)\n",
    "\n",
    "    #  train the zero + nonzero models\n",
    "    trained_model = train_candidate_model(args)\n",
    "\n",
    "    #  record results in terms of AIC, BIC, and log-likelihood\n",
    "    zero_results['formula'].append(z_form)\n",
    "    zero_results['aic'].append(trained_model.zero_model.model.AIC)\n",
    "    zero_results['bic'].append(trained_model.zero_model.model.BIC)\n",
    "    zero_results['log_likelihood'].append(trained_model.zero_model.model.logLike)\n",
    "\n",
    "    nonzero_results['formula'].append(nz_form)\n",
    "    nonzero_results['aic'].append(trained_model.nonzero_model.model.AIC)\n",
    "    nonzero_results['bic'].append(trained_model.nonzero_model.model.BIC)\n",
    "    nonzero_results['log_likelihood'].append(trained_model.nonzero_model.model.logLike)"
   ]
  },
  {
   "cell_type": "code",
   "execution_count": 10,
   "id": "8e89aa6b-d630-499f-9acc-ddf73fdcd54d",
   "metadata": {},
   "outputs": [],
   "source": [
    "# Turning results into dataframes + sorting by BIC\n",
    "zero_results_df = pd.DataFrame.from_dict(zero_results)\n",
    "nonzero_results_df = pd.DataFrame.from_dict(nonzero_results)\n",
    "\n",
    "zero_results_df = zero_results_df.sort_values('bic', ascending = True)\n",
    "nonzero_results_df = nonzero_results_df.sort_values('bic', ascending = True)\n",
    "\n",
    "#  saving the results\n",
    "save_dir = '../final_results/linear_model_feature_selection'\n",
    "zero_results_df.to_csv(os.path.join(save_dir, 'zero_model_feature_selection.csv'))\n",
    "nonzero_results_df.to_csv(os.path.join(save_dir, 'nonzero_model_feature_selection.csv'))"
   ]
  },
  {
   "cell_type": "markdown",
   "id": "50bfaa80-09f2-464e-829b-5a30b6dbbea5",
   "metadata": {},
   "source": [
    "## Brief exploration of results"
   ]
  },
  {
   "cell_type": "code",
   "execution_count": 11,
   "id": "f47af1e9-5ced-45b6-bf6b-3c2cc0519179",
   "metadata": {},
   "outputs": [
    {
     "data": {
      "text/html": [
       "<div>\n",
       "<style scoped>\n",
       "    .dataframe tbody tr th:only-of-type {\n",
       "        vertical-align: middle;\n",
       "    }\n",
       "\n",
       "    .dataframe tbody tr th {\n",
       "        vertical-align: top;\n",
       "    }\n",
       "\n",
       "    .dataframe thead th {\n",
       "        text-align: right;\n",
       "    }\n",
       "</style>\n",
       "<table border=\"1\" class=\"dataframe\">\n",
       "  <thead>\n",
       "    <tr style=\"text-align: right;\">\n",
       "      <th></th>\n",
       "      <th>formula</th>\n",
       "      <th>aic</th>\n",
       "      <th>bic</th>\n",
       "      <th>log_likelihood</th>\n",
       "    </tr>\n",
       "  </thead>\n",
       "  <tbody>\n",
       "    <tr>\n",
       "      <th>50</th>\n",
       "      <td>local_extirpation ~ Body_Mass + Dist_Settlemen...</td>\n",
       "      <td>2100.659622</td>\n",
       "      <td>2155.283703</td>\n",
       "      <td>-1041.329811</td>\n",
       "    </tr>\n",
       "    <tr>\n",
       "      <th>154</th>\n",
       "      <td>local_extirpation ~ Body_Mass + Literacy_Rate ...</td>\n",
       "      <td>2094.879580</td>\n",
       "      <td>2155.573003</td>\n",
       "      <td>-1037.439790</td>\n",
       "    </tr>\n",
       "    <tr>\n",
       "      <th>191</th>\n",
       "      <td>local_extirpation ~ Body_Mass + Dist_Settlemen...</td>\n",
       "      <td>2095.131443</td>\n",
       "      <td>2155.824867</td>\n",
       "      <td>-1037.565722</td>\n",
       "    </tr>\n",
       "    <tr>\n",
       "      <th>199</th>\n",
       "      <td>local_extirpation ~ Body_Mass + Dist_Settlemen...</td>\n",
       "      <td>2095.403102</td>\n",
       "      <td>2156.096526</td>\n",
       "      <td>-1037.701551</td>\n",
       "    </tr>\n",
       "    <tr>\n",
       "      <th>412</th>\n",
       "      <td>local_extirpation ~ Body_Mass + Literacy_Rate ...</td>\n",
       "      <td>2090.101933</td>\n",
       "      <td>2156.864699</td>\n",
       "      <td>-1034.050966</td>\n",
       "    </tr>\n",
       "  </tbody>\n",
       "</table>\n",
       "</div>"
      ],
      "text/plain": [
       "                                               formula          aic  \\\n",
       "50   local_extirpation ~ Body_Mass + Dist_Settlemen...  2100.659622   \n",
       "154  local_extirpation ~ Body_Mass + Literacy_Rate ...  2094.879580   \n",
       "191  local_extirpation ~ Body_Mass + Dist_Settlemen...  2095.131443   \n",
       "199  local_extirpation ~ Body_Mass + Dist_Settlemen...  2095.403102   \n",
       "412  local_extirpation ~ Body_Mass + Literacy_Rate ...  2090.101933   \n",
       "\n",
       "             bic  log_likelihood  \n",
       "50   2155.283703    -1041.329811  \n",
       "154  2155.573003    -1037.439790  \n",
       "191  2155.824867    -1037.565722  \n",
       "199  2156.096526    -1037.701551  \n",
       "412  2156.864699    -1034.050966  "
      ]
     },
     "execution_count": 11,
     "metadata": {},
     "output_type": "execute_result"
    }
   ],
   "source": [
    "# Zero results\n",
    "zero_results_df.head(5)"
   ]
  },
  {
   "cell_type": "code",
   "execution_count": 26,
   "id": "2e2f9f86-0f6a-4c86-9a1d-953359f801a0",
   "metadata": {},
   "outputs": [
    {
     "data": {
      "text/plain": [
       "'local_extirpation ~ Body_Mass + Dist_Settlement_KM + Travel_Time_Large + Livestock_Biomass + Population_Density + (1|Country) + (1|Species) + (1|Study)'"
      ]
     },
     "execution_count": 26,
     "metadata": {},
     "output_type": "execute_result"
    }
   ],
   "source": [
    "# Best formula\n",
    "zero_results_df.iloc[0]['formula']"
   ]
  },
  {
   "cell_type": "code",
   "execution_count": 21,
   "id": "90fdd9e1-bf73-45dc-8a49-7d1316115bf0",
   "metadata": {
    "scrolled": true
   },
   "outputs": [
    {
     "name": "stdout",
     "output_type": "stream",
     "text": [
      "0: local_extirpation ~ Body_Mass + Dist_Settlement_KM + Travel_Time_Large + Livestock_Biomass + Population_Density + (1|Country) + (1|Species) + (1|Study)\n",
      "\n",
      "1: local_extirpation ~ Body_Mass + Literacy_Rate + Dist_Settlement_KM + Travel_Time_Large + Livestock_Biomass + Population_Density + (1|Country) + (1|Species) + (1|Study)\n",
      "\n",
      "2: local_extirpation ~ Body_Mass + Dist_Settlement_KM + Travel_Time_Large + Protected_Area + Livestock_Biomass + Population_Density + (1|Country) + (1|Species) + (1|Study)\n",
      "\n",
      "3: local_extirpation ~ Body_Mass + Dist_Settlement_KM + Travel_Time_Large + Livestock_Biomass + Population_Density + I(Dist_Settlement_KM^2) + (1|Country) + (1|Species) + (1|Study)\n",
      "\n",
      "4: local_extirpation ~ Body_Mass + Literacy_Rate + Dist_Settlement_KM + Travel_Time_Large + Protected_Area + Livestock_Biomass + Population_Density + (1|Country) + (1|Species) + (1|Study)\n",
      "\n",
      "5: local_extirpation ~ Body_Mass + Literacy_Rate + Dist_Settlement_KM + Travel_Time_Large + Livestock_Biomass + Population_Density + I(Dist_Settlement_KM^2) + (1|Country) + (1|Species) + (1|Study)\n",
      "\n",
      "6: local_extirpation ~ Body_Mass + Dist_Settlement_KM + Travel_Time_Large + Protected_Area + Livestock_Biomass + Population_Density + I(Dist_Settlement_KM^2) + (1|Country) + (1|Species) + (1|Study)\n",
      "\n",
      "7: local_extirpation ~ Body_Mass + Travel_Time_Large + Protected_Area + Livestock_Biomass + Population_Density + Percent_Settlement_50km + (1|Country) + (1|Species) + (1|Study)\n",
      "\n",
      "8: local_extirpation ~ Body_Mass + Travel_Time_Large + Livestock_Biomass + Population_Density + Percent_Settlement_50km + (1|Country) + (1|Species) + (1|Study)\n",
      "\n",
      "9: local_extirpation ~ Body_Mass + Literacy_Rate + Travel_Time_Large + Livestock_Biomass + Population_Density + Percent_Settlement_50km + (1|Country) + (1|Species) + (1|Study)\n",
      "\n",
      "10: local_extirpation ~ Body_Mass + Literacy_Rate + Travel_Time_Large + Protected_Area + Livestock_Biomass + Population_Density + Percent_Settlement_50km + (1|Country) + (1|Species) + (1|Study)\n",
      "\n",
      "11: local_extirpation ~ Body_Mass + Literacy_Rate + Dist_Settlement_KM + Travel_Time_Large + Protected_Area + Livestock_Biomass + Population_Density + I(Dist_Settlement_KM^2) + (1|Country) + (1|Species) + (1|Study)\n",
      "\n",
      "12: local_extirpation ~ Body_Mass + Stunting_Pct + Dist_Settlement_KM + Travel_Time_Large + Protected_Area + Livestock_Biomass + Population_Density + (1|Country) + (1|Species) + (1|Study)\n",
      "\n",
      "13: local_extirpation ~ Body_Mass + Stunting_Pct + Dist_Settlement_KM + Travel_Time_Large + Livestock_Biomass + Population_Density + (1|Country) + (1|Species) + (1|Study)\n",
      "\n",
      "14: local_extirpation ~ Body_Mass + Dist_Settlement_KM + Travel_Time_Large + Livestock_Biomass + Population_Density + Body_Mass*Dist_Settlement_KM + (1|Country) + (1|Species) + (1|Study)\n",
      "\n",
      "15: local_extirpation ~ Body_Mass + Stunting_Pct + Dist_Settlement_KM + Travel_Time_Large + Protected_Area + Livestock_Biomass + Population_Density + I(Stunting_Pct^2) + (1|Country) + (1|Species) + (1|Study)\n",
      "\n",
      "16: local_extirpation ~ Body_Mass + Dist_Settlement_KM + Travel_Time_Large + Protected_Area + Livestock_Biomass + Population_Density + Body_Mass*Dist_Settlement_KM + (1|Country) + (1|Species) + (1|Study)\n",
      "\n",
      "17: local_extirpation ~ Body_Mass + Literacy_Rate + Dist_Settlement_KM + Travel_Time_Large + Livestock_Biomass + Population_Density + Body_Mass*Dist_Settlement_KM + (1|Country) + (1|Species) + (1|Study)\n",
      "\n",
      "18: local_extirpation ~ Body_Mass + Dist_Settlement_KM + Travel_Time_Large + Livestock_Biomass + Population_Density + Body_Mass*Dist_Settlement_KM + I(Dist_Settlement_KM^2) + (1|Country) + (1|Species) + (1|Study)\n",
      "\n",
      "19: local_extirpation ~ Body_Mass + Dist_Settlement_KM + Travel_Time_Large + Livestock_Biomass + Population_Density + I(Population_Density^2) + (1|Country) + (1|Species) + (1|Study)\n",
      "\n",
      "20: local_extirpation ~ Body_Mass + Dist_Settlement_KM + Travel_Time_Large + Protected_Area + Livestock_Biomass + Population_Density + I(Population_Density^2) + (1|Country) + (1|Species) + (1|Study)\n",
      "\n",
      "21: local_extirpation ~ Body_Mass + Literacy_Rate + Dist_Settlement_KM + Travel_Time_Large + Protected_Area + Livestock_Biomass + Population_Density + Body_Mass*Dist_Settlement_KM + (1|Country) + (1|Species) + (1|Study)\n",
      "\n",
      "22: local_extirpation ~ Body_Mass + Stunting_Pct + Dist_Settlement_KM + Travel_Time_Large + Livestock_Biomass + Population_Density + I(Dist_Settlement_KM^2) + (1|Country) + (1|Species) + (1|Study)\n",
      "\n",
      "23: local_extirpation ~ Body_Mass + Dist_Settlement_KM + Travel_Time_Large + Livestock_Biomass + Population_Density + Percent_Settlement_50km + (1|Country) + (1|Species) + (1|Study)\n",
      "\n",
      "24: local_extirpation ~ Body_Mass + Dist_Settlement_KM + Travel_Time_Large + Livestock_Biomass + Population_Density + I(Body_Mass^2) + (1|Country) + (1|Species) + (1|Study)\n",
      "\n",
      "25: local_extirpation ~ Body_Mass + Dist_Settlement_KM + Travel_Time_Large + Protected_Area + Livestock_Biomass + Population_Density + Body_Mass*Dist_Settlement_KM + I(Dist_Settlement_KM^2) + (1|Country) + (1|Species) + (1|Study)\n",
      "\n",
      "26: local_extirpation ~ Body_Mass + Stunting_Pct + Dist_Settlement_KM + Travel_Time_Large + Livestock_Biomass + Population_Density + I(Stunting_Pct^2) + (1|Country) + (1|Species) + (1|Study)\n",
      "\n",
      "27: local_extirpation ~ Body_Mass + Literacy_Rate + Dist_Settlement_KM + Travel_Time_Large + Livestock_Biomass + Population_Density + Percent_Settlement_50km + (1|Country) + (1|Species) + (1|Study)\n",
      "\n",
      "28: local_extirpation ~ Body_Mass + Stunting_Pct + Literacy_Rate + Dist_Settlement_KM + Travel_Time_Large + Livestock_Biomass + Population_Density + (1|Country) + (1|Species) + (1|Study)\n",
      "\n",
      "29: local_extirpation ~ Body_Mass + Literacy_Rate + Dist_Settlement_KM + Travel_Time_Large + Livestock_Biomass + Population_Density + I(Body_Mass^2) + (1|Country) + (1|Species) + (1|Study)\n",
      "\n",
      "30: local_extirpation ~ Body_Mass + Dist_Settlement_KM + Travel_Time_Large + Livestock_Biomass + Population_Density + I(Dist_Settlement_KM^2) + I(Population_Density^2) + (1|Country) + (1|Species) + (1|Study)\n",
      "\n",
      "31: local_extirpation ~ Body_Mass + Stunting_Pct + Dist_Settlement_KM + Travel_Time_Large + Protected_Area + Livestock_Biomass + Population_Density + I(Dist_Settlement_KM^2) + (1|Country) + (1|Species) + (1|Study)\n",
      "\n",
      "32: local_extirpation ~ Body_Mass + Literacy_Rate + Dist_Settlement_KM + Travel_Time_Large + Livestock_Biomass + Population_Density + Body_Mass*Dist_Settlement_KM + I(Dist_Settlement_KM^2) + (1|Country) + (1|Species) + (1|Study)\n",
      "\n",
      "33: local_extirpation ~ Body_Mass + Dist_Settlement_KM + Travel_Time_Large + Protected_Area + Livestock_Biomass + Population_Density + I(Body_Mass^2) + (1|Country) + (1|Species) + (1|Study)\n",
      "\n",
      "34: local_extirpation ~ Body_Mass + Literacy_Rate + Dist_Settlement_KM + Travel_Time_Large + Protected_Area + Livestock_Biomass + Population_Density + I(Population_Density^2) + (1|Country) + (1|Species) + (1|Study)\n",
      "\n",
      "35: local_extirpation ~ Body_Mass + Stunting_Pct + Travel_Time_Large + Protected_Area + Livestock_Biomass + Population_Density + Percent_Settlement_50km + I(Stunting_Pct^2) + (1|Country) + (1|Species) + (1|Study)\n",
      "\n",
      "36: local_extirpation ~ Body_Mass + Dist_Settlement_KM + Travel_Time_Large + Protected_Area + Livestock_Biomass + Population_Density + Percent_Settlement_50km + (1|Country) + (1|Species) + (1|Study)\n",
      "\n",
      "37: local_extirpation ~ Body_Mass + Stunting_Pct + Travel_Time_Large + Protected_Area + Livestock_Biomass + Population_Density + Percent_Settlement_50km + (1|Country) + (1|Species) + (1|Study)\n",
      "\n",
      "38: local_extirpation ~ Body_Mass + Dist_Settlement_KM + Travel_Time_Large + Livestock_Biomass + Population_Density + I(Dist_Settlement_KM^2) + I(Body_Mass^2) + (1|Country) + (1|Species) + (1|Study)\n",
      "\n",
      "39: local_extirpation ~ Body_Mass + Dist_Settlement_KM + Travel_Time_Large + Livestock_Biomass + Population_Density + Percent_Settlement_50km + I(Dist_Settlement_KM^2) + (1|Country) + (1|Species) + (1|Study)\n",
      "\n",
      "40: local_extirpation ~ Body_Mass + Literacy_Rate + Dist_Settlement_KM + Travel_Time_Large + Livestock_Biomass + Population_Density + I(Population_Density^2) + (1|Country) + (1|Species) + (1|Study)\n",
      "\n",
      "41: local_extirpation ~ Body_Mass + Stunting_Pct + Literacy_Rate + Dist_Settlement_KM + Travel_Time_Large + Protected_Area + Livestock_Biomass + Population_Density + (1|Country) + (1|Species) + (1|Study)\n",
      "\n",
      "42: local_extirpation ~ Body_Mass + Travel_Time_Large + Protected_Area + Livestock_Biomass + Population_Density + Percent_Settlement_50km + I(Population_Density^2) + (1|Country) + (1|Species) + (1|Study)\n",
      "\n",
      "43: local_extirpation ~ Body_Mass + Literacy_Rate + Dist_Settlement_KM + Travel_Time_Large + Protected_Area + Livestock_Biomass + Population_Density + I(Body_Mass^2) + (1|Country) + (1|Species) + (1|Study)\n",
      "\n",
      "44: local_extirpation ~ Body_Mass + Literacy_Rate + Dist_Settlement_KM + Travel_Time_Large + Protected_Area + Livestock_Biomass + Population_Density + Percent_Settlement_50km + (1|Country) + (1|Species) + (1|Study)\n",
      "\n",
      "45: local_extirpation ~ Body_Mass + Travel_Time_Large + Livestock_Biomass + Population_Density + Percent_Settlement_50km + I(Population_Density^2) + (1|Country) + (1|Species) + (1|Study)\n",
      "\n",
      "46: local_extirpation ~ Body_Mass + Stunting_Pct + Travel_Time_Large + Livestock_Biomass + Population_Density + Percent_Settlement_50km + (1|Country) + (1|Species) + (1|Study)\n",
      "\n",
      "47: local_extirpation ~ Body_Mass + Stunting_Pct + Dist_Settlement_KM + Travel_Time_Large + Protected_Area + Livestock_Biomass + Population_Density + I(Dist_Settlement_KM^2) + I(Stunting_Pct^2) + (1|Country) + (1|Species) + (1|Study)\n",
      "\n",
      "48: local_extirpation ~ Body_Mass + Dist_Settlement_KM + Travel_Time_Large + Protected_Area + Livestock_Biomass + Population_Density + I(Dist_Settlement_KM^2) + I(Body_Mass^2) + (1|Country) + (1|Species) + (1|Study)\n",
      "\n",
      "49: local_extirpation ~ Body_Mass + Literacy_Rate + Dist_Settlement_KM + Travel_Time_Large + Protected_Area + Livestock_Biomass + Population_Density + Body_Mass*Dist_Settlement_KM + I(Dist_Settlement_KM^2) + (1|Country) + (1|Species) + (1|Study)\n",
      "\n",
      "50: local_extirpation ~ Body_Mass + Literacy_Rate + Dist_Settlement_KM + Travel_Time_Large + Livestock_Biomass + Population_Density + I(Dist_Settlement_KM^2) + I(Body_Mass^2) + (1|Country) + (1|Species) + (1|Study)\n",
      "\n",
      "51: local_extirpation ~ Body_Mass + Dist_Settlement_KM + Travel_Time_Large + Protected_Area + Livestock_Biomass + Population_Density + Percent_Settlement_50km + I(Dist_Settlement_KM^2) + (1|Country) + (1|Species) + (1|Study)\n",
      "\n",
      "52: local_extirpation ~ Body_Mass + Literacy_Rate + Dist_Settlement_KM + Travel_Time_Large + Livestock_Biomass + Population_Density + Percent_Settlement_50km + I(Dist_Settlement_KM^2) + (1|Country) + (1|Species) + (1|Study)\n",
      "\n",
      "53: local_extirpation ~ Body_Mass + Stunting_Pct + Literacy_Rate + Dist_Settlement_KM + Travel_Time_Large + Livestock_Biomass + Population_Density + I(Dist_Settlement_KM^2) + (1|Country) + (1|Species) + (1|Study)\n",
      "\n",
      "54: local_extirpation ~ Body_Mass + Literacy_Rate + Travel_Time_Large + Livestock_Biomass + Population_Density + Percent_Settlement_50km + I(Population_Density^2) + (1|Country) + (1|Species) + (1|Study)\n",
      "\n",
      "55: local_extirpation ~ Body_Mass + Stunting_Pct + Dist_Settlement_KM + Travel_Time_Large + Livestock_Biomass + Population_Density + I(Dist_Settlement_KM^2) + I(Stunting_Pct^2) + (1|Country) + (1|Species) + (1|Study)\n",
      "\n",
      "56: local_extirpation ~ Body_Mass + Literacy_Rate + Travel_Time_Large + Protected_Area + Livestock_Biomass + Population_Density + Percent_Settlement_50km + I(Population_Density^2) + (1|Country) + (1|Species) + (1|Study)\n",
      "\n",
      "57: local_extirpation ~ Body_Mass + Travel_Time_Large + Protected_Area + Livestock_Biomass + Population_Density + Percent_Settlement_50km + I(Body_Mass^2) + (1|Country) + (1|Species) + (1|Study)\n",
      "\n",
      "58: local_extirpation ~ Body_Mass + Stunting_Pct + Travel_Time_Large + Livestock_Biomass + Population_Density + Percent_Settlement_50km + I(Stunting_Pct^2) + (1|Country) + (1|Species) + (1|Study)\n",
      "\n",
      "59: local_extirpation ~ Body_Mass + Stunting_Pct + Dist_Settlement_KM + Travel_Time_Large + Protected_Area + Livestock_Biomass + Population_Density + Body_Mass*Dist_Settlement_KM + (1|Country) + (1|Species) + (1|Study)\n",
      "\n",
      "60: local_extirpation ~ Body_Mass + Travel_Time_Large + Livestock_Biomass + Population_Density + Percent_Settlement_50km + I(Body_Mass^2) + (1|Country) + (1|Species) + (1|Study)\n",
      "\n",
      "61: local_extirpation ~ Body_Mass + Dist_Settlement_KM + Travel_Time_Large + Protected_Area + Livestock_Biomass + Population_Density + I(Dist_Settlement_KM^2) + I(Population_Density^2) + (1|Country) + (1|Species) + (1|Study)\n",
      "\n",
      "62: local_extirpation ~ Body_Mass + Literacy_Rate + Travel_Time_Large + Livestock_Biomass + Population_Density + Percent_Settlement_50km + I(Body_Mass^2) + (1|Country) + (1|Species) + (1|Study)\n",
      "\n",
      "63: local_extirpation ~ Body_Mass + Stunting_Pct + Literacy_Rate + Travel_Time_Large + Livestock_Biomass + Population_Density + Percent_Settlement_50km + (1|Country) + (1|Species) + (1|Study)\n",
      "\n",
      "64: local_extirpation ~ Body_Mass + Literacy_Rate + Dist_Settlement_KM + Travel_Time_Large + Livestock_Biomass + Population_Density + I(Dist_Settlement_KM^2) + I(Population_Density^2) + (1|Country) + (1|Species) + (1|Study)\n",
      "\n",
      "65: local_extirpation ~ Body_Mass + Stunting_Pct + Literacy_Rate + Dist_Settlement_KM + Travel_Time_Large + Protected_Area + Livestock_Biomass + Population_Density + I(Stunting_Pct^2) + (1|Country) + (1|Species) + (1|Study)\n",
      "\n",
      "66: local_extirpation ~ Body_Mass + Stunting_Pct + Literacy_Rate + Travel_Time_Large + Protected_Area + Livestock_Biomass + Population_Density + Percent_Settlement_50km + (1|Country) + (1|Species) + (1|Study)\n",
      "\n",
      "67: local_extirpation ~ Body_Mass + Stunting_Pct + Dist_Settlement_KM + Travel_Time_Large + Livestock_Biomass + Population_Density + Body_Mass*Dist_Settlement_KM + (1|Country) + (1|Species) + (1|Study)\n",
      "\n",
      "68: local_extirpation ~ Body_Mass + Stunting_Pct + Dist_Settlement_KM + Travel_Time_Large + Protected_Area + Livestock_Biomass + Population_Density + Body_Mass*Dist_Settlement_KM + I(Stunting_Pct^2) + (1|Country) + (1|Species) + (1|Study)\n",
      "\n",
      "69: local_extirpation ~ Body_Mass + Literacy_Rate + Travel_Time_Large + Protected_Area + Livestock_Biomass + Population_Density + Percent_Settlement_50km + I(Body_Mass^2) + (1|Country) + (1|Species) + (1|Study)\n",
      "\n",
      "70: local_extirpation ~ Body_Mass + Stunting_Pct + Literacy_Rate + Dist_Settlement_KM + Travel_Time_Large + Protected_Area + Livestock_Biomass + Population_Density + I(Dist_Settlement_KM^2) + (1|Country) + (1|Species) + (1|Study)\n",
      "\n",
      "71: local_extirpation ~ Body_Mass + Literacy_Rate + Dist_Settlement_KM + Travel_Time_Large + Protected_Area + Livestock_Biomass + Population_Density + I(Dist_Settlement_KM^2) + I(Body_Mass^2) + (1|Country) + (1|Species) + (1|Study)\n",
      "\n",
      "72: local_extirpation ~ Body_Mass + Literacy_Rate + Dist_Settlement_KM + Travel_Time_Large + Protected_Area + Livestock_Biomass + Population_Density + Percent_Settlement_50km + I(Dist_Settlement_KM^2) + (1|Country) + (1|Species) + (1|Study)\n",
      "\n",
      "73: local_extirpation ~ Body_Mass + Stunting_Pct + Literacy_Rate + Dist_Settlement_KM + Travel_Time_Large + Livestock_Biomass + Population_Density + I(Stunting_Pct^2) + (1|Country) + (1|Species) + (1|Study)\n",
      "\n",
      "74: local_extirpation ~ Body_Mass + Dist_Settlement_KM + Travel_Time_Large + Protected_Area + Population_Density + (1|Country) + (1|Species) + (1|Study)\n",
      "\n",
      "75: local_extirpation ~ Body_Mass + Dist_Settlement_KM + Travel_Time_Large + Livestock_Biomass + Population_Density + Body_Mass*Dist_Settlement_KM + I(Population_Density^2) + (1|Country) + (1|Species) + (1|Study)\n",
      "\n",
      "76: local_extirpation ~ Body_Mass + Stunting_Pct + Dist_Settlement_KM + Travel_Time_Large + Protected_Area + Livestock_Biomass + Population_Density + I(Population_Density^2) + I(Stunting_Pct^2) + (1|Country) + (1|Species) + (1|Study)\n",
      "\n",
      "77: local_extirpation ~ Body_Mass + Stunting_Pct + Dist_Settlement_KM + Travel_Time_Large + Protected_Area + Livestock_Biomass + Population_Density + I(Body_Mass^2) + (1|Country) + (1|Species) + (1|Study)\n",
      "\n",
      "78: local_extirpation ~ Body_Mass + Stunting_Pct + Dist_Settlement_KM + Travel_Time_Large + Protected_Area + Livestock_Biomass + Population_Density + Percent_Settlement_50km + (1|Country) + (1|Species) + (1|Study)\n",
      "\n",
      "79: local_extirpation ~ Body_Mass + Stunting_Pct + Dist_Settlement_KM + Travel_Time_Large + Protected_Area + Livestock_Biomass + Population_Density + I(Population_Density^2) + (1|Country) + (1|Species) + (1|Study)\n",
      "\n",
      "80: local_extirpation ~ Body_Mass + Stunting_Pct + Dist_Settlement_KM + Travel_Time_Large + Livestock_Biomass + Population_Density + Body_Mass*Dist_Settlement_KM + I(Dist_Settlement_KM^2) + (1|Country) + (1|Species) + (1|Study)\n",
      "\n",
      "81: local_extirpation ~ Body_Mass + Stunting_Pct + Dist_Settlement_KM + Travel_Time_Large + Livestock_Biomass + Population_Density + Percent_Settlement_50km + (1|Country) + (1|Species) + (1|Study)\n",
      "\n",
      "82: local_extirpation ~ Body_Mass + Stunting_Pct + Dist_Settlement_KM + Travel_Time_Large + Livestock_Biomass + Population_Density + I(Body_Mass^2) + (1|Country) + (1|Species) + (1|Study)\n",
      "\n",
      "83: local_extirpation ~ Body_Mass + Dist_Settlement_KM + Travel_Time_Large + Protected_Area + Population_Density + I(Dist_Settlement_KM^2) + (1|Country) + (1|Species) + (1|Study)\n",
      "\n",
      "84: local_extirpation ~ Body_Mass + Dist_Settlement_KM + Travel_Time_Large + Livestock_Biomass + Population_Density + Body_Mass*Dist_Settlement_KM + I(Body_Mass^2) + (1|Country) + (1|Species) + (1|Study)\n",
      "\n",
      "85: local_extirpation ~ Body_Mass + Stunting_Pct + Dist_Settlement_KM + Travel_Time_Large + Protected_Area + Livestock_Biomass + Population_Density + Body_Mass*Dist_Settlement_KM + I(Dist_Settlement_KM^2) + (1|Country) + (1|Species) + (1|Study)\n",
      "\n",
      "86: local_extirpation ~ Body_Mass + Dist_Settlement_KM + Travel_Time_Large + Livestock_Biomass + Population_Density + Percent_Settlement_50km + Body_Mass*Dist_Settlement_KM + (1|Country) + (1|Species) + (1|Study)\n",
      "\n",
      "87: local_extirpation ~ Body_Mass + Literacy_Rate + Dist_Settlement_KM + Travel_Time_Large + Protected_Area + Livestock_Biomass + Population_Density + I(Dist_Settlement_KM^2) + I(Population_Density^2) + (1|Country) + (1|Species) + (1|Study)\n",
      "\n",
      "88: local_extirpation ~ Body_Mass + Dist_Settlement_KM + Travel_Time_Large + Protected_Area + Livestock_Biomass + Population_Density + Body_Mass*Dist_Settlement_KM + I(Body_Mass^2) + (1|Country) + (1|Species) + (1|Study)\n",
      "\n",
      "89: local_extirpation ~ Body_Mass + Stunting_Pct + Literacy_Rate + Travel_Time_Large + Protected_Area + Livestock_Biomass + Population_Density + Percent_Settlement_50km + I(Stunting_Pct^2) + (1|Country) + (1|Species) + (1|Study)\n",
      "\n",
      "90: local_extirpation ~ Body_Mass + Stunting_Pct + Dist_Settlement_KM + Travel_Time_Large + Protected_Area + Livestock_Biomass + Population_Density + I(Body_Mass^2) + I(Stunting_Pct^2) + (1|Country) + (1|Species) + (1|Study)\n",
      "\n",
      "91: local_extirpation ~ Body_Mass + Dist_Settlement_KM + Travel_Time_Large + Livestock_Biomass + Population_Density + Body_Mass*Dist_Settlement_KM + I(Dist_Settlement_KM^2) + I(Population_Density^2) + (1|Country) + (1|Species) + (1|Study)\n",
      "\n",
      "92: local_extirpation ~ Body_Mass + Stunting_Pct + Dist_Settlement_KM + Travel_Time_Large + Livestock_Biomass + Population_Density + Body_Mass*Dist_Settlement_KM + I(Stunting_Pct^2) + (1|Country) + (1|Species) + (1|Study)\n",
      "\n",
      "93: local_extirpation ~ Body_Mass + Stunting_Pct + Dist_Settlement_KM + Travel_Time_Large + Protected_Area + Livestock_Biomass + Population_Density + Percent_Settlement_50km + I(Stunting_Pct^2) + (1|Country) + (1|Species) + (1|Study)\n",
      "\n",
      "94: local_extirpation ~ Body_Mass + Dist_Settlement_KM + Travel_Time_Large + Protected_Area + Livestock_Biomass + Population_Density + Percent_Settlement_50km + Body_Mass*Dist_Settlement_KM + (1|Country) + (1|Species) + (1|Study)\n",
      "\n",
      "95: local_extirpation ~ Body_Mass + Dist_Settlement_KM + Travel_Time_Large + Livestock_Biomass + Population_Density + Body_Mass*Dist_Settlement_KM + I(Dist_Settlement_KM^2) + I(Body_Mass^2) + (1|Country) + (1|Species) + (1|Study)\n",
      "\n",
      "96: local_extirpation ~ Body_Mass + Dist_Settlement_KM + Travel_Time_Large + Protected_Area + Livestock_Biomass + Population_Density + Body_Mass*Dist_Settlement_KM + I(Population_Density^2) + (1|Country) + (1|Species) + (1|Study)\n",
      "\n",
      "97: local_extirpation ~ Body_Mass + Literacy_Rate + Dist_Settlement_KM + Travel_Time_Large + Livestock_Biomass + Population_Density + Body_Mass*Dist_Settlement_KM + I(Body_Mass^2) + (1|Country) + (1|Species) + (1|Study)\n",
      "\n",
      "98: local_extirpation ~ Body_Mass + Literacy_Rate + Dist_Settlement_KM + Travel_Time_Large + Protected_Area + Livestock_Biomass + Population_Density + Body_Mass*Dist_Settlement_KM + I(Population_Density^2) + (1|Country) + (1|Species) + (1|Study)\n",
      "\n",
      "99: local_extirpation ~ Body_Mass + Literacy_Rate + Dist_Settlement_KM + Travel_Time_Large + Livestock_Biomass + Population_Density + Percent_Settlement_50km + Body_Mass*Dist_Settlement_KM + (1|Country) + (1|Species) + (1|Study)\n"
     ]
    }
   ],
   "source": [
    "# Taking a look through the top 100 formula\n",
    "print('\\n\\n'.join([f'{k}: {i}' for k, i in enumerate(zero_results_df.iloc[0 : 100]['formula'].to_list()) if '' in i]))"
   ]
  },
  {
   "cell_type": "code",
   "execution_count": 16,
   "id": "78f8cd64-5c58-484b-86ce-f1e2e7cef6ea",
   "metadata": {},
   "outputs": [
    {
     "data": {
      "text/html": [
       "<div>\n",
       "<style scoped>\n",
       "    .dataframe tbody tr th:only-of-type {\n",
       "        vertical-align: middle;\n",
       "    }\n",
       "\n",
       "    .dataframe tbody tr th {\n",
       "        vertical-align: top;\n",
       "    }\n",
       "\n",
       "    .dataframe thead th {\n",
       "        text-align: right;\n",
       "    }\n",
       "</style>\n",
       "<table border=\"1\" class=\"dataframe\">\n",
       "  <thead>\n",
       "    <tr style=\"text-align: right;\">\n",
       "      <th></th>\n",
       "      <th>formula</th>\n",
       "      <th>aic</th>\n",
       "      <th>bic</th>\n",
       "      <th>log_likelihood</th>\n",
       "    </tr>\n",
       "  </thead>\n",
       "  <tbody>\n",
       "    <tr>\n",
       "      <th>36</th>\n",
       "      <td>RR ~ Body_Mass + Literacy_Rate + Dist_Settleme...</td>\n",
       "      <td>6997.489296</td>\n",
       "      <td>7056.816506</td>\n",
       "      <td>-3488.744648</td>\n",
       "    </tr>\n",
       "    <tr>\n",
       "      <th>44</th>\n",
       "      <td>RR ~ Body_Mass + Literacy_Rate + Travel_Time_L...</td>\n",
       "      <td>6998.575305</td>\n",
       "      <td>7057.902515</td>\n",
       "      <td>-3489.287653</td>\n",
       "    </tr>\n",
       "    <tr>\n",
       "      <th>6</th>\n",
       "      <td>RR ~ Body_Mass + Dist_Settlement_KM + Travel_T...</td>\n",
       "      <td>7004.701989</td>\n",
       "      <td>7058.096478</td>\n",
       "      <td>-3493.350994</td>\n",
       "    </tr>\n",
       "    <tr>\n",
       "      <th>2</th>\n",
       "      <td>RR ~ Body_Mass + Stunting_Pct + Dist_Settlemen...</td>\n",
       "      <td>7005.103869</td>\n",
       "      <td>7058.498358</td>\n",
       "      <td>-3493.551934</td>\n",
       "    </tr>\n",
       "    <tr>\n",
       "      <th>14</th>\n",
       "      <td>RR ~ Body_Mass + Travel_Time_Large + Populatio...</td>\n",
       "      <td>7005.920990</td>\n",
       "      <td>7059.315479</td>\n",
       "      <td>-3493.960495</td>\n",
       "    </tr>\n",
       "  </tbody>\n",
       "</table>\n",
       "</div>"
      ],
      "text/plain": [
       "                                              formula          aic  \\\n",
       "36  RR ~ Body_Mass + Literacy_Rate + Dist_Settleme...  6997.489296   \n",
       "44  RR ~ Body_Mass + Literacy_Rate + Travel_Time_L...  6998.575305   \n",
       "6   RR ~ Body_Mass + Dist_Settlement_KM + Travel_T...  7004.701989   \n",
       "2   RR ~ Body_Mass + Stunting_Pct + Dist_Settlemen...  7005.103869   \n",
       "14  RR ~ Body_Mass + Travel_Time_Large + Populatio...  7005.920990   \n",
       "\n",
       "            bic  log_likelihood  \n",
       "36  7056.816506    -3488.744648  \n",
       "44  7057.902515    -3489.287653  \n",
       "6   7058.096478    -3493.350994  \n",
       "2   7058.498358    -3493.551934  \n",
       "14  7059.315479    -3493.960495  "
      ]
     },
     "execution_count": 16,
     "metadata": {},
     "output_type": "execute_result"
    }
   ],
   "source": [
    "# Nonzero results\n",
    "nonzero_results_df.head(5)"
   ]
  },
  {
   "cell_type": "code",
   "execution_count": 32,
   "id": "a57b7f83-3b5a-4fc6-9a1f-914b331b870c",
   "metadata": {},
   "outputs": [
    {
     "data": {
      "text/plain": [
       "'RR ~ Body_Mass + Literacy_Rate + Dist_Settlement_KM + Travel_Time_Large + Population_Density + (1|Country) + (1|Species) + (1|Study)'"
      ]
     },
     "execution_count": 32,
     "metadata": {},
     "output_type": "execute_result"
    }
   ],
   "source": [
    "# Best formula\n",
    "nonzero_results_df.iloc[0]['formula']"
   ]
  },
  {
   "cell_type": "code",
   "execution_count": 33,
   "id": "e8bbe513-ee7a-4fa1-9394-467d44cc2f3d",
   "metadata": {
    "scrolled": true
   },
   "outputs": [
    {
     "name": "stdout",
     "output_type": "stream",
     "text": [
      "0: RR ~ Body_Mass + Literacy_Rate + Dist_Settlement_KM + Travel_Time_Large + Population_Density + (1|Country) + (1|Species) + (1|Study)\n",
      "\n",
      "1: RR ~ Body_Mass + Literacy_Rate + Travel_Time_Large + Population_Density + Percent_Settlement_50km + (1|Country) + (1|Species) + (1|Study)\n",
      "\n",
      "2: RR ~ Body_Mass + Dist_Settlement_KM + Travel_Time_Large + Population_Density + (1|Country) + (1|Species) + (1|Study)\n",
      "\n",
      "3: RR ~ Body_Mass + Stunting_Pct + Dist_Settlement_KM + Population_Density + (1|Country) + (1|Species) + (1|Study)\n",
      "\n",
      "4: RR ~ Body_Mass + Travel_Time_Large + Population_Density + Percent_Settlement_50km + (1|Country) + (1|Species) + (1|Study)\n",
      "\n",
      "5: RR ~ Body_Mass + Stunting_Pct + Dist_Settlement_KM + Travel_Time_Large + Population_Density + (1|Country) + (1|Species) + (1|Study)\n",
      "\n",
      "6: RR ~ Body_Mass + Stunting_Pct + Dist_Settlement_KM + Population_Density + Percent_Settlement_50km + (1|Country) + (1|Species) + (1|Study)\n",
      "\n",
      "7: RR ~ Body_Mass + Literacy_Rate + Dist_Settlement_KM + Population_Density + Percent_Settlement_50km + (1|Country) + (1|Species) + (1|Study)\n",
      "\n",
      "8: RR ~ Body_Mass + Dist_Settlement_KM + Population_Density + (1|Country) + (1|Species) + (1|Study)\n",
      "\n",
      "9: RR ~ Body_Mass + Literacy_Rate + Dist_Settlement_KM + Population_Density + (1|Country) + (1|Species) + (1|Study)\n",
      "\n",
      "10: RR ~ Body_Mass + Dist_Settlement_KM + Population_Density + Percent_Settlement_50km + (1|Country) + (1|Species) + (1|Study)\n",
      "\n",
      "11: RR ~ Body_Mass + Literacy_Rate + Population_Density + Percent_Settlement_50km + (1|Country) + (1|Species) + (1|Study)\n",
      "\n",
      "12: RR ~ Body_Mass + Stunting_Pct + Population_Density + Percent_Settlement_50km + (1|Country) + (1|Species) + (1|Study)\n",
      "\n",
      "13: RR ~ Body_Mass + Literacy_Rate + Dist_Settlement_KM + Travel_Time_Large + Livestock_Biomass + Population_Density + (1|Country) + (1|Species) + (1|Study)\n",
      "\n",
      "14: RR ~ Body_Mass + Stunting_Pct + Travel_Time_Large + Population_Density + Percent_Settlement_50km + (1|Country) + (1|Species) + (1|Study)\n",
      "\n",
      "15: RR ~ Body_Mass + Population_Density + Percent_Settlement_50km + (1|Country) + (1|Species) + (1|Study)\n",
      "\n",
      "16: RR ~ Body_Mass + Literacy_Rate + Dist_Settlement_KM + Travel_Time_Large + Population_Density + Percent_Settlement_50km + (1|Country) + (1|Species) + (1|Study)\n",
      "\n",
      "17: RR ~ Body_Mass + Literacy_Rate + Travel_Time_Large + Livestock_Biomass + Population_Density + Percent_Settlement_50km + (1|Country) + (1|Species) + (1|Study)\n",
      "\n",
      "18: RR ~ Body_Mass + Literacy_Rate + Dist_Settlement_KM + Travel_Time_Large + Population_Density + I(Body_Mass^2) + (1|Country) + (1|Species) + (1|Study)\n",
      "\n",
      "19: RR ~ Body_Mass + Stunting_Pct + Dist_Settlement_KM + Population_Density + I(Population_Density^2) + (1|Country) + (1|Species) + (1|Study)\n",
      "\n",
      "20: RR ~ Body_Mass + Literacy_Rate + Dist_Settlement_KM + Travel_Time_Large + Population_Density + I(Dist_Settlement_KM^2) + (1|Country) + (1|Species) + (1|Study)\n",
      "\n",
      "21: RR ~ Body_Mass + Stunting_Pct + Dist_Settlement_KM + Population_Density + I(Dist_Settlement_KM^2) + (1|Country) + (1|Species) + (1|Study)\n",
      "\n",
      "22: RR ~ Body_Mass + Dist_Settlement_KM + Travel_Time_Large + Livestock_Biomass + Population_Density + (1|Country) + (1|Species) + (1|Study)\n",
      "\n",
      "23: RR ~ Body_Mass + Stunting_Pct + Literacy_Rate + Dist_Settlement_KM + Travel_Time_Large + Population_Density + (1|Country) + (1|Species) + (1|Study)\n",
      "\n",
      "24: RR ~ Body_Mass + Literacy_Rate + Dist_Settlement_KM + Travel_Time_Large + Protected_Area + Population_Density + (1|Country) + (1|Species) + (1|Study)\n",
      "\n",
      "25: RR ~ Body_Mass + Literacy_Rate + Dist_Settlement_KM + Population_Density + Percent_Settlement_50km + I(Dist_Settlement_KM^2) + (1|Country) + (1|Species) + (1|Study)\n",
      "\n",
      "26: RR ~ Body_Mass + Dist_Settlement_KM + Travel_Time_Large + Population_Density + I(Dist_Settlement_KM^2) + (1|Country) + (1|Species) + (1|Study)\n",
      "\n",
      "27: RR ~ Body_Mass + Dist_Settlement_KM + Population_Density + I(Dist_Settlement_KM^2) + (1|Country) + (1|Species) + (1|Study)\n",
      "\n",
      "28: RR ~ Body_Mass + Dist_Settlement_KM + Population_Density + Percent_Settlement_50km + I(Dist_Settlement_KM^2) + (1|Country) + (1|Species) + (1|Study)\n",
      "\n",
      "29: RR ~ Body_Mass + Literacy_Rate + Dist_Settlement_KM + Travel_Time_Large + Population_Density + I(Population_Density^2) + (1|Country) + (1|Species) + (1|Study)\n",
      "\n",
      "30: RR ~ Body_Mass + Literacy_Rate + Travel_Time_Large + Population_Density + Percent_Settlement_50km + I(Body_Mass^2) + (1|Country) + (1|Species) + (1|Study)\n",
      "\n",
      "31: RR ~ Body_Mass + Literacy_Rate + Travel_Time_Large + Protected_Area + Population_Density + Percent_Settlement_50km + (1|Country) + (1|Species) + (1|Study)\n",
      "\n",
      "32: RR ~ Body_Mass + Travel_Time_Large + Livestock_Biomass + Population_Density + Percent_Settlement_50km + (1|Country) + (1|Species) + (1|Study)\n",
      "\n",
      "33: RR ~ Body_Mass + Stunting_Pct + Literacy_Rate + Dist_Settlement_KM + Population_Density + (1|Country) + (1|Species) + (1|Study)\n",
      "\n",
      "34: RR ~ Body_Mass + Stunting_Pct + Literacy_Rate + Dist_Settlement_KM + Population_Density + Percent_Settlement_50km + (1|Country) + (1|Species) + (1|Study)\n",
      "\n",
      "35: RR ~ Body_Mass + Dist_Settlement_KM + Travel_Time_Large + Population_Density + Percent_Settlement_50km + (1|Country) + (1|Species) + (1|Study)\n",
      "\n",
      "36: RR ~ Body_Mass + Dist_Settlement_KM + Travel_Time_Large + Population_Density + I(Body_Mass^2) + (1|Country) + (1|Species) + (1|Study)\n",
      "\n",
      "37: RR ~ Body_Mass + Stunting_Pct + Dist_Settlement_KM + Population_Density + Percent_Settlement_50km + I(Dist_Settlement_KM^2) + (1|Country) + (1|Species) + (1|Study)\n",
      "\n",
      "38: RR ~ Body_Mass + Dist_Settlement_KM + Travel_Time_Large + Protected_Area + Population_Density + (1|Country) + (1|Species) + (1|Study)\n",
      "\n",
      "39: RR ~ Body_Mass + Stunting_Pct + Dist_Settlement_KM + Livestock_Biomass + Population_Density + (1|Country) + (1|Species) + (1|Study)\n",
      "\n",
      "40: RR ~ Body_Mass + Stunting_Pct + Dist_Settlement_KM + Protected_Area + Population_Density + (1|Country) + (1|Species) + (1|Study)\n",
      "\n",
      "41: RR ~ Body_Mass + Stunting_Pct + Dist_Settlement_KM + Population_Density + I(Body_Mass^2) + (1|Country) + (1|Species) + (1|Study)\n",
      "\n",
      "42: RR ~ Body_Mass + Literacy_Rate + Dist_Settlement_KM + Population_Density + I(Dist_Settlement_KM^2) + (1|Country) + (1|Species) + (1|Study)\n",
      "\n",
      "43: RR ~ Body_Mass + Literacy_Rate + Dist_Settlement_KM + Population_Density + I(Population_Density^2) + (1|Country) + (1|Species) + (1|Study)\n",
      "\n",
      "44: RR ~ Body_Mass + Literacy_Rate + Dist_Settlement_KM + Travel_Time_Large + Population_Density + Body_Mass*Dist_Settlement_KM + (1|Country) + (1|Species) + (1|Study)\n",
      "\n",
      "45: RR ~ Body_Mass + Stunting_Pct + Literacy_Rate + Travel_Time_Large + Population_Density + Percent_Settlement_50km + (1|Country) + (1|Species) + (1|Study)\n",
      "\n",
      "46: RR ~ Body_Mass + Stunting_Pct + Dist_Settlement_KM + Travel_Time_Large + Livestock_Biomass + Population_Density + (1|Country) + (1|Species) + (1|Study)\n",
      "\n",
      "47: RR ~ Body_Mass + Stunting_Pct + Dist_Settlement_KM + Protected_Area + Population_Density + Percent_Settlement_50km + (1|Country) + (1|Species) + (1|Study)\n",
      "\n",
      "48: RR ~ Body_Mass + Travel_Time_Large + Protected_Area + Population_Density + Percent_Settlement_50km + (1|Country) + (1|Species) + (1|Study)\n",
      "\n",
      "49: RR ~ Body_Mass + Literacy_Rate + Travel_Time_Large + Population_Density + Percent_Settlement_50km + I(Population_Density^2) + (1|Country) + (1|Species) + (1|Study)\n",
      "\n",
      "50: RR ~ Body_Mass + Stunting_Pct + Dist_Settlement_KM + Travel_Time_Large + Population_Density + Percent_Settlement_50km + (1|Country) + (1|Species) + (1|Study)\n",
      "\n",
      "51: RR ~ Body_Mass + Stunting_Pct + Dist_Settlement_KM + Travel_Time_Large + Protected_Area + Population_Density + (1|Country) + (1|Species) + (1|Study)\n",
      "\n",
      "52: RR ~ Body_Mass + Literacy_Rate + Dist_Settlement_KM + Livestock_Biomass + Population_Density + Percent_Settlement_50km + (1|Country) + (1|Species) + (1|Study)\n",
      "\n",
      "53: RR ~ Body_Mass + Dist_Settlement_KM + Travel_Time_Large + Population_Density + I(Population_Density^2) + (1|Country) + (1|Species) + (1|Study)\n",
      "\n",
      "54: RR ~ Body_Mass + Travel_Time_Large + Population_Density + Percent_Settlement_50km + I(Body_Mass^2) + (1|Country) + (1|Species) + (1|Study)\n",
      "\n",
      "55: RR ~ Body_Mass + Stunting_Pct + Dist_Settlement_KM + Livestock_Biomass + Population_Density + Percent_Settlement_50km + (1|Country) + (1|Species) + (1|Study)\n",
      "\n",
      "56: RR ~ Body_Mass + Literacy_Rate + Dist_Settlement_KM + Population_Density + Percent_Settlement_50km + I(Body_Mass^2) + (1|Country) + (1|Species) + (1|Study)\n",
      "\n",
      "57: RR ~ Body_Mass + Stunting_Pct + Dist_Settlement_KM + Travel_Time_Large + Population_Density + I(Body_Mass^2) + (1|Country) + (1|Species) + (1|Study)\n",
      "\n",
      "58: RR ~ Body_Mass + Stunting_Pct + Dist_Settlement_KM + Population_Density + Percent_Settlement_50km + I(Body_Mass^2) + (1|Country) + (1|Species) + (1|Study)\n",
      "\n",
      "59: RR ~ Body_Mass + Dist_Settlement_KM + Population_Density + I(Population_Density^2) + (1|Country) + (1|Species) + (1|Study)\n",
      "\n",
      "60: RR ~ Body_Mass + Stunting_Pct + Dist_Settlement_KM + Travel_Time_Large + Population_Density + I(Dist_Settlement_KM^2) + (1|Country) + (1|Species) + (1|Study)\n",
      "\n",
      "61: RR ~ Body_Mass + Literacy_Rate + Dist_Settlement_KM + Protected_Area + Population_Density + Percent_Settlement_50km + (1|Country) + (1|Species) + (1|Study)\n",
      "\n",
      "62: RR ~ Body_Mass + Dist_Settlement_KM + Travel_Time_Large + Population_Density + Body_Mass*Dist_Settlement_KM + (1|Country) + (1|Species) + (1|Study)\n",
      "\n",
      "63: RR ~ Body_Mass + Stunting_Pct + Protected_Area + Population_Density + Percent_Settlement_50km + (1|Country) + (1|Species) + (1|Study)\n",
      "\n",
      "64: RR ~ Body_Mass + Stunting_Pct + Literacy_Rate + Population_Density + Percent_Settlement_50km + (1|Country) + (1|Species) + (1|Study)\n",
      "\n",
      "65: RR ~ Body_Mass + Stunting_Pct + Dist_Settlement_KM + Travel_Time_Large + Population_Density + I(Population_Density^2) + (1|Country) + (1|Species) + (1|Study)\n",
      "\n",
      "66: RR ~ Body_Mass + Stunting_Pct + Dist_Settlement_KM + Population_Density + I(Stunting_Pct^2) + (1|Country) + (1|Species) + (1|Study)\n",
      "\n",
      "67: RR ~ Body_Mass + Stunting_Pct + Dist_Settlement_KM + Population_Density + Body_Mass*Dist_Settlement_KM + (1|Country) + (1|Species) + (1|Study)\n",
      "\n",
      "68: RR ~ Body_Mass + Stunting_Pct + Population_Density + Percent_Settlement_50km + I(Population_Density^2) + (1|Country) + (1|Species) + (1|Study)\n",
      "\n",
      "69: RR ~ Body_Mass + Literacy_Rate + Livestock_Biomass + Population_Density + Percent_Settlement_50km + (1|Country) + (1|Species) + (1|Study)\n",
      "\n",
      "70: RR ~ Body_Mass + Dist_Settlement_KM + Livestock_Biomass + Population_Density + (1|Country) + (1|Species) + (1|Study)\n",
      "\n",
      "71: RR ~ Body_Mass + Stunting_Pct + Dist_Settlement_KM + Population_Density + Percent_Settlement_50km + I(Population_Density^2) + (1|Country) + (1|Species) + (1|Study)\n",
      "\n",
      "72: RR ~ Body_Mass + Literacy_Rate + Dist_Settlement_KM + Livestock_Biomass + Population_Density + (1|Country) + (1|Species) + (1|Study)\n",
      "\n",
      "73: RR ~ Body_Mass + Literacy_Rate + Population_Density + Percent_Settlement_50km + I(Population_Density^2) + (1|Country) + (1|Species) + (1|Study)\n",
      "\n",
      "74: RR ~ Body_Mass + Stunting_Pct + Travel_Time_Large + Livestock_Biomass + Population_Density + Percent_Settlement_50km + (1|Country) + (1|Species) + (1|Study)\n",
      "\n",
      "75: RR ~ Body_Mass + Literacy_Rate + Dist_Settlement_KM + Population_Density + I(Body_Mass^2) + (1|Country) + (1|Species) + (1|Study)\n",
      "\n",
      "76: RR ~ Body_Mass + Travel_Time_Large + Population_Density + Percent_Settlement_50km + I(Population_Density^2) + (1|Country) + (1|Species) + (1|Study)\n",
      "\n",
      "77: RR ~ Body_Mass + Dist_Settlement_KM + Livestock_Biomass + Population_Density + Percent_Settlement_50km + (1|Country) + (1|Species) + (1|Study)\n",
      "\n",
      "78: RR ~ Body_Mass + Literacy_Rate + Dist_Settlement_KM + Travel_Time_Large + Livestock_Biomass + Population_Density + I(Body_Mass^2) + (1|Country) + (1|Species) + (1|Study)\n",
      "\n",
      "79: RR ~ Body_Mass + Stunting_Pct + Livestock_Biomass + Population_Density + Percent_Settlement_50km + (1|Country) + (1|Species) + (1|Study)\n",
      "\n",
      "80: RR ~ Body_Mass + Stunting_Pct + Travel_Time_Large + Protected_Area + Population_Density + Percent_Settlement_50km + (1|Country) + (1|Species) + (1|Study)\n",
      "\n",
      "81: RR ~ Body_Mass + Literacy_Rate + Dist_Settlement_KM + Population_Density + Percent_Settlement_50km + I(Population_Density^2) + (1|Country) + (1|Species) + (1|Study)\n",
      "\n",
      "82: RR ~ Body_Mass + Literacy_Rate + Dist_Settlement_KM + Travel_Time_Large + Livestock_Biomass + Population_Density + Percent_Settlement_50km + (1|Country) + (1|Species) + (1|Study)\n",
      "\n",
      "83: RR ~ Body_Mass + Literacy_Rate + Protected_Area + Population_Density + Percent_Settlement_50km + (1|Country) + (1|Species) + (1|Study)\n",
      "\n",
      "84: RR ~ Body_Mass + Dist_Settlement_KM + Protected_Area + Population_Density + Percent_Settlement_50km + (1|Country) + (1|Species) + (1|Study)\n",
      "\n",
      "85: RR ~ Body_Mass + Dist_Settlement_KM + Population_Density + I(Body_Mass^2) + (1|Country) + (1|Species) + (1|Study)\n",
      "\n",
      "86: RR ~ Body_Mass + Protected_Area + Population_Density + Percent_Settlement_50km + (1|Country) + (1|Species) + (1|Study)\n",
      "\n",
      "87: RR ~ Body_Mass + Dist_Settlement_KM + Population_Density + Percent_Settlement_50km + I(Body_Mass^2) + (1|Country) + (1|Species) + (1|Study)\n",
      "\n",
      "88: RR ~ Body_Mass + Stunting_Pct + Literacy_Rate + Dist_Settlement_KM + Population_Density + I(Population_Density^2) + (1|Country) + (1|Species) + (1|Study)\n",
      "\n",
      "89: RR ~ Body_Mass + Livestock_Biomass + Population_Density + Percent_Settlement_50km + (1|Country) + (1|Species) + (1|Study)\n",
      "\n",
      "90: RR ~ Body_Mass + Literacy_Rate + Population_Density + Percent_Settlement_50km + I(Body_Mass^2) + (1|Country) + (1|Species) + (1|Study)\n",
      "\n",
      "91: RR ~ Body_Mass + Dist_Settlement_KM + Protected_Area + Population_Density + (1|Country) + (1|Species) + (1|Study)\n",
      "\n",
      "92: RR ~ Body_Mass + Literacy_Rate + Dist_Settlement_KM + Travel_Time_Large + Livestock_Biomass + Population_Density + I(Dist_Settlement_KM^2) + (1|Country) + (1|Species) + (1|Study)\n",
      "\n",
      "93: RR ~ Body_Mass + Literacy_Rate + Dist_Settlement_KM + Travel_Time_Large + Population_Density + Percent_Settlement_50km + I(Dist_Settlement_KM^2) + (1|Country) + (1|Species) + (1|Study)\n",
      "\n",
      "94: RR ~ Body_Mass + Stunting_Pct + Population_Density + Percent_Settlement_50km + I(Body_Mass^2) + (1|Country) + (1|Species) + (1|Study)\n",
      "\n",
      "95: RR ~ Body_Mass + Stunting_Pct + Dist_Settlement_KM + Travel_Time_Large + Population_Density + I(Stunting_Pct^2) + (1|Country) + (1|Species) + (1|Study)\n",
      "\n",
      "96: RR ~ Body_Mass + Stunting_Pct + Dist_Settlement_KM + Travel_Time_Large + Population_Density + Body_Mass*Dist_Settlement_KM + (1|Country) + (1|Species) + (1|Study)\n",
      "\n",
      "97: RR ~ Body_Mass + Stunting_Pct + Dist_Settlement_KM + Population_Density + Percent_Settlement_50km + I(Stunting_Pct^2) + (1|Country) + (1|Species) + (1|Study)\n",
      "\n",
      "98: RR ~ Body_Mass + Stunting_Pct + Dist_Settlement_KM + Population_Density + Percent_Settlement_50km + Body_Mass*Dist_Settlement_KM + (1|Country) + (1|Species) + (1|Study)\n",
      "\n",
      "99: RR ~ Body_Mass + Literacy_Rate + Travel_Time_Large + Livestock_Biomass + Population_Density + Percent_Settlement_50km + I(Body_Mass^2) + (1|Country) + (1|Species) + (1|Study)\n"
     ]
    }
   ],
   "source": [
    "# Taking a look through the top 100 formula\n",
    "print('\\n\\n'.join([f'{k}: {i}' for k, i in enumerate(nonzero_results_df.iloc[0 : 100]['formula'].to_list()) if '' in i]))"
   ]
  },
  {
   "cell_type": "code",
   "execution_count": null,
   "id": "8ec675f3-1ac9-4d55-830c-ac3cd262081d",
   "metadata": {},
   "outputs": [],
   "source": []
  }
 ],
 "metadata": {
  "kernelspec": {
   "display_name": "Python 3 (ipykernel)",
   "language": "python",
   "name": "python3"
  },
  "language_info": {
   "codemirror_mode": {
    "name": "ipython",
    "version": 3
   },
   "file_extension": ".py",
   "mimetype": "text/x-python",
   "name": "python",
   "nbconvert_exporter": "python",
   "pygments_lexer": "ipython3",
   "version": "3.12.2"
  }
 },
 "nbformat": 4,
 "nbformat_minor": 5
}
