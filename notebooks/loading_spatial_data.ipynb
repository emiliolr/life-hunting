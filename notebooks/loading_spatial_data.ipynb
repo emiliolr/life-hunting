{
 "cells": [
  {
   "cell_type": "markdown",
   "id": "777dd389-5216-4473-835c-56a0d1fb9c20",
   "metadata": {},
   "source": [
    "**TODO:**\n",
    "- [x] Plot the below on a custom categorical colormap to match the CIESIN visualization\n",
    "- [x] Figure out projection stuff so we can display countries + coastlines on map (maybe use [earthpy](https://earthpy.readthedocs.io/en/latest/api/earthpy.plot.html)?)\n",
    "- [x] Figure out how to programatically extract the relevant pixel value given a study lat/lon"
   ]
  },
  {
   "cell_type": "markdown",
   "id": "00c001e6-79b5-4e57-a233-0005498e7783",
   "metadata": {},
   "source": [
    "# Setup"
   ]
  },
  {
   "cell_type": "code",
   "execution_count": 1,
   "id": "044a8ca8-b1a4-429c-a5d9-d61738b54d7e",
   "metadata": {},
   "outputs": [],
   "source": [
    "import json\n",
    "import os\n",
    "\n",
    "import rasterio\n",
    "from rasterio.enums import Resampling\n",
    "\n",
    "import cartopy\n",
    "import cartopy.crs as ccrs\n",
    "import matplotlib.pyplot as plt\n",
    "import matplotlib.colors as mcolors\n",
    "\n",
    "import numpy as np"
   ]
  },
  {
   "cell_type": "markdown",
   "id": "716937cb-d53d-49c7-a000-3740202e142d",
   "metadata": {},
   "source": [
    "# Loading population density raster"
   ]
  },
  {
   "cell_type": "code",
   "execution_count": 2,
   "id": "99a0a581-ff2a-4912-b1a5-fda988eb1a5b",
   "metadata": {},
   "outputs": [],
   "source": [
    "# Loading in general configuration\n",
    "with open('../config.json', 'r') as f:\n",
    "    config = json.load(f)\n",
    "\n",
    "# Getting filepaths\n",
    "gdrive_fp = config['gdrive_path']\n",
    "LIFE_fp = config['LIFE_folder']\n",
    "dataset_fp = config['datasets_path']\n",
    "\n",
    "# Grabbing \n",
    "year = 2000\n",
    "pop_dens_paths = config['indiv_data_paths']['human_pop_density']\n",
    "human_pop_dens2000 = os.path.join(pop_dens_paths['base_path'], pop_dens_paths['data_path'].format(year, year))\n",
    "\n",
    "data_path = os.path.join(gdrive_fp, LIFE_fp, dataset_fp, human_pop_dens2000)"
   ]
  },
  {
   "cell_type": "code",
   "execution_count": 3,
   "id": "e4f585fb-8eb1-47f2-b34b-04d1c838fea8",
   "metadata": {},
   "outputs": [],
   "source": [
    "# Resampling the array for visualization: https://rasterio.readthedocs.io/en/stable/topics/resampling.html\n",
    "#  - probably better practice to download pre-prepared lower resolution versions from NASA, but this works for now!\n",
    "upscale_factor = 1 / 20\n",
    "\n",
    "with rasterio.open(data_path) as dataset:\n",
    "\n",
    "    # resample data to target shape\n",
    "    data = dataset.read(\n",
    "        out_shape = (\n",
    "            dataset.count,\n",
    "            int(dataset.height * upscale_factor),\n",
    "            int(dataset.width * upscale_factor)\n",
    "        ),\n",
    "        resampling = Resampling.average # seems the most reasonable resampling methods, since we're dealing with densities\n",
    "    )\n",
    "\n",
    "    # scale image transform\n",
    "    transform = dataset.transform * dataset.transform.scale(\n",
    "        (dataset.width / data.shape[-1]),\n",
    "        (dataset.height / data.shape[-2])\n",
    "    )\n",
    "\n",
    "data[data < 0] = np.nan # turning the fill value into NaN"
   ]
  },
  {
   "cell_type": "markdown",
   "id": "74382970-013f-4ca9-a08b-ee4109e0d672",
   "metadata": {},
   "source": [
    "# Plotting data"
   ]
  },
  {
   "cell_type": "code",
   "execution_count": null,
   "id": "f59a1fee-0e99-4e8f-bab6-0bcbf6033960",
   "metadata": {},
   "outputs": [],
   "source": [
    "# Below code for color-mapping is from: https://stackoverflow.com/questions/61897393/unevenly-irregularly-spaced-data-for-colorbar-with-evenly-spaced-colors\n",
    "uneven_levels = [0, 1, 5, 25, 250, 1000, 60000] # to match the SEDAC plot\n",
    "cmap = plt.get_cmap('YlOrRd')\n",
    "colors = cmap(np.linspace(0, 1, len(uneven_levels) - 1))\n",
    "cmap, norm = mcolors.from_levels_and_colors(uneven_levels, colors)\n",
    "\n",
    "# Setting things up for cartopy\n",
    "xmin, ymin, xmax, ymax = list(dataset.bounds)\n",
    "\n",
    "fig = plt.figure(figsize = (10, 14))\n",
    "ax = fig.add_subplot(1, 1, 1, projection = ccrs.Mollweide())\n",
    "ax.add_feature(cartopy.feature.BORDERS, linewidth = 0.5, zorder = 20)\n",
    "ax.add_feature(cartopy.feature.COASTLINE, linewidth = 0.5, zorder = 20)\n",
    "\n",
    "gl = ax.gridlines(crs = ccrs.PlateCarree(), draw_labels = False, linewidth = 0.5, color = 'gray', alpha = 0.5, zorder = 0)\n",
    "\n",
    "# Plotting the data\n",
    "im = ax.imshow(data.squeeze(), \n",
    "               cmap = cmap, norm = norm, \n",
    "               origin = 'upper', transform = ccrs.PlateCarree(), extent = [xmin, xmax, ymin, ymax],\n",
    "               zorder = 10)\n",
    "\n",
    "plt.colorbar(im, ax = ax, fraction = 0.025, pad = 0.04, orientation = 'horizontal')\n",
    "\n",
    "# plt.savefig('/Users/emiliolr/Desktop/pop_density_map.png', bbox_inches = 'tight', dpi = 300)\n",
    "plt.show();"
   ]
  },
  {
   "cell_type": "markdown",
   "id": "45cec09d-f2cb-4eaa-964d-a86aa48ba407",
   "metadata": {},
   "source": [
    "# Extracting pixel values for a study location\n",
    "\n",
    "Here, we don't need to re-project the coordinates since the data is already in WGS84 format. For others, we might need to project the desired lat/lon into coordinates for the data's CRS, then index."
   ]
  },
  {
   "cell_type": "code",
   "execution_count": null,
   "id": "ab7edad6-d9d6-4edf-a1ef-9c4f1eae62a3",
   "metadata": {},
   "outputs": [],
   "source": [
    "# Grabbing a window around a desired lat/lon for a sanity check \n",
    "lat, lon = 38.8816, -77.0910 # Arlington, VA\n",
    "N = 800\n",
    "\n",
    "with rasterio.open(data_path) as dataset:\n",
    "    py, px = dataset.index(lon, lat)\n",
    "    window = rasterio.windows.Window(px - N // 2, py - N // 2, N, N)\n",
    "    clip = dataset.read(1, window = window)\n",
    "\n",
    "clip[clip < 0] = np.nan"
   ]
  },
  {
   "cell_type": "code",
   "execution_count": null,
   "id": "50fbf7bb-2137-46e9-af6f-be571ab5b350",
   "metadata": {},
   "outputs": [],
   "source": [
    "# This looks correct to me\n",
    "plt.scatter([N // 2], [N // 2], s = 50, c = 'blue', edgecolor = 'white', zorder = 10)\n",
    "plt.imshow(clip, cmap = cmap, norm = norm, zorder = 0)\n",
    "plt.colorbar();"
   ]
  },
  {
   "cell_type": "markdown",
   "id": "7b07a7ee-8f24-4f68-9ddf-0f277ed975c1",
   "metadata": {},
   "source": [
    "## Trying to extend the above to a script using Benitez-Lopez study locations\n",
    "\n",
    "Basically, we'd like to grab the pixel value for all study locations and then store them in a tabular format... porbably using `pandas` along the way."
   ]
  },
  {
   "cell_type": "code",
   "execution_count": null,
   "id": "d528c8cd-eeee-4dde-809c-ddc51e13c2ea",
   "metadata": {},
   "outputs": [],
   "source": []
  }
 ],
 "metadata": {
  "kernelspec": {
   "display_name": "Python 3 (ipykernel)",
   "language": "python",
   "name": "python3"
  },
  "language_info": {
   "codemirror_mode": {
    "name": "ipython",
    "version": 3
   },
   "file_extension": ".py",
   "mimetype": "text/x-python",
   "name": "python",
   "nbconvert_exporter": "python",
   "pygments_lexer": "ipython3",
   "version": "3.12.2"
  }
 },
 "nbformat": 4,
 "nbformat_minor": 5
}
