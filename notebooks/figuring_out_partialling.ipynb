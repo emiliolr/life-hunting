{
 "cells": [
  {
   "cell_type": "code",
   "execution_count": 52,
   "id": "89b4c1bd-7d01-4487-a504-39ce78e6cea0",
   "metadata": {},
   "outputs": [],
   "source": [
    "import numpy as np\n",
    "import matplotlib.pyplot as plt"
   ]
  },
  {
   "cell_type": "code",
   "execution_count": 53,
   "id": "2edf74e3-bd63-444e-a4ea-5f772a4a0f89",
   "metadata": {},
   "outputs": [],
   "source": [
    "def shapley_ish_value(aoh_hum_abs, aoh_interest, aoh_other, aoh_joint):\n",
    "    return (1 / 2) * ((aoh_interest - aoh_hum_abs) + (aoh_joint - aoh_other))"
   ]
  },
  {
   "cell_type": "code",
   "execution_count": 62,
   "id": "4de4acef-b195-4b0d-ac3f-7a038f7d5df5",
   "metadata": {},
   "outputs": [],
   "source": [
    "hum_abs = np.array([[1, 1, 1], [1, 1, 1], [1, 1, 1]])\n",
    "hunt = np.array([[0.8, 1, 1.1], [0.4, 0.3, 0.8], [1, 0.8, 1]])\n",
    "hl = np.array([[0.5, 1.2, 0.9], [0.5, 0.8, 1], [1, 0.8, 1]])\n",
    "joint = hunt * hl\n",
    "\n",
    "hunt_partial = shapley_ish_value(hum_abs, hunt, hl, joint)\n",
    "hl_partial = shapley_ish_value(hum_abs, hl, hunt, joint)"
   ]
  },
  {
   "cell_type": "code",
   "execution_count": 66,
   "id": "aa0587ac-edd8-4870-87c2-9c52f242f73f",
   "metadata": {},
   "outputs": [
    {
     "data": {
      "text/plain": [
       "array([[ True,  True,  True],\n",
       "       [ True,  True,  True],\n",
       "       [ True,  True,  True]])"
      ]
     },
     "execution_count": 66,
     "metadata": {},
     "output_type": "execute_result"
    }
   ],
   "source": [
    "np.isclose((hunt_partial + hl_partial), (joint - hum_abs))"
   ]
  },
  {
   "cell_type": "code",
   "execution_count": 54,
   "id": "f7551b17-800a-4d22-ac26-ba045deefa4d",
   "metadata": {},
   "outputs": [
    {
     "data": {
      "image/png": "[encoded data removed]",
      "text/plain": [
       "<Figure size 800x800 with 2 Axes>"
      ]
     },
     "metadata": {},
     "output_type": "display_data"
    }
   ],
   "source": [
    "n = 8\n",
    "\n",
    "aoh_hum_abs = 1\n",
    "aoh_interest = np.linspace(0, 1, num = n)\n",
    "aoh_other = np.linspace(0, 1, num = n)\n",
    "\n",
    "delta_aoh_joint = np.zeros((n, n))\n",
    "shap_interest = np.zeros((n, n))\n",
    "shap_other = np.zeros((n, n))\n",
    "\n",
    "for i, interest in enumerate(aoh_interest):\n",
    "    for j, other in enumerate(aoh_other):\n",
    "        joint = 1 * (interest * other)\n",
    "        delta_aoh_joint[i, j] = joint - 1\n",
    "        \n",
    "        val = shapley_ish_value(aoh_hum_abs, interest, other, joint)\n",
    "        shap_interest[i, j] = val\n",
    "\n",
    "        val = shapley_ish_value(aoh_hum_abs, other, interest, joint)\n",
    "        shap_other[i, j] = val\n",
    "\n",
    "plt.figure(figsize = (8, 8))\n",
    "plt.imshow(shap_interest)\n",
    "\n",
    "plt.xticks([i for i in range(n)], labels = np.round(aoh_other, 2))\n",
    "plt.xlabel('OTHER', weight = 'bold')\n",
    "\n",
    "plt.yticks([i for i in range(n)], labels = np.round(aoh_interest, 2))\n",
    "plt.ylabel('INTEREST', weight = 'bold')\n",
    "\n",
    "plt.colorbar()\n",
    "plt.show()"
   ]
  },
  {
   "cell_type": "code",
   "execution_count": 55,
   "id": "922c7d1f-9234-4df0-9bc8-05e4b1041f46",
   "metadata": {},
   "outputs": [
    {
     "name": "stdout",
     "output_type": "stream",
     "text": [
      "SHAP values add up to delta AOH joint? True\n"
     ]
    }
   ],
   "source": [
    "adds_up = ((np.isclose((shap_interest + shap_other), delta_aoh_joint)).sum() == (n * n))\n",
    "print('SHAP values add up to delta AOH joint?', adds_up)"
   ]
  },
  {
   "cell_type": "code",
   "execution_count": 56,
   "id": "b625aca4-7696-480d-87ef-70e5c9506f35",
   "metadata": {},
   "outputs": [
    {
     "data": {
      "text/plain": [
       "array([-0.5       , -0.48979592, -0.45918367, -0.40816327, -0.33673469,\n",
       "       -0.24489796, -0.13265306,  0.        ])"
      ]
     },
     "execution_count": 56,
     "metadata": {},
     "output_type": "execute_result"
    }
   ],
   "source": [
    "shap_interest.diagonal()"
   ]
  },
  {
   "cell_type": "code",
   "execution_count": 57,
   "id": "bb907bfc-f406-4b82-96c4-2e1292b33264",
   "metadata": {},
   "outputs": [
    {
     "data": {
      "text/plain": [
       "array([-0.5       , -0.48979592, -0.45918367, -0.40816327, -0.33673469,\n",
       "       -0.24489796, -0.13265306,  0.        ])"
      ]
     },
     "execution_count": 57,
     "metadata": {},
     "output_type": "execute_result"
    }
   ],
   "source": [
    "shap_other.diagonal()"
   ]
  },
  {
   "cell_type": "code",
   "execution_count": null,
   "id": "82fd71bc-3510-493b-9ebe-3eb8dbd5f00c",
   "metadata": {},
   "outputs": [],
   "source": []
  }
 ],
 "metadata": {
  "kernelspec": {
   "display_name": "Python 3 (ipykernel)",
   "language": "python",
   "name": "python3"
  },
  "language_info": {
   "codemirror_mode": {
    "name": "ipython",
    "version": 3
   },
   "file_extension": ".py",
   "mimetype": "text/x-python",
   "name": "python",
   "nbconvert_exporter": "python",
   "pygments_lexer": "ipython3",
   "version": "3.12.2"
  }
 },
 "nbformat": 4,
 "nbformat_minor": 5
}
